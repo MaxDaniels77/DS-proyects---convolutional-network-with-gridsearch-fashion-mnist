{
  "cells": [
    {
      "attachments": {},
      "cell_type": "markdown",
      "metadata": {
        "id": "CcdBuVCde4Xx"
      },
      "source": [
        "# PyTorch: Convolutional Network Fashion- MNIST\n",
        "\n",
        "En este trabajo entrenaremos dos redes neuronales utilizando el framework  ``Pytorch``. Analizaremos la tarea de clasificación de imágenes, utilizando para ello dos arquitecturas diferentes: redes **feed-forward** (perceptrón con una capa unica y sin convolucionar) y redes **convolucionales**.\n",
        "\n",
        "<!-- **Nota:** Esta es una adaptación de un colab provisto en clase.  -->\n",
        "## Tabla de contenidos\n",
        "\n",
        "- [1. Ojetivos](#objetivos)\n",
        "- [2. Obtención y preparación del dataset](#dataset)\n",
        "    - [2.1. Veamos algunos ejemplos.](#ejemplos)\n",
        "- [3. Creación de los modelos](#creacion_modelo)\n",
        "    - [3.1 Red con una unica capa oculta](#modelo1)\n",
        "    - [3.2 Red Convolucional](#modelo2)\n",
        "- [4. Comparativa SGD vs ADAM](#comparativa)\n",
        "    - [4.1. SGD](#entrenamiento_sgd)\n",
        "    - [4.2. ADAM](#entrenamiento_adam)\n",
        "- [5. Caso de uso](#ruido_gaussiano)\n",
        "    - [5.1. Comparativa aleatoria](#aleat)\n",
        "    - [5.2. Comparativa arbitraria](#arb)\n",
        "- [6. Refs](#refs)\n",
        "\n"
      ]
    },
    {
      "attachments": {},
      "cell_type": "markdown",
      "metadata": {},
      "source": [
        "<a id=\"objetivos\"></a>\n",
        "## Objetivos\n",
        "\n",
        "A) Implementá una red neuronal fedforward multicapa y convolucional para aprender a clasificar las imágenes de la base de datos Fashion-MNIST. La red debe tener 784 unidades de entrada y 10 de salida. Definı́ la arquitectura que creas adecuada (número de capas, tamaños de las capas, unidades de activación, dropout, etc). Elegı́ la función de pérdida que creas adecuada, y usá el algoritmo de descenso por el gradiente que creas más conveniente según tu entender.\n",
        "\n",
        "B) Elegı́ la función de pérdida que creas adecuada, y usá el algoritmo de descenso por el gradiente que\n",
        "creas más conveniente para entrenear a la red.\n",
        "\n",
        "C) Utilizando los conceptos de conjuntos de entrenamiento, validación y prueba, compará el rendimiento\n",
        "de la red convolucional profunda con los mejores resultados obtenidos con una red de una sola capa oculta\n",
        "y sin convolución y comentá."
      ]
    },
    {
      "cell_type": "markdown",
      "metadata": {
        "id": "UwkdfawAfcgU"
      },
      "source": [
        "## Importando librerías\n",
        "\n",
        "Importamos librerías, configuramos los gráficos, etc."
      ]
    },
    {
      "cell_type": "code",
      "execution_count": 1,
      "metadata": {
        "id": "L4_wgefEk8ZY"
      },
      "outputs": [],
      "source": [
        "import numpy as np                          ## Computación científica (vectores, matrices, etc.)\n",
        "import pandas as pd                         ## pandas\n",
        "\n",
        "from tqdm.notebook import tqdm              ## Barras de progreso\n",
        "\n",
        "import pickle                               ## Para guardar en y leer de archivos, objetos de Python\n",
        "\n",
        "import torch                                ## Framework de redes neturonales\n",
        "from torch import nn                        ## Clases de redes neuronales\n",
        "from torch.nn.functional import softmax\n",
        "from torch.utils.data import DataLoader\n",
        "from torchvision import datasets\n",
        "\n",
        "## Convierte una imagen en un tensor de PyTorch, normalizado en el rango [0, 1]\n",
        "from torchvision.transforms import ToTensor\n",
        "\n",
        "## Librerías de visualización\n",
        "import matplotlib.pyplot as plt             ## Gráficos varios\n",
        "import seaborn as sns                       ## Gráficos más específicos\n",
        "\n",
        "## Configuración general\n",
        "sns.set()                                   \n",
        "sns.set_context('talk')\n",
        "%matplotlib inline"
      ]
    },
    {
      "cell_type": "markdown",
      "metadata": {
        "id": "QDvAZDExWbeA"
      },
      "source": [
        "Vemos si la GPU está disponible. Si lo está, la utilizaremos, y si no, usaremos una CPU."
      ]
    },
    {
      "cell_type": "code",
      "execution_count": 2,
      "metadata": {
        "colab": {
          "base_uri": "https://localhost:8080/",
          "height": 36
        },
        "id": "oPfKVhIzWZ1E",
        "outputId": "60d8c261-800b-42e0-dbe4-f343380a9b86"
      },
      "outputs": [
        {
          "data": {
            "text/plain": [
              "'cpu'"
            ]
          },
          "execution_count": 2,
          "metadata": {},
          "output_type": "execute_result"
        }
      ],
      "source": [
        "## Elegimos si usar CPU o GPU para los cálculos\n",
        "device = \"cuda\" if torch.cuda.is_available() else \"cpu\"\n",
        "device"
      ]
    },
    {
      "attachments": {},
      "cell_type": "markdown",
      "metadata": {
        "id": "FT_zim6tf65H"
      },
      "source": [
        "<a id=\"dataset\"></a>\n",
        "## Obtención y preparación del dataset\n",
        "\n",
        "Como el dataset es relativamente pequeño, lo descargamos en el momento y lo almacenamos en una carpeta local temporal. Al cerrar la sesión, los archivos serán eliminados.\n",
        "\n",
        "\n",
        "\n"
      ]
    },
    {
      "cell_type": "code",
      "execution_count": 3,
      "metadata": {
        "colab": {
          "base_uri": "https://localhost:8080/",
          "height": 443,
          "referenced_widgets": [
            "7220146c77734618adc25a3c4677995b",
            "fb83bb14d1fb48b4a3c803a79e8de320",
            "eb02687d65dc40c6b3fedfaf6447664b",
            "ecf349a24d8c4f488c657e2cf5631991",
            "9f11f8dd1ec54a95a36f14dfcceee622",
            "c23a46a1f0bc440ca645a1c67d9e569d",
            "fee9eb554c2a4a54b4dee30e2d8624f9",
            "aa70a674da09469298aa18fd38e5a3dd",
            "42fe717f238144dab7db13fbe0c7ad49",
            "8b3b8e2b0fc348509d2bb0f289d0fd6c",
            "171b2f2ab7ae4dae8795c0f5026221af",
            "ecbab07c1ff94306bc3223e003ba7e6d",
            "9dbd131dcb1048a8b7a512e68c8164c3",
            "a1e2310ada11416380ccdae6a9526fb0",
            "17c1ad1186944afa861ab919ae7fd6f8",
            "4251ec30208247d7bf933fc96928a67b",
            "d639f69f8aa645238e81e164beb64786",
            "61ae700b78374c4f875ed91dd7169ff7",
            "b2f6f2e94b7e49b6a617fdffce627f55",
            "81e7f1955fd44f988e1e558db8ef6fc6",
            "2cefa7ecb6d140d589b6c35839410ae0",
            "020c4ebb405245079ae6d2eeb3f5ab44",
            "d18cd8ba77a041e9b7f986f6a10a9089",
            "30e7a9cf089745b4936af8df5727b646",
            "47d355af9fd64168b13ecd5d0267439a",
            "589d9a40396d4f40b1d8e0d8e19f70d8",
            "402321aba5364603a2fe8ec2d0602a9c",
            "139a571b44d8467dad3ff988e2317d98",
            "5c944b8a71cd4d2a9f0b1329081e242a",
            "42e8040b2eba4dcfae18fd43965b9905",
            "fc8d247c70004b5797ae4cf786ec389b",
            "3a2614ab19c544d78a81cf9c72ddaded",
            "a76206268d1540d59e2f7584e24f8fdc",
            "e4f8682349734a8ebbfdf39c9b3ff976",
            "c3c083b915124aa3ac069a44122d24c9",
            "f025d85193744c6ba6fc4115a22be8a5",
            "8833ab479835449eb98861bcf33991cc",
            "c410a702d48643be996548aaa64ca501",
            "3f508985d8324f14b63579a720a16cfb",
            "18fb16907465448395a67e0daeb1d7bc",
            "fc2d9ccb1a0d434baf561ff3a7bbe234",
            "a3110445ecde4d60b2ace874c6c32030",
            "6fb4dd31f7624d459104e5807e823714",
            "33796a7dcd5f4cbd9a15e3c6e2bd0729"
          ]
        },
        "id": "86bX0V_3f9km",
        "outputId": "2d27e695-ffdd-4d0e-a84b-58b56df51394"
      },
      "outputs": [],
      "source": [
        "## Descargamos el conjunto de entrenamiento\n",
        "training_data = datasets.FashionMNIST(\n",
        "    root=\"data\",          ## Carpeta de descarga\n",
        "    train=True,           ## Elegimos el conjunto de entrenamiento\n",
        "    download=True,        ## Pedimos que lo descargue\n",
        "    transform=ToTensor()  ## Lo transformamos en un \"tensor\" normalizado entre 0 y 1\n",
        ")\n",
        "\n",
        "## Descargamos el conjunto de evaluación\n",
        "test_data = datasets.FashionMNIST(\n",
        "    root=\"data\",\n",
        "    train=False,\n",
        "    download=True,\n",
        "    transform=ToTensor()\n",
        ")"
      ]
    },
    {
      "cell_type": "markdown",
      "metadata": {
        "id": "68BzUv7egEcN"
      },
      "source": [
        "Vemos cómo está estructurado el dataset"
      ]
    },
    {
      "cell_type": "code",
      "execution_count": 4,
      "metadata": {
        "colab": {
          "base_uri": "https://localhost:8080/"
        },
        "id": "UNbVA_-rf--G",
        "outputId": "064ef73f-7bd0-4b7b-878e-542a32016960"
      },
      "outputs": [
        {
          "name": "stdout",
          "output_type": "stream",
          "text": [
            "Dataset FashionMNIST\n",
            "    Number of datapoints: 60000\n",
            "    Root location: data\n",
            "    Split: Train\n",
            "    StandardTransform\n",
            "Transform: ToTensor()\n",
            "---------\n",
            "\n",
            "Dataset FashionMNIST\n",
            "    Number of datapoints: 10000\n",
            "    Root location: data\n",
            "    Split: Test\n",
            "    StandardTransform\n",
            "Transform: ToTensor()\n",
            "---------\n"
          ]
        }
      ],
      "source": [
        "print(training_data, end='\\n---------\\n\\n')\n",
        "print(test_data, end='\\n---------\\n')"
      ]
    },
    {
      "attachments": {},
      "cell_type": "markdown",
      "metadata": {
        "id": "KXTmRGVQgKqF"
      },
      "source": [
        "<a id=\"ejemplos\"></a>\n",
        "### Veamos algunos ejemplos.\n",
        "\n",
        "Graficamos al azar algunas imágenes, con sus correspondientes etiquetas."
      ]
    },
    {
      "cell_type": "code",
      "execution_count": 5,
      "metadata": {
        "colab": {
          "base_uri": "https://localhost:8080/",
          "height": 486
        },
        "id": "JO7-jv2WgGm7",
        "outputId": "ec38d066-23b8-46fe-bdc7-560fa1ae4833"
      },
      "outputs": [
        {
          "data": {
            "image/png": "[encoded data removed]",
            "text/plain": [
              "<Figure size 1000x600 with 12 Axes>"
            ]
          },
          "metadata": {},
          "output_type": "display_data"
        }
      ],
      "source": [
        "## Definimos el diccionario de etiquetas\n",
        "labels_map = {\n",
        "    0: \"T-Shirt\",\n",
        "    1: \"Trouser\",\n",
        "    2: \"Pullover\",\n",
        "    3: \"Dress\",\n",
        "    4: \"Coat\",\n",
        "    5: \"Sandal\",\n",
        "    6: \"Shirt\",\n",
        "    7: \"Sneaker\",\n",
        "    8: \"Bag\",\n",
        "    9: \"Ankle Boot\",\n",
        "}\n",
        "\n",
        "# Esto lo puedo pasar a una funcion si lo voy a usar recurrentemente\n",
        "\n",
        "## Construimos el gráfico\n",
        "figure = plt.figure(figsize=(10, 6))\n",
        "cols, rows = 4, 3\n",
        "for i in range(1, cols*rows + 1):\n",
        "    ## Elegimos muestras al azar para visualizar\n",
        "    sample_idx = torch.randint(len(training_data), size=(1,)).item()\n",
        "    img, label = training_data[sample_idx]\n",
        "    figure.add_subplot(rows, cols, i)\n",
        "    plt.title(labels_map[label])\n",
        "    plt.axis(\"off\")\n",
        "    plt.imshow(\n",
        "        ## El método squeeze elimina dimensiones con un\n",
        "        ## sólo elemento. En este caso, la dimensión C\n",
        "        ## (channel). Esta dimensión es trivial porque\n",
        "        ## las imágenes son en escala de grises. Si fuese\n",
        "        ## RGB, tendríamos 3 canales, uno para cada color.\n",
        "        img.squeeze(), \n",
        "        cmap=\"gray\"\n",
        "    )\n",
        "plt.show()"
      ]
    },
    {
      "attachments": {},
      "cell_type": "markdown",
      "metadata": {},
      "source": [
        "El dataset esta balanceado? "
      ]
    },
    {
      "cell_type": "code",
      "execution_count": 6,
      "metadata": {},
      "outputs": [],
      "source": [
        "train_labels = pd.Series([training_data[i][1] for i in range(len(training_data))])\n",
        "test_labels = pd.Series([test_data[i][1] for i in range(len(test_data))])"
      ]
    },
    {
      "cell_type": "code",
      "execution_count": 7,
      "metadata": {},
      "outputs": [
        {
          "data": {
            "image/png": "[encoded data removed]",
            "text/plain": [
              "<Figure size 1400x600 with 2 Axes>"
            ]
          },
          "metadata": {},
          "output_type": "display_data"
        }
      ],
      "source": [
        "train_count= train_labels.value_counts()\n",
        "test_count= test_labels.value_counts()\n",
        "#define Seaborn color palette to use\n",
        "colors = sns.color_palette('pastel')[0:len(train_count)]\n",
        "fig, ax = plt.subplots(1,2,figsize=(14,6))\n",
        "#create pie chart\n",
        "ax[0].pie(train_count, labels = train_count.index.map(labels_map), colors = colors, autopct='%.0f%%')\n",
        "ax[0].set_title(\"Train\")\n",
        "ax[1].pie(test_count, labels = test_count.index.map(labels_map), colors = colors, autopct='%.0f%%')\n",
        "ax[1].set_title(\"Test\")\n",
        "plt.show()\n",
        " "
      ]
    },
    {
      "cell_type": "markdown",
      "metadata": {
        "id": "4MuoUCwGgJaI"
      },
      "source": [
        "Pasamos el ``Dataset`` como argumento a  ``DataLoader``. De esta manera encapsulamos el dataset en un iterable que soporta varias operaciones útiles, como trabajar por batch, hacer sampling, paralelizar el cómputo, etc.\n",
        "\n",
        "Elegimos un tamaño de batch de 64 ejemplos. Cada elemento que nos devuelva el iterable va a contener 64 ejemplos con sus atributos y sus etiquetas."
      ]
    },
    {
      "cell_type": "code",
      "execution_count": 8,
      "metadata": {
        "colab": {
          "base_uri": "https://localhost:8080/"
        },
        "id": "qShEFFqXgP56",
        "outputId": "036f39d5-91aa-4ca9-980d-9556cfca5336"
      },
      "outputs": [
        {
          "name": "stdout",
          "output_type": "stream",
          "text": [
            "Dimensiones de X [N, C, H, W]:  torch.Size([64, 1, 28, 28])\n",
            "Dimensiones de y:  torch.Size([64]) torch.int64\n"
          ]
        }
      ],
      "source": [
        "batch_size = 64\n",
        "\n",
        "## Creamos los data loaders.\n",
        "train_dataloader = DataLoader(training_data, batch_size=batch_size)\n",
        "test_dataloader = DataLoader(test_data, batch_size=batch_size)\n",
        "\n",
        "for X, y in test_dataloader:\n",
        "    print(\"Dimensiones de X [N, C, H, W]: \", X.shape)\n",
        "    print(\"Dimensiones de y: \", y.shape, y.dtype)\n",
        "    break"
      ]
    },
    {
      "attachments": {},
      "cell_type": "markdown",
      "metadata": {
        "id": "U9gfRw94gSS2"
      },
      "source": [
        "<a id=\"creacion_modelo\"></a>\n",
        "## Creamos el modelo\n",
        "\n",
        "Todos los modelos en `pytorch` se definen como subclases de una clase genérica llamada `Module`.\n",
        "\n",
        "Nuestro **primer modelo** será una red de tipo **perceptrón multicapa**, con una capa oculta y función de activación de tipo **Rectified Linear Unit (ReLU)**.\n",
        "\n",
        "![picture](https://static.packt-cdn.com/products/9781786468574/graphics/B05474_04_05.jpg)"
      ]
    },
    {
      "cell_type": "markdown",
      "metadata": {
        "id": "uYR3JFLOWLrd"
      },
      "source": [
        "\n",
        "El segundo modelo será una **red convolucional profunda**, con la misma función de activación\n",
        "\n",
        "![picture](https://miro.medium.com/max/2000/1*7K4ZTTfZb-hbjoADbisHAg.png)"
      ]
    },
    {
      "attachments": {},
      "cell_type": "markdown",
      "metadata": {},
      "source": [
        "<a id=\"modelo1\"></a>\n",
        "### Red con una unica capa oculta"
      ]
    },
    {
      "cell_type": "code",
      "execution_count": 9,
      "metadata": {
        "colab": {
          "base_uri": "https://localhost:8080/"
        },
        "id": "RVyq_P77gaQ-",
        "outputId": "20c2d16e-f190-4010-b6c4-f3ee1a98b727"
      },
      "outputs": [],
      "source": [
        "## Definimos el primer modelo\n",
        "class MultiLayerPerceptron(nn.Module):\n",
        "    def __init__(self):\n",
        "        super().__init__()\n",
        "\n",
        "        ## \"Achatamos\" la matriz de 28x28 píxeles, \n",
        "        ## transformandola en un vector de 784 elementos\n",
        "        self.flatten = nn.Flatten()\n",
        "\n",
        "        ## Definimos el perceptrón multicapa con las\n",
        "        ## siguientes capas:\n",
        "        ##\n",
        "        ## Entrada:        784 neuronas\n",
        "        ## 1º capa oculta: 512 neuronas\n",
        "        ## 2º capa oculta: 512 neuronas\n",
        "        ## Salida:         10  neuronas\n",
        "        ##\n",
        "        ## Entre capa y capa, utilizamos función de \n",
        "        ## activación ReLU\n",
        "        self.linear_relu_stack = nn.Sequential(\n",
        "            nn.Linear(28*28, 600),\n",
        "            nn.ReLU(),\n",
        "            nn.Linear(600, 120),\n",
        "            nn.ReLU(),\n",
        "            nn.Linear(120, 10),\n",
        "            nn.ReLU()\n",
        "        )\n",
        "\n",
        "    def forward(self, x):\n",
        "        x = self.flatten(x)\n",
        "        x = self.linear_relu_stack(x)\n",
        "        return x\n"
      ]
    },
    {
      "attachments": {},
      "cell_type": "markdown",
      "metadata": {},
      "source": [
        "<a id=\"modelo2\"></a>\n",
        "### Red convolucional"
      ]
    },
    {
      "cell_type": "code",
      "execution_count": 10,
      "metadata": {},
      "outputs": [],
      "source": [
        "\n",
        "## Definimos el segundo modelo\n",
        "class CNN(nn.Module):\n",
        "    def __init__(self):\n",
        "        super().__init__()\n",
        "\n",
        "        ## Primera capa convolucional:\n",
        "        ## construimos 32 canales usando filtros (kernels) de 3x3\n",
        "        self.conv1 = nn.Sequential(         \n",
        "            nn.Conv2d(\n",
        "                in_channels=1,              \n",
        "                out_channels=32,            \n",
        "                kernel_size=3,                                 \n",
        "                padding=1,                  \n",
        "            ),\n",
        "            ## Aplicamos Batch Normalization como regularización\n",
        "            nn.BatchNorm2d(32),\n",
        "            ## Aplicamos la función de activación               \n",
        "            nn.ReLU(),    \n",
        "            ## Reducimos la imagen con Max Pooling                  \n",
        "            nn.MaxPool2d(kernel_size=2, stride=2),    \n",
        "        )\n",
        "\n",
        "        ## Segunda capa convolucional:\n",
        "        ## construimos 64 canales usando filtros (kernels) de 3x3\n",
        "        self.conv2 = nn.Sequential(         \n",
        "            nn.Conv2d(\n",
        "                in_channels=32,              \n",
        "                out_channels=64,            \n",
        "                kernel_size=3,                               \n",
        "                padding=0\n",
        "            ),    \n",
        "            nn.BatchNorm2d(64),\n",
        "            nn.ReLU(),                      \n",
        "            nn.MaxPool2d(kernel_size=2, stride=2),                \n",
        "        )\n",
        "\n",
        "        ## \"Achatamos\" la salida de la última capa, de 64 canales \n",
        "        ## de tamaño 6x6, transformandola en un vector de 64*6*6 elementos\n",
        "        self.flatten = nn.Flatten()\n",
        "\n",
        "        ## Después de las capas convoulucionales,\n",
        "        ## agregamos algunas capas densas. La última, de 10\n",
        "        ## neurnonas, es nuestra capa de salida\n",
        "        self.linear_relu_stack = nn.Sequential(\n",
        "            nn.Linear(64 * 6 * 6, 600),\n",
        "            nn.Dropout(0.25), \n",
        "            nn.ReLU(),\n",
        "            nn.Linear(600, 120),\n",
        "            nn.Dropout(0.25), ## Regularizamos con dropout después de cada capa\n",
        "            nn.ReLU(),\n",
        "            nn.Linear(120, 10),\n",
        "            nn.Dropout(0.25), \n",
        "            nn.ReLU() \n",
        "        )\n",
        "\n",
        "    def forward(self, x):\n",
        "        x = self.conv1(x)\n",
        "        x = self.conv2(x)\n",
        "        x = self.flatten(x)     \n",
        "        x = self.linear_relu_stack(x)\n",
        "        return x\n"
      ]
    },
    {
      "cell_type": "code",
      "execution_count": 11,
      "metadata": {},
      "outputs": [
        {
          "name": "stdout",
          "output_type": "stream",
          "text": [
            "CNN(\n",
            "  (conv1): Sequential(\n",
            "    (0): Conv2d(1, 32, kernel_size=(3, 3), stride=(1, 1), padding=(1, 1))\n",
            "    (1): BatchNorm2d(32, eps=1e-05, momentum=0.1, affine=True, track_running_stats=True)\n",
            "    (2): ReLU()\n",
            "    (3): MaxPool2d(kernel_size=2, stride=2, padding=0, dilation=1, ceil_mode=False)\n",
            "  )\n",
            "  (conv2): Sequential(\n",
            "    (0): Conv2d(32, 64, kernel_size=(3, 3), stride=(1, 1))\n",
            "    (1): BatchNorm2d(64, eps=1e-05, momentum=0.1, affine=True, track_running_stats=True)\n",
            "    (2): ReLU()\n",
            "    (3): MaxPool2d(kernel_size=2, stride=2, padding=0, dilation=1, ceil_mode=False)\n",
            "  )\n",
            "  (flatten): Flatten(start_dim=1, end_dim=-1)\n",
            "  (linear_relu_stack): Sequential(\n",
            "    (0): Linear(in_features=2304, out_features=600, bias=True)\n",
            "    (1): Dropout(p=0.25, inplace=False)\n",
            "    (2): ReLU()\n",
            "    (3): Linear(in_features=600, out_features=120, bias=True)\n",
            "    (4): Dropout(p=0.25, inplace=False)\n",
            "    (5): ReLU()\n",
            "    (6): Linear(in_features=120, out_features=10, bias=True)\n",
            "    (7): Dropout(p=0.25, inplace=False)\n",
            "    (8): ReLU()\n",
            "  )\n",
            ")\n"
          ]
        }
      ],
      "source": [
        "\n",
        "## Creamos una instancia de nuestro modelo\n",
        "## (un objeto de la clase correspondiente)\n",
        "#\n",
        "# model = MultiLayerPerceptron()\n",
        "# model_name = \"MLP\" # Multi Layer Perceptron\n",
        "#\n",
        "model = CNN()\n",
        "model_name = \"CNN\" # Convolutional Neuronal Network\n",
        "\n",
        "## \"enviamos\" el modelo a la GPU o a la CPU, \n",
        "## según esté disponible\n",
        "model.to(device)\n",
        "\n",
        "print(model)"
      ]
    },
    {
      "cell_type": "markdown",
      "metadata": {
        "id": "2mgJNaiMgd5p"
      },
      "source": [
        "## Entrenamiento del modelo\n",
        "\n",
        "Para entrenar el modelo, necesitamos definir una `función error` (loss function) y un `optimizador` (el algoritmo que intentará minimizar el error).\n",
        "\n",
        "La función de costo que elegimos es la *Cross Entropy*, y el optimizador que elegimos es *Adam*."
      ]
    },
    {
      "cell_type": "code",
      "execution_count": 12,
      "metadata": {
        "id": "xNHHf2HAgexa"
      },
      "outputs": [],
      "source": [
        "## Definimos la función error o \"loss\"\n",
        "loss_fn = nn.CrossEntropyLoss()\n",
        "loss_fn_name = 'CrossEntropy'\n",
        "\n",
        "## Definimos el optimizador\n",
        "## Una opción es usar el SGD\n",
        "#learning_rate = 1e-2 \n",
        "#momentum = 0.5\n",
        "#sgd_optimizer = torch.optim.SGD(\n",
        "#    model.parameters(), \n",
        "#    lr=learning_rate, \n",
        "#    momentum=momentum\n",
        "#)\n",
        "# Otra opción es Adam\n",
        "learning_rate = 0.001\n",
        "adam_optimizer = torch.optim.Adam(\n",
        "    model.parameters(),\n",
        "    lr=learning_rate\n",
        ")\n",
        "\n",
        "## Para la red Feed-Forward elegimos este\n",
        "#optimizer = sgd_optimizer\n",
        "\n",
        "## Para la CNN funciona mejor este\n",
        "optimizer = adam_optimizer"
      ]
    },
    {
      "cell_type": "markdown",
      "metadata": {
        "id": "rnkbcJ0HgiOK"
      },
      "source": [
        "Para cada ciclo de entrenamiento, el modelo hace predicciones sobre el conjunto de entrenamiento, el cual se presenta en lotes (batchs), y hace *backpropagation* del error obtenido para ajustar los parámetros."
      ]
    },
    {
      "cell_type": "code",
      "execution_count": 13,
      "metadata": {
        "id": "CJX_EG0Qghst"
      },
      "outputs": [],
      "source": [
        "def train(dataloader, model, loss_fn, optimizer):\n",
        "    \"\"\"\n",
        "    Entrena el modelo una época.\n",
        "    \"\"\"\n",
        "    size = len(dataloader.dataset)\n",
        "    model.train()\n",
        "    for batch, (X, y) in enumerate(dataloader):\n",
        "        X, y = X.to(device), y.to(device)\n",
        "        \n",
        "        batch_size = X.shape[0]\n",
        "        \n",
        "        ## Calculamos el error en la predicción\n",
        "        pred = model(X)\n",
        "        true = y\n",
        "        loss = loss_fn(pred, true)\n",
        "\n",
        "        ## Ajustamos los pesos haciendo backpropagation\n",
        "        optimizer.zero_grad()\n",
        "        loss.backward()\n",
        "        optimizer.step()\n",
        "        \n",
        "        if batch % 100 == 0:\n",
        "            train_loss = loss.item() / batch_size\n",
        "            current = batch * batch_size\n",
        "            print(f\"loss: {train_loss:>7f}  [{current:>5d}/{size:>5d}]\")\n",
        "        "
      ]
    },
    {
      "cell_type": "markdown",
      "metadata": {
        "id": "dqMc6Ea0gn6V"
      },
      "source": [
        "También evaluamos el desempeño del modelo con respecto al conjunto de validación para asegurarnos de que esté aprendiendo.\n"
      ]
    },
    {
      "cell_type": "code",
      "execution_count": 14,
      "metadata": {
        "id": "spslMx6Hgoqm"
      },
      "outputs": [],
      "source": [
        "def test(dataloader, model, loss_fn, verbose=True):\n",
        "    \"\"\"\n",
        "    Evalúa el modelo sobre los datos presentados en el parámetro \"dataloader\",\n",
        "    y calcula las métricas correspondientes.\n",
        "    \"\"\"\n",
        "    size = len(dataloader.dataset)\n",
        "    test_loss, correct = 0, 0\n",
        "    model.eval()\n",
        "    with torch.no_grad():\n",
        "        for X, y in dataloader:\n",
        "            X, y = X.to(device), y.to(device)\n",
        "            y_pred = model(X)\n",
        "            test_loss += loss_fn(y_pred, y).item()\n",
        "            correct += (y_pred.argmax(1) == y).type(torch.float).sum().item()\n",
        "    test_loss /= size\n",
        "    correct /= size\n",
        "    accuracy = 100*correct\n",
        "    if verbose:\n",
        "      print(f\"Accuracy: {(100*correct):>0.2f}%, Avg loss: {test_loss:>8f}\")\n",
        "\n",
        "    return test_loss, accuracy"
      ]
    },
    {
      "cell_type": "markdown",
      "metadata": {
        "id": "woFzMw2hgse5"
      },
      "source": [
        "El proceso de entrenamiento se lleva a cabo en iteraciones llamadas épocas. Durante cada época, el modelo ajusta los parámetros para mejorar la predicción.\n",
        "\n",
        "Imprimimos la precisión del modelo y la loss para cada época. Lo ideal es que la predicción aumente y que la loss disminuya con cada época."
      ]
    },
    {
      "cell_type": "code",
      "execution_count": 15,
      "metadata": {
        "colab": {
          "base_uri": "https://localhost:8080/"
        },
        "id": "MxFqqHU1gs1m",
        "outputId": "3c04cb5b-5f8e-4421-89d2-fabcb33b4ed1"
      },
      "outputs": [
        {
          "name": "stdout",
          "output_type": "stream",
          "text": [
            "Época 1\n",
            "loss: 0.036023  [    0/60000]\n",
            "loss: 0.024545  [ 6400/60000]\n",
            "loss: 0.015131  [12800/60000]\n",
            "loss: 0.019646  [19200/60000]\n",
            "loss: 0.022471  [25600/60000]\n",
            "loss: 0.018777  [32000/60000]\n",
            "loss: 0.014258  [38400/60000]\n",
            "loss: 0.018688  [44800/60000]\n",
            "loss: 0.015494  [51200/60000]\n",
            "loss: 0.012382  [57600/60000]\n",
            "\n",
            "Train performance:\n",
            "Accuracy: 87.83%, Avg loss: 0.007078\n",
            "Test performance:\n",
            "Accuracy: 86.98%, Avg loss: 0.007605\n",
            "-------------------------------------\n",
            "\n",
            "Época 2\n",
            "loss: 0.016898  [    0/60000]\n",
            "loss: 0.014658  [ 6400/60000]\n",
            "loss: 0.012115  [12800/60000]\n",
            "loss: 0.016530  [19200/60000]\n",
            "loss: 0.016378  [25600/60000]\n",
            "loss: 0.016435  [32000/60000]\n",
            "loss: 0.011065  [38400/60000]\n",
            "loss: 0.016728  [44800/60000]\n",
            "loss: 0.013151  [51200/60000]\n",
            "loss: 0.012651  [57600/60000]\n",
            "\n",
            "Train performance:\n",
            "Accuracy: 89.93%, Avg loss: 0.005790\n",
            "Test performance:\n",
            "Accuracy: 88.52%, Avg loss: 0.006448\n",
            "-------------------------------------\n",
            "\n",
            "Época 3\n",
            "loss: 0.006897  [    0/60000]\n",
            "loss: 0.012838  [ 6400/60000]\n",
            "loss: 0.012182  [12800/60000]\n",
            "loss: 0.014598  [19200/60000]\n",
            "loss: 0.013640  [25600/60000]\n",
            "loss: 0.017161  [32000/60000]\n",
            "loss: 0.010122  [38400/60000]\n",
            "loss: 0.017845  [44800/60000]\n",
            "loss: 0.015888  [51200/60000]\n",
            "loss: 0.012905  [57600/60000]\n",
            "\n",
            "Train performance:\n",
            "Accuracy: 89.84%, Avg loss: 0.005831\n",
            "Test performance:\n",
            "Accuracy: 88.36%, Avg loss: 0.006582\n",
            "-------------------------------------\n",
            "\n",
            "Época 4\n",
            "loss: 0.012733  [    0/60000]\n",
            "loss: 0.013786  [ 6400/60000]\n",
            "loss: 0.010167  [12800/60000]\n",
            "loss: 0.012319  [19200/60000]\n",
            "loss: 0.011143  [25600/60000]\n",
            "loss: 0.012027  [32000/60000]\n",
            "loss: 0.009413  [38400/60000]\n",
            "loss: 0.013478  [44800/60000]\n",
            "loss: 0.014126  [51200/60000]\n",
            "loss: 0.008401  [57600/60000]\n",
            "\n",
            "Train performance:\n",
            "Accuracy: 92.31%, Avg loss: 0.004684\n",
            "Test performance:\n",
            "Accuracy: 90.50%, Avg loss: 0.005666\n",
            "-------------------------------------\n",
            "\n",
            "Época 5\n",
            "loss: 0.011616  [    0/60000]\n",
            "loss: 0.012608  [ 6400/60000]\n",
            "loss: 0.011995  [12800/60000]\n",
            "loss: 0.013466  [19200/60000]\n",
            "loss: 0.018181  [25600/60000]\n",
            "loss: 0.018018  [32000/60000]\n",
            "loss: 0.009631  [38400/60000]\n",
            "loss: 0.011582  [44800/60000]\n",
            "loss: 0.008438  [51200/60000]\n",
            "loss: 0.010553  [57600/60000]\n",
            "\n",
            "Train performance:\n",
            "Accuracy: 93.06%, Avg loss: 0.004268\n",
            "Test performance:\n",
            "Accuracy: 90.78%, Avg loss: 0.005398\n",
            "-------------------------------------\n",
            "\n",
            "Done!\n"
          ]
        }
      ],
      "source": [
        "epochs = 5\n",
        "train_losses = []\n",
        "test_losses = []\n",
        "train_acc_values = []\n",
        "test_acc_values = []\n",
        "for epoch in range(1, epochs+1):\n",
        "    print(f'Época {epoch}')\n",
        "    ## Entreno una época del modelo\n",
        "    train(train_dataloader, model, loss_fn, optimizer)\n",
        "\n",
        "    ## Evaluo sobre el consjunto de entrenamiento\n",
        "    print()\n",
        "    print('Train performance:')\n",
        "    train_loss, train_acc = test(train_dataloader, model, loss_fn)\n",
        "    train_losses.append(train_loss)\n",
        "    train_acc_values.append(train_acc)\n",
        "\n",
        "    ## Evaluo sobre el conjunto de evaluación\n",
        "    print('Test performance:')\n",
        "    test_loss, test_acc = test(test_dataloader, model, loss_fn)\n",
        "    test_losses.append(test_loss)\n",
        "    test_acc_values.append(test_acc)\n",
        "    print('-------------------------------------')\n",
        "    print()\n",
        "\n",
        "print(\"Done!\")"
      ]
    },
    {
      "cell_type": "markdown",
      "metadata": {
        "id": "d-6D7W49g4VW"
      },
      "source": [
        "## Guardamos el modelo\n",
        "\n",
        "Una forma estándar de guardar el modelo es \"serializar\" el diccionario con el estado interno del mismo, el cual contiene los parámetros del modelo."
      ]
    },
    {
      "cell_type": "code",
      "execution_count": 16,
      "metadata": {
        "colab": {
          "base_uri": "https://localhost:8080/"
        },
        "id": "FwiaiCeHg5N5",
        "outputId": "5824915a-537f-4213-d9d6-9d9aed1d2393"
      },
      "outputs": [
        {
          "name": "stdout",
          "output_type": "stream",
          "text": [
            "Saved PyTorch Model State to CNN-model.pth\n"
          ]
        }
      ],
      "source": [
        "filename_model = model_name+\"-model.pth\"\n",
        "\n",
        "torch.save(model.state_dict(),filename_model)\n",
        "print(\"Saved PyTorch Model State to \"+filename_model)"
      ]
    },
    {
      "cell_type": "markdown",
      "metadata": {
        "id": "6oL0iJkTBr1u"
      },
      "source": [
        "## Guardamos las curvas"
      ]
    },
    {
      "cell_type": "code",
      "execution_count": 17,
      "metadata": {
        "id": "MBp3fz_aBq3d"
      },
      "outputs": [],
      "source": [
        "filename_curvas = model_name+\"-curvas.pkl\"\n",
        "\n",
        "with open(filename_curvas,'wb') as fh:\n",
        "    pickle.dump((train_losses,test_losses,train_acc_values,test_acc_values),fh)"
      ]
    },
    {
      "cell_type": "markdown",
      "metadata": {
        "id": "byIwoxfRg7Xa"
      },
      "source": [
        "## Cargamos un modelo guardado\n",
        "\n",
        "Para cargar un modelo almacenado, tenemos que recrear la estructura del modelo (definir una nueva instancia de nuestra clase) y cargar el diccionario con el estado interno (los parámetros)."
      ]
    },
    {
      "cell_type": "code",
      "execution_count": 18,
      "metadata": {
        "colab": {
          "base_uri": "https://localhost:8080/"
        },
        "id": "f3SyUrbcg7vJ",
        "outputId": "b270248a-ea5e-4815-c23f-14ecfdd7e099"
      },
      "outputs": [
        {
          "data": {
            "text/plain": [
              "<All keys matched successfully>"
            ]
          },
          "execution_count": 18,
          "metadata": {},
          "output_type": "execute_result"
        }
      ],
      "source": [
        "# model = MultiLayerPerceptron().to(device)\n",
        "model = CNN().to(device)\n",
        "model.load_state_dict(torch.load(filename_model))"
      ]
    },
    {
      "cell_type": "markdown",
      "metadata": {
        "id": "P1MhiG5sDI4K"
      },
      "source": [
        "## Cargamos las curvas"
      ]
    },
    {
      "cell_type": "code",
      "execution_count": 19,
      "metadata": {
        "id": "wk68eDWlDMmN"
      },
      "outputs": [],
      "source": [
        "with open (filename_curvas,'rb') as fh:\n",
        "    train_losses,test_losses,train_acc_values,test_acc_values = pickle.load(fh)"
      ]
    },
    {
      "cell_type": "markdown",
      "metadata": {
        "id": "ZT7e3G8shDW-"
      },
      "source": [
        "## Observamos las predicciones"
      ]
    },
    {
      "cell_type": "code",
      "execution_count": 20,
      "metadata": {
        "id": "DPR2bkw1hC9K"
      },
      "outputs": [],
      "source": [
        "def plot_img(data, idx):\n",
        "    \"\"\"\n",
        "    Grafica un ejemplo\n",
        "    \"\"\"\n",
        "    figure = plt.figure(figsize=(4, 4))\n",
        "    img, label = data[idx]\n",
        "    plt.axis(\"off\")\n",
        "    plt.imshow(img.squeeze(), cmap=\"gray\")\n",
        "    plt.show()\n",
        "\n",
        "def show_prediction(example):\n",
        "    \"\"\"\n",
        "    Muestra la predicción para un ejemplo\n",
        "    \"\"\"\n",
        "    model.eval()\n",
        "    x, y = test_data[example][0], test_data[example][1]\n",
        "    with torch.no_grad():\n",
        "        pred = model(x.unsqueeze(1).to(device))\n",
        "    sorted = pred.sort()\n",
        "    values = softmax(sorted.values[0], dim=-1)\n",
        "    indices = sorted.indices[0]\n",
        "    print(\n",
        "        f'Etiqueta correcta: {labels_map[y]}', \n",
        "        end='\\n----------------\\n'\n",
        "    )\n",
        "    print('Etiqueta     Probabilidad')\n",
        "    for v, idx in list(zip(values,indices))[::-1]:\n",
        "        label_pred = labels_map[idx.item()]\n",
        "        print(f'{label_pred:13}{v.item():.5f}')"
      ]
    },
    {
      "cell_type": "code",
      "execution_count": 21,
      "metadata": {
        "colab": {
          "base_uri": "https://localhost:8080/",
          "height": 474
        },
        "id": "_m27JGpJhIHy",
        "outputId": "957e1abc-6269-45a1-9c51-ba70851f3316"
      },
      "outputs": [
        {
          "data": {
            "image/png": "[encoded data removed]",
            "text/plain": [
              "<Figure size 400x400 with 1 Axes>"
            ]
          },
          "metadata": {},
          "output_type": "display_data"
        },
        {
          "name": "stdout",
          "output_type": "stream",
          "text": [
            "Etiqueta correcta: Coat\n",
            "----------------\n",
            "Etiqueta     Probabilidad\n",
            "Coat         0.90470\n",
            "Ankle Boot   0.01059\n",
            "Bag          0.01059\n",
            "Sneaker      0.01059\n",
            "Shirt        0.01059\n",
            "Sandal       0.01059\n",
            "Dress        0.01059\n",
            "Pullover     0.01059\n",
            "Trouser      0.01059\n",
            "T-Shirt      0.01059\n"
          ]
        }
      ],
      "source": [
        "example = 10\n",
        "plot_img(test_data, example)\n",
        "show_prediction(example)"
      ]
    },
    {
      "cell_type": "markdown",
      "metadata": {
        "id": "a9ZS0S4fhMBd"
      },
      "source": [
        "## Analizamos el proceso de aprendizaje"
      ]
    },
    {
      "cell_type": "code",
      "execution_count": 22,
      "metadata": {
        "colab": {
          "base_uri": "https://localhost:8080/",
          "height": 432
        },
        "id": "nSrlhwO8hMX9",
        "outputId": "3b5daab7-0e20-433f-e2de-80f3a52d0e23"
      },
      "outputs": [
        {
          "data": {
            "image/png": "[encoded data removed]",
            "text/plain": [
              "<Figure size 1600x600 with 2 Axes>"
            ]
          },
          "metadata": {},
          "output_type": "display_data"
        }
      ],
      "source": [
        "X = range(1, len(train_losses)+1)\n",
        "\n",
        "fig, axes = plt.subplots(figsize=(16, 6), ncols=2)\n",
        "ax = axes[0]\n",
        "ax.set_xlabel('Época')\n",
        "ax.set_ylabel('Error promedio')\n",
        "ax.plot(X, train_losses, label='Train')\n",
        "ax.plot(X, test_losses, label='Test')\n",
        "ax.set_title(model_name)\n",
        "ax.legend()\n",
        "\n",
        "ax = axes[1]\n",
        "ax.set_xlabel('Época')\n",
        "ax.set_ylabel('Accuracy [%]')\n",
        "ax.plot(X, train_acc_values, label='Train')\n",
        "ax.plot(X, test_acc_values, label='Test')\n",
        "ax.set_title(model_name)\n",
        "ax.legend()\n",
        "plt.show()"
      ]
    },
    {
      "cell_type": "code",
      "execution_count": null,
      "metadata": {
        "id": "rQlzdmdZFN24"
      },
      "outputs": [],
      "source": []
    },
    {
      "attachments": {},
      "cell_type": "markdown",
      "metadata": {},
      "source": [
        "#### Referencias:\n",
        "\n",
        "[A Comprehensive Guide to Convolutional Neural Networks](https://towardsdatascience.com/a-comprehensive-guide-to-convolutional-neural-networks-the-eli5-way-3bd2b1164a53)\n",
        "\n",
        "[Documentación de PyTorch](https://pytorch.org/)\n",
        "\n",
        "[Tutoriales](https://pytorch.org/tutorials/beginner/basics/quickstart_tutorial.html)"
      ]
    }
  ],
  "metadata": {
    "accelerator": "GPU",
    "colab": {
      "provenance": []
    },
    "kernelspec": {
      "display_name": "base",
      "language": "python",
      "name": "python3"
    },
    "language_info": {
      "codemirror_mode": {
        "name": "ipython",
        "version": 3
      },
      "file_extension": ".py",
      "mimetype": "text/x-python",
      "name": "python",
      "nbconvert_exporter": "python",
      "pygments_lexer": "ipython3",
      "version": "3.9.13 (main, Oct 13 2022, 21:15:33) \n[GCC 11.2.0]"
    },
    "vscode": {
      "interpreter": {
        "hash": "0ad57050c77180dc9ed5ccc7774a474d285089782a3b5193155c6c81d567ba30"
      }
    },
    "widgets": {
      "application/vnd.jupyter.widget-state+json": {
        "020c4ebb405245079ae6d2eeb3f5ab44": {
          "model_module": "@jupyter-widgets/controls",
          "model_module_version": "1.5.0",
          "model_name": "DescriptionStyleModel",
          "state": {
            "_model_module": "@jupyter-widgets/controls",
            "_model_module_version": "1.5.0",
            "_model_name": "DescriptionStyleModel",
            "_view_count": null,
            "_view_module": "@jupyter-widgets/base",
            "_view_module_version": "1.2.0",
            "_view_name": "StyleView",
            "description_width": ""
          }
        },
        "139a571b44d8467dad3ff988e2317d98": {
          "model_module": "@jupyter-widgets/base",
          "model_module_version": "1.2.0",
          "model_name": "LayoutModel",
          "state": {
            "_model_module": "@jupyter-widgets/base",
            "_model_module_version": "1.2.0",
            "_model_name": "LayoutModel",
            "_view_count": null,
            "_view_module": "@jupyter-widgets/base",
            "_view_module_version": "1.2.0",
            "_view_name": "LayoutView",
            "align_content": null,
            "align_items": null,
            "align_self": null,
            "border": null,
            "bottom": null,
            "display": null,
            "flex": null,
            "flex_flow": null,
            "grid_area": null,
            "grid_auto_columns": null,
            "grid_auto_flow": null,
            "grid_auto_rows": null,
            "grid_column": null,
            "grid_gap": null,
            "grid_row": null,
            "grid_template_areas": null,
            "grid_template_columns": null,
            "grid_template_rows": null,
            "height": null,
            "justify_content": null,
            "justify_items": null,
            "left": null,
            "margin": null,
            "max_height": null,
            "max_width": null,
            "min_height": null,
            "min_width": null,
            "object_fit": null,
            "object_position": null,
            "order": null,
            "overflow": null,
            "overflow_x": null,
            "overflow_y": null,
            "padding": null,
            "right": null,
            "top": null,
            "visibility": null,
            "width": null
          }
        },
        "171b2f2ab7ae4dae8795c0f5026221af": {
          "model_module": "@jupyter-widgets/controls",
          "model_module_version": "1.5.0",
          "model_name": "DescriptionStyleModel",
          "state": {
            "_model_module": "@jupyter-widgets/controls",
            "_model_module_version": "1.5.0",
            "_model_name": "DescriptionStyleModel",
            "_view_count": null,
            "_view_module": "@jupyter-widgets/base",
            "_view_module_version": "1.2.0",
            "_view_name": "StyleView",
            "description_width": ""
          }
        },
        "17c1ad1186944afa861ab919ae7fd6f8": {
          "model_module": "@jupyter-widgets/controls",
          "model_module_version": "1.5.0",
          "model_name": "HTMLModel",
          "state": {
            "_dom_classes": [],
            "_model_module": "@jupyter-widgets/controls",
            "_model_module_version": "1.5.0",
            "_model_name": "HTMLModel",
            "_view_count": null,
            "_view_module": "@jupyter-widgets/controls",
            "_view_module_version": "1.5.0",
            "_view_name": "HTMLView",
            "description": "",
            "description_tooltip": null,
            "layout": "IPY_MODEL_2cefa7ecb6d140d589b6c35839410ae0",
            "placeholder": "​",
            "style": "IPY_MODEL_020c4ebb405245079ae6d2eeb3f5ab44",
            "value": " 29515/29515 [00:00&lt;00:00, 608879.20it/s]"
          }
        },
        "18fb16907465448395a67e0daeb1d7bc": {
          "model_module": "@jupyter-widgets/controls",
          "model_module_version": "1.5.0",
          "model_name": "DescriptionStyleModel",
          "state": {
            "_model_module": "@jupyter-widgets/controls",
            "_model_module_version": "1.5.0",
            "_model_name": "DescriptionStyleModel",
            "_view_count": null,
            "_view_module": "@jupyter-widgets/base",
            "_view_module_version": "1.2.0",
            "_view_name": "StyleView",
            "description_width": ""
          }
        },
        "2cefa7ecb6d140d589b6c35839410ae0": {
          "model_module": "@jupyter-widgets/base",
          "model_module_version": "1.2.0",
          "model_name": "LayoutModel",
          "state": {
            "_model_module": "@jupyter-widgets/base",
            "_model_module_version": "1.2.0",
            "_model_name": "LayoutModel",
            "_view_count": null,
            "_view_module": "@jupyter-widgets/base",
            "_view_module_version": "1.2.0",
            "_view_name": "LayoutView",
            "align_content": null,
            "align_items": null,
            "align_self": null,
            "border": null,
            "bottom": null,
            "display": null,
            "flex": null,
            "flex_flow": null,
            "grid_area": null,
            "grid_auto_columns": null,
            "grid_auto_flow": null,
            "grid_auto_rows": null,
            "grid_column": null,
            "grid_gap": null,
            "grid_row": null,
            "grid_template_areas": null,
            "grid_template_columns": null,
            "grid_template_rows": null,
            "height": null,
            "justify_content": null,
            "justify_items": null,
            "left": null,
            "margin": null,
            "max_height": null,
            "max_width": null,
            "min_height": null,
            "min_width": null,
            "object_fit": null,
            "object_position": null,
            "order": null,
            "overflow": null,
            "overflow_x": null,
            "overflow_y": null,
            "padding": null,
            "right": null,
            "top": null,
            "visibility": null,
            "width": null
          }
        },
        "30e7a9cf089745b4936af8df5727b646": {
          "model_module": "@jupyter-widgets/controls",
          "model_module_version": "1.5.0",
          "model_name": "HTMLModel",
          "state": {
            "_dom_classes": [],
            "_model_module": "@jupyter-widgets/controls",
            "_model_module_version": "1.5.0",
            "_model_name": "HTMLModel",
            "_view_count": null,
            "_view_module": "@jupyter-widgets/controls",
            "_view_module_version": "1.5.0",
            "_view_name": "HTMLView",
            "description": "",
            "description_tooltip": null,
            "layout": "IPY_MODEL_139a571b44d8467dad3ff988e2317d98",
            "placeholder": "​",
            "style": "IPY_MODEL_5c944b8a71cd4d2a9f0b1329081e242a",
            "value": "100%"
          }
        },
        "33796a7dcd5f4cbd9a15e3c6e2bd0729": {
          "model_module": "@jupyter-widgets/controls",
          "model_module_version": "1.5.0",
          "model_name": "DescriptionStyleModel",
          "state": {
            "_model_module": "@jupyter-widgets/controls",
            "_model_module_version": "1.5.0",
            "_model_name": "DescriptionStyleModel",
            "_view_count": null,
            "_view_module": "@jupyter-widgets/base",
            "_view_module_version": "1.2.0",
            "_view_name": "StyleView",
            "description_width": ""
          }
        },
        "3a2614ab19c544d78a81cf9c72ddaded": {
          "model_module": "@jupyter-widgets/base",
          "model_module_version": "1.2.0",
          "model_name": "LayoutModel",
          "state": {
            "_model_module": "@jupyter-widgets/base",
            "_model_module_version": "1.2.0",
            "_model_name": "LayoutModel",
            "_view_count": null,
            "_view_module": "@jupyter-widgets/base",
            "_view_module_version": "1.2.0",
            "_view_name": "LayoutView",
            "align_content": null,
            "align_items": null,
            "align_self": null,
            "border": null,
            "bottom": null,
            "display": null,
            "flex": null,
            "flex_flow": null,
            "grid_area": null,
            "grid_auto_columns": null,
            "grid_auto_flow": null,
            "grid_auto_rows": null,
            "grid_column": null,
            "grid_gap": null,
            "grid_row": null,
            "grid_template_areas": null,
            "grid_template_columns": null,
            "grid_template_rows": null,
            "height": null,
            "justify_content": null,
            "justify_items": null,
            "left": null,
            "margin": null,
            "max_height": null,
            "max_width": null,
            "min_height": null,
            "min_width": null,
            "object_fit": null,
            "object_position": null,
            "order": null,
            "overflow": null,
            "overflow_x": null,
            "overflow_y": null,
            "padding": null,
            "right": null,
            "top": null,
            "visibility": null,
            "width": null
          }
        },
        "3f508985d8324f14b63579a720a16cfb": {
          "model_module": "@jupyter-widgets/base",
          "model_module_version": "1.2.0",
          "model_name": "LayoutModel",
          "state": {
            "_model_module": "@jupyter-widgets/base",
            "_model_module_version": "1.2.0",
            "_model_name": "LayoutModel",
            "_view_count": null,
            "_view_module": "@jupyter-widgets/base",
            "_view_module_version": "1.2.0",
            "_view_name": "LayoutView",
            "align_content": null,
            "align_items": null,
            "align_self": null,
            "border": null,
            "bottom": null,
            "display": null,
            "flex": null,
            "flex_flow": null,
            "grid_area": null,
            "grid_auto_columns": null,
            "grid_auto_flow": null,
            "grid_auto_rows": null,
            "grid_column": null,
            "grid_gap": null,
            "grid_row": null,
            "grid_template_areas": null,
            "grid_template_columns": null,
            "grid_template_rows": null,
            "height": null,
            "justify_content": null,
            "justify_items": null,
            "left": null,
            "margin": null,
            "max_height": null,
            "max_width": null,
            "min_height": null,
            "min_width": null,
            "object_fit": null,
            "object_position": null,
            "order": null,
            "overflow": null,
            "overflow_x": null,
            "overflow_y": null,
            "padding": null,
            "right": null,
            "top": null,
            "visibility": null,
            "width": null
          }
        },
        "402321aba5364603a2fe8ec2d0602a9c": {
          "model_module": "@jupyter-widgets/base",
          "model_module_version": "1.2.0",
          "model_name": "LayoutModel",
          "state": {
            "_model_module": "@jupyter-widgets/base",
            "_model_module_version": "1.2.0",
            "_model_name": "LayoutModel",
            "_view_count": null,
            "_view_module": "@jupyter-widgets/base",
            "_view_module_version": "1.2.0",
            "_view_name": "LayoutView",
            "align_content": null,
            "align_items": null,
            "align_self": null,
            "border": null,
            "bottom": null,
            "display": null,
            "flex": null,
            "flex_flow": null,
            "grid_area": null,
            "grid_auto_columns": null,
            "grid_auto_flow": null,
            "grid_auto_rows": null,
            "grid_column": null,
            "grid_gap": null,
            "grid_row": null,
            "grid_template_areas": null,
            "grid_template_columns": null,
            "grid_template_rows": null,
            "height": null,
            "justify_content": null,
            "justify_items": null,
            "left": null,
            "margin": null,
            "max_height": null,
            "max_width": null,
            "min_height": null,
            "min_width": null,
            "object_fit": null,
            "object_position": null,
            "order": null,
            "overflow": null,
            "overflow_x": null,
            "overflow_y": null,
            "padding": null,
            "right": null,
            "top": null,
            "visibility": null,
            "width": null
          }
        },
        "4251ec30208247d7bf933fc96928a67b": {
          "model_module": "@jupyter-widgets/base",
          "model_module_version": "1.2.0",
          "model_name": "LayoutModel",
          "state": {
            "_model_module": "@jupyter-widgets/base",
            "_model_module_version": "1.2.0",
            "_model_name": "LayoutModel",
            "_view_count": null,
            "_view_module": "@jupyter-widgets/base",
            "_view_module_version": "1.2.0",
            "_view_name": "LayoutView",
            "align_content": null,
            "align_items": null,
            "align_self": null,
            "border": null,
            "bottom": null,
            "display": null,
            "flex": null,
            "flex_flow": null,
            "grid_area": null,
            "grid_auto_columns": null,
            "grid_auto_flow": null,
            "grid_auto_rows": null,
            "grid_column": null,
            "grid_gap": null,
            "grid_row": null,
            "grid_template_areas": null,
            "grid_template_columns": null,
            "grid_template_rows": null,
            "height": null,
            "justify_content": null,
            "justify_items": null,
            "left": null,
            "margin": null,
            "max_height": null,
            "max_width": null,
            "min_height": null,
            "min_width": null,
            "object_fit": null,
            "object_position": null,
            "order": null,
            "overflow": null,
            "overflow_x": null,
            "overflow_y": null,
            "padding": null,
            "right": null,
            "top": null,
            "visibility": null,
            "width": null
          }
        },
        "42e8040b2eba4dcfae18fd43965b9905": {
          "model_module": "@jupyter-widgets/base",
          "model_module_version": "1.2.0",
          "model_name": "LayoutModel",
          "state": {
            "_model_module": "@jupyter-widgets/base",
            "_model_module_version": "1.2.0",
            "_model_name": "LayoutModel",
            "_view_count": null,
            "_view_module": "@jupyter-widgets/base",
            "_view_module_version": "1.2.0",
            "_view_name": "LayoutView",
            "align_content": null,
            "align_items": null,
            "align_self": null,
            "border": null,
            "bottom": null,
            "display": null,
            "flex": null,
            "flex_flow": null,
            "grid_area": null,
            "grid_auto_columns": null,
            "grid_auto_flow": null,
            "grid_auto_rows": null,
            "grid_column": null,
            "grid_gap": null,
            "grid_row": null,
            "grid_template_areas": null,
            "grid_template_columns": null,
            "grid_template_rows": null,
            "height": null,
            "justify_content": null,
            "justify_items": null,
            "left": null,
            "margin": null,
            "max_height": null,
            "max_width": null,
            "min_height": null,
            "min_width": null,
            "object_fit": null,
            "object_position": null,
            "order": null,
            "overflow": null,
            "overflow_x": null,
            "overflow_y": null,
            "padding": null,
            "right": null,
            "top": null,
            "visibility": null,
            "width": null
          }
        },
        "42fe717f238144dab7db13fbe0c7ad49": {
          "model_module": "@jupyter-widgets/controls",
          "model_module_version": "1.5.0",
          "model_name": "ProgressStyleModel",
          "state": {
            "_model_module": "@jupyter-widgets/controls",
            "_model_module_version": "1.5.0",
            "_model_name": "ProgressStyleModel",
            "_view_count": null,
            "_view_module": "@jupyter-widgets/base",
            "_view_module_version": "1.2.0",
            "_view_name": "StyleView",
            "bar_color": null,
            "description_width": ""
          }
        },
        "47d355af9fd64168b13ecd5d0267439a": {
          "model_module": "@jupyter-widgets/controls",
          "model_module_version": "1.5.0",
          "model_name": "FloatProgressModel",
          "state": {
            "_dom_classes": [],
            "_model_module": "@jupyter-widgets/controls",
            "_model_module_version": "1.5.0",
            "_model_name": "FloatProgressModel",
            "_view_count": null,
            "_view_module": "@jupyter-widgets/controls",
            "_view_module_version": "1.5.0",
            "_view_name": "ProgressView",
            "bar_style": "success",
            "description": "",
            "description_tooltip": null,
            "layout": "IPY_MODEL_42e8040b2eba4dcfae18fd43965b9905",
            "max": 4422102,
            "min": 0,
            "orientation": "horizontal",
            "style": "IPY_MODEL_fc8d247c70004b5797ae4cf786ec389b",
            "value": 4422102
          }
        },
        "589d9a40396d4f40b1d8e0d8e19f70d8": {
          "model_module": "@jupyter-widgets/controls",
          "model_module_version": "1.5.0",
          "model_name": "HTMLModel",
          "state": {
            "_dom_classes": [],
            "_model_module": "@jupyter-widgets/controls",
            "_model_module_version": "1.5.0",
            "_model_name": "HTMLModel",
            "_view_count": null,
            "_view_module": "@jupyter-widgets/controls",
            "_view_module_version": "1.5.0",
            "_view_name": "HTMLView",
            "description": "",
            "description_tooltip": null,
            "layout": "IPY_MODEL_3a2614ab19c544d78a81cf9c72ddaded",
            "placeholder": "​",
            "style": "IPY_MODEL_a76206268d1540d59e2f7584e24f8fdc",
            "value": " 4422102/4422102 [00:00&lt;00:00, 51208848.54it/s]"
          }
        },
        "5c944b8a71cd4d2a9f0b1329081e242a": {
          "model_module": "@jupyter-widgets/controls",
          "model_module_version": "1.5.0",
          "model_name": "DescriptionStyleModel",
          "state": {
            "_model_module": "@jupyter-widgets/controls",
            "_model_module_version": "1.5.0",
            "_model_name": "DescriptionStyleModel",
            "_view_count": null,
            "_view_module": "@jupyter-widgets/base",
            "_view_module_version": "1.2.0",
            "_view_name": "StyleView",
            "description_width": ""
          }
        },
        "61ae700b78374c4f875ed91dd7169ff7": {
          "model_module": "@jupyter-widgets/controls",
          "model_module_version": "1.5.0",
          "model_name": "DescriptionStyleModel",
          "state": {
            "_model_module": "@jupyter-widgets/controls",
            "_model_module_version": "1.5.0",
            "_model_name": "DescriptionStyleModel",
            "_view_count": null,
            "_view_module": "@jupyter-widgets/base",
            "_view_module_version": "1.2.0",
            "_view_name": "StyleView",
            "description_width": ""
          }
        },
        "6fb4dd31f7624d459104e5807e823714": {
          "model_module": "@jupyter-widgets/base",
          "model_module_version": "1.2.0",
          "model_name": "LayoutModel",
          "state": {
            "_model_module": "@jupyter-widgets/base",
            "_model_module_version": "1.2.0",
            "_model_name": "LayoutModel",
            "_view_count": null,
            "_view_module": "@jupyter-widgets/base",
            "_view_module_version": "1.2.0",
            "_view_name": "LayoutView",
            "align_content": null,
            "align_items": null,
            "align_self": null,
            "border": null,
            "bottom": null,
            "display": null,
            "flex": null,
            "flex_flow": null,
            "grid_area": null,
            "grid_auto_columns": null,
            "grid_auto_flow": null,
            "grid_auto_rows": null,
            "grid_column": null,
            "grid_gap": null,
            "grid_row": null,
            "grid_template_areas": null,
            "grid_template_columns": null,
            "grid_template_rows": null,
            "height": null,
            "justify_content": null,
            "justify_items": null,
            "left": null,
            "margin": null,
            "max_height": null,
            "max_width": null,
            "min_height": null,
            "min_width": null,
            "object_fit": null,
            "object_position": null,
            "order": null,
            "overflow": null,
            "overflow_x": null,
            "overflow_y": null,
            "padding": null,
            "right": null,
            "top": null,
            "visibility": null,
            "width": null
          }
        },
        "7220146c77734618adc25a3c4677995b": {
          "model_module": "@jupyter-widgets/controls",
          "model_module_version": "1.5.0",
          "model_name": "HBoxModel",
          "state": {
            "_dom_classes": [],
            "_model_module": "@jupyter-widgets/controls",
            "_model_module_version": "1.5.0",
            "_model_name": "HBoxModel",
            "_view_count": null,
            "_view_module": "@jupyter-widgets/controls",
            "_view_module_version": "1.5.0",
            "_view_name": "HBoxView",
            "box_style": "",
            "children": [
              "IPY_MODEL_fb83bb14d1fb48b4a3c803a79e8de320",
              "IPY_MODEL_eb02687d65dc40c6b3fedfaf6447664b",
              "IPY_MODEL_ecf349a24d8c4f488c657e2cf5631991"
            ],
            "layout": "IPY_MODEL_9f11f8dd1ec54a95a36f14dfcceee622"
          }
        },
        "81e7f1955fd44f988e1e558db8ef6fc6": {
          "model_module": "@jupyter-widgets/controls",
          "model_module_version": "1.5.0",
          "model_name": "ProgressStyleModel",
          "state": {
            "_model_module": "@jupyter-widgets/controls",
            "_model_module_version": "1.5.0",
            "_model_name": "ProgressStyleModel",
            "_view_count": null,
            "_view_module": "@jupyter-widgets/base",
            "_view_module_version": "1.2.0",
            "_view_name": "StyleView",
            "bar_color": null,
            "description_width": ""
          }
        },
        "8833ab479835449eb98861bcf33991cc": {
          "model_module": "@jupyter-widgets/controls",
          "model_module_version": "1.5.0",
          "model_name": "HTMLModel",
          "state": {
            "_dom_classes": [],
            "_model_module": "@jupyter-widgets/controls",
            "_model_module_version": "1.5.0",
            "_model_name": "HTMLModel",
            "_view_count": null,
            "_view_module": "@jupyter-widgets/controls",
            "_view_module_version": "1.5.0",
            "_view_name": "HTMLView",
            "description": "",
            "description_tooltip": null,
            "layout": "IPY_MODEL_6fb4dd31f7624d459104e5807e823714",
            "placeholder": "​",
            "style": "IPY_MODEL_33796a7dcd5f4cbd9a15e3c6e2bd0729",
            "value": " 5148/5148 [00:00&lt;00:00, 153084.60it/s]"
          }
        },
        "8b3b8e2b0fc348509d2bb0f289d0fd6c": {
          "model_module": "@jupyter-widgets/base",
          "model_module_version": "1.2.0",
          "model_name": "LayoutModel",
          "state": {
            "_model_module": "@jupyter-widgets/base",
            "_model_module_version": "1.2.0",
            "_model_name": "LayoutModel",
            "_view_count": null,
            "_view_module": "@jupyter-widgets/base",
            "_view_module_version": "1.2.0",
            "_view_name": "LayoutView",
            "align_content": null,
            "align_items": null,
            "align_self": null,
            "border": null,
            "bottom": null,
            "display": null,
            "flex": null,
            "flex_flow": null,
            "grid_area": null,
            "grid_auto_columns": null,
            "grid_auto_flow": null,
            "grid_auto_rows": null,
            "grid_column": null,
            "grid_gap": null,
            "grid_row": null,
            "grid_template_areas": null,
            "grid_template_columns": null,
            "grid_template_rows": null,
            "height": null,
            "justify_content": null,
            "justify_items": null,
            "left": null,
            "margin": null,
            "max_height": null,
            "max_width": null,
            "min_height": null,
            "min_width": null,
            "object_fit": null,
            "object_position": null,
            "order": null,
            "overflow": null,
            "overflow_x": null,
            "overflow_y": null,
            "padding": null,
            "right": null,
            "top": null,
            "visibility": null,
            "width": null
          }
        },
        "9dbd131dcb1048a8b7a512e68c8164c3": {
          "model_module": "@jupyter-widgets/controls",
          "model_module_version": "1.5.0",
          "model_name": "HTMLModel",
          "state": {
            "_dom_classes": [],
            "_model_module": "@jupyter-widgets/controls",
            "_model_module_version": "1.5.0",
            "_model_name": "HTMLModel",
            "_view_count": null,
            "_view_module": "@jupyter-widgets/controls",
            "_view_module_version": "1.5.0",
            "_view_name": "HTMLView",
            "description": "",
            "description_tooltip": null,
            "layout": "IPY_MODEL_d639f69f8aa645238e81e164beb64786",
            "placeholder": "​",
            "style": "IPY_MODEL_61ae700b78374c4f875ed91dd7169ff7",
            "value": "100%"
          }
        },
        "9f11f8dd1ec54a95a36f14dfcceee622": {
          "model_module": "@jupyter-widgets/base",
          "model_module_version": "1.2.0",
          "model_name": "LayoutModel",
          "state": {
            "_model_module": "@jupyter-widgets/base",
            "_model_module_version": "1.2.0",
            "_model_name": "LayoutModel",
            "_view_count": null,
            "_view_module": "@jupyter-widgets/base",
            "_view_module_version": "1.2.0",
            "_view_name": "LayoutView",
            "align_content": null,
            "align_items": null,
            "align_self": null,
            "border": null,
            "bottom": null,
            "display": null,
            "flex": null,
            "flex_flow": null,
            "grid_area": null,
            "grid_auto_columns": null,
            "grid_auto_flow": null,
            "grid_auto_rows": null,
            "grid_column": null,
            "grid_gap": null,
            "grid_row": null,
            "grid_template_areas": null,
            "grid_template_columns": null,
            "grid_template_rows": null,
            "height": null,
            "justify_content": null,
            "justify_items": null,
            "left": null,
            "margin": null,
            "max_height": null,
            "max_width": null,
            "min_height": null,
            "min_width": null,
            "object_fit": null,
            "object_position": null,
            "order": null,
            "overflow": null,
            "overflow_x": null,
            "overflow_y": null,
            "padding": null,
            "right": null,
            "top": null,
            "visibility": null,
            "width": null
          }
        },
        "a1e2310ada11416380ccdae6a9526fb0": {
          "model_module": "@jupyter-widgets/controls",
          "model_module_version": "1.5.0",
          "model_name": "FloatProgressModel",
          "state": {
            "_dom_classes": [],
            "_model_module": "@jupyter-widgets/controls",
            "_model_module_version": "1.5.0",
            "_model_name": "FloatProgressModel",
            "_view_count": null,
            "_view_module": "@jupyter-widgets/controls",
            "_view_module_version": "1.5.0",
            "_view_name": "ProgressView",
            "bar_style": "success",
            "description": "",
            "description_tooltip": null,
            "layout": "IPY_MODEL_b2f6f2e94b7e49b6a617fdffce627f55",
            "max": 29515,
            "min": 0,
            "orientation": "horizontal",
            "style": "IPY_MODEL_81e7f1955fd44f988e1e558db8ef6fc6",
            "value": 29515
          }
        },
        "a3110445ecde4d60b2ace874c6c32030": {
          "model_module": "@jupyter-widgets/controls",
          "model_module_version": "1.5.0",
          "model_name": "ProgressStyleModel",
          "state": {
            "_model_module": "@jupyter-widgets/controls",
            "_model_module_version": "1.5.0",
            "_model_name": "ProgressStyleModel",
            "_view_count": null,
            "_view_module": "@jupyter-widgets/base",
            "_view_module_version": "1.2.0",
            "_view_name": "StyleView",
            "bar_color": null,
            "description_width": ""
          }
        },
        "a76206268d1540d59e2f7584e24f8fdc": {
          "model_module": "@jupyter-widgets/controls",
          "model_module_version": "1.5.0",
          "model_name": "DescriptionStyleModel",
          "state": {
            "_model_module": "@jupyter-widgets/controls",
            "_model_module_version": "1.5.0",
            "_model_name": "DescriptionStyleModel",
            "_view_count": null,
            "_view_module": "@jupyter-widgets/base",
            "_view_module_version": "1.2.0",
            "_view_name": "StyleView",
            "description_width": ""
          }
        },
        "aa70a674da09469298aa18fd38e5a3dd": {
          "model_module": "@jupyter-widgets/base",
          "model_module_version": "1.2.0",
          "model_name": "LayoutModel",
          "state": {
            "_model_module": "@jupyter-widgets/base",
            "_model_module_version": "1.2.0",
            "_model_name": "LayoutModel",
            "_view_count": null,
            "_view_module": "@jupyter-widgets/base",
            "_view_module_version": "1.2.0",
            "_view_name": "LayoutView",
            "align_content": null,
            "align_items": null,
            "align_self": null,
            "border": null,
            "bottom": null,
            "display": null,
            "flex": null,
            "flex_flow": null,
            "grid_area": null,
            "grid_auto_columns": null,
            "grid_auto_flow": null,
            "grid_auto_rows": null,
            "grid_column": null,
            "grid_gap": null,
            "grid_row": null,
            "grid_template_areas": null,
            "grid_template_columns": null,
            "grid_template_rows": null,
            "height": null,
            "justify_content": null,
            "justify_items": null,
            "left": null,
            "margin": null,
            "max_height": null,
            "max_width": null,
            "min_height": null,
            "min_width": null,
            "object_fit": null,
            "object_position": null,
            "order": null,
            "overflow": null,
            "overflow_x": null,
            "overflow_y": null,
            "padding": null,
            "right": null,
            "top": null,
            "visibility": null,
            "width": null
          }
        },
        "b2f6f2e94b7e49b6a617fdffce627f55": {
          "model_module": "@jupyter-widgets/base",
          "model_module_version": "1.2.0",
          "model_name": "LayoutModel",
          "state": {
            "_model_module": "@jupyter-widgets/base",
            "_model_module_version": "1.2.0",
            "_model_name": "LayoutModel",
            "_view_count": null,
            "_view_module": "@jupyter-widgets/base",
            "_view_module_version": "1.2.0",
            "_view_name": "LayoutView",
            "align_content": null,
            "align_items": null,
            "align_self": null,
            "border": null,
            "bottom": null,
            "display": null,
            "flex": null,
            "flex_flow": null,
            "grid_area": null,
            "grid_auto_columns": null,
            "grid_auto_flow": null,
            "grid_auto_rows": null,
            "grid_column": null,
            "grid_gap": null,
            "grid_row": null,
            "grid_template_areas": null,
            "grid_template_columns": null,
            "grid_template_rows": null,
            "height": null,
            "justify_content": null,
            "justify_items": null,
            "left": null,
            "margin": null,
            "max_height": null,
            "max_width": null,
            "min_height": null,
            "min_width": null,
            "object_fit": null,
            "object_position": null,
            "order": null,
            "overflow": null,
            "overflow_x": null,
            "overflow_y": null,
            "padding": null,
            "right": null,
            "top": null,
            "visibility": null,
            "width": null
          }
        },
        "c23a46a1f0bc440ca645a1c67d9e569d": {
          "model_module": "@jupyter-widgets/base",
          "model_module_version": "1.2.0",
          "model_name": "LayoutModel",
          "state": {
            "_model_module": "@jupyter-widgets/base",
            "_model_module_version": "1.2.0",
            "_model_name": "LayoutModel",
            "_view_count": null,
            "_view_module": "@jupyter-widgets/base",
            "_view_module_version": "1.2.0",
            "_view_name": "LayoutView",
            "align_content": null,
            "align_items": null,
            "align_self": null,
            "border": null,
            "bottom": null,
            "display": null,
            "flex": null,
            "flex_flow": null,
            "grid_area": null,
            "grid_auto_columns": null,
            "grid_auto_flow": null,
            "grid_auto_rows": null,
            "grid_column": null,
            "grid_gap": null,
            "grid_row": null,
            "grid_template_areas": null,
            "grid_template_columns": null,
            "grid_template_rows": null,
            "height": null,
            "justify_content": null,
            "justify_items": null,
            "left": null,
            "margin": null,
            "max_height": null,
            "max_width": null,
            "min_height": null,
            "min_width": null,
            "object_fit": null,
            "object_position": null,
            "order": null,
            "overflow": null,
            "overflow_x": null,
            "overflow_y": null,
            "padding": null,
            "right": null,
            "top": null,
            "visibility": null,
            "width": null
          }
        },
        "c3c083b915124aa3ac069a44122d24c9": {
          "model_module": "@jupyter-widgets/controls",
          "model_module_version": "1.5.0",
          "model_name": "HTMLModel",
          "state": {
            "_dom_classes": [],
            "_model_module": "@jupyter-widgets/controls",
            "_model_module_version": "1.5.0",
            "_model_name": "HTMLModel",
            "_view_count": null,
            "_view_module": "@jupyter-widgets/controls",
            "_view_module_version": "1.5.0",
            "_view_name": "HTMLView",
            "description": "",
            "description_tooltip": null,
            "layout": "IPY_MODEL_3f508985d8324f14b63579a720a16cfb",
            "placeholder": "​",
            "style": "IPY_MODEL_18fb16907465448395a67e0daeb1d7bc",
            "value": "100%"
          }
        },
        "c410a702d48643be996548aaa64ca501": {
          "model_module": "@jupyter-widgets/base",
          "model_module_version": "1.2.0",
          "model_name": "LayoutModel",
          "state": {
            "_model_module": "@jupyter-widgets/base",
            "_model_module_version": "1.2.0",
            "_model_name": "LayoutModel",
            "_view_count": null,
            "_view_module": "@jupyter-widgets/base",
            "_view_module_version": "1.2.0",
            "_view_name": "LayoutView",
            "align_content": null,
            "align_items": null,
            "align_self": null,
            "border": null,
            "bottom": null,
            "display": null,
            "flex": null,
            "flex_flow": null,
            "grid_area": null,
            "grid_auto_columns": null,
            "grid_auto_flow": null,
            "grid_auto_rows": null,
            "grid_column": null,
            "grid_gap": null,
            "grid_row": null,
            "grid_template_areas": null,
            "grid_template_columns": null,
            "grid_template_rows": null,
            "height": null,
            "justify_content": null,
            "justify_items": null,
            "left": null,
            "margin": null,
            "max_height": null,
            "max_width": null,
            "min_height": null,
            "min_width": null,
            "object_fit": null,
            "object_position": null,
            "order": null,
            "overflow": null,
            "overflow_x": null,
            "overflow_y": null,
            "padding": null,
            "right": null,
            "top": null,
            "visibility": null,
            "width": null
          }
        },
        "d18cd8ba77a041e9b7f986f6a10a9089": {
          "model_module": "@jupyter-widgets/controls",
          "model_module_version": "1.5.0",
          "model_name": "HBoxModel",
          "state": {
            "_dom_classes": [],
            "_model_module": "@jupyter-widgets/controls",
            "_model_module_version": "1.5.0",
            "_model_name": "HBoxModel",
            "_view_count": null,
            "_view_module": "@jupyter-widgets/controls",
            "_view_module_version": "1.5.0",
            "_view_name": "HBoxView",
            "box_style": "",
            "children": [
              "IPY_MODEL_30e7a9cf089745b4936af8df5727b646",
              "IPY_MODEL_47d355af9fd64168b13ecd5d0267439a",
              "IPY_MODEL_589d9a40396d4f40b1d8e0d8e19f70d8"
            ],
            "layout": "IPY_MODEL_402321aba5364603a2fe8ec2d0602a9c"
          }
        },
        "d639f69f8aa645238e81e164beb64786": {
          "model_module": "@jupyter-widgets/base",
          "model_module_version": "1.2.0",
          "model_name": "LayoutModel",
          "state": {
            "_model_module": "@jupyter-widgets/base",
            "_model_module_version": "1.2.0",
            "_model_name": "LayoutModel",
            "_view_count": null,
            "_view_module": "@jupyter-widgets/base",
            "_view_module_version": "1.2.0",
            "_view_name": "LayoutView",
            "align_content": null,
            "align_items": null,
            "align_self": null,
            "border": null,
            "bottom": null,
            "display": null,
            "flex": null,
            "flex_flow": null,
            "grid_area": null,
            "grid_auto_columns": null,
            "grid_auto_flow": null,
            "grid_auto_rows": null,
            "grid_column": null,
            "grid_gap": null,
            "grid_row": null,
            "grid_template_areas": null,
            "grid_template_columns": null,
            "grid_template_rows": null,
            "height": null,
            "justify_content": null,
            "justify_items": null,
            "left": null,
            "margin": null,
            "max_height": null,
            "max_width": null,
            "min_height": null,
            "min_width": null,
            "object_fit": null,
            "object_position": null,
            "order": null,
            "overflow": null,
            "overflow_x": null,
            "overflow_y": null,
            "padding": null,
            "right": null,
            "top": null,
            "visibility": null,
            "width": null
          }
        },
        "e4f8682349734a8ebbfdf39c9b3ff976": {
          "model_module": "@jupyter-widgets/controls",
          "model_module_version": "1.5.0",
          "model_name": "HBoxModel",
          "state": {
            "_dom_classes": [],
            "_model_module": "@jupyter-widgets/controls",
            "_model_module_version": "1.5.0",
            "_model_name": "HBoxModel",
            "_view_count": null,
            "_view_module": "@jupyter-widgets/controls",
            "_view_module_version": "1.5.0",
            "_view_name": "HBoxView",
            "box_style": "",
            "children": [
              "IPY_MODEL_c3c083b915124aa3ac069a44122d24c9",
              "IPY_MODEL_f025d85193744c6ba6fc4115a22be8a5",
              "IPY_MODEL_8833ab479835449eb98861bcf33991cc"
            ],
            "layout": "IPY_MODEL_c410a702d48643be996548aaa64ca501"
          }
        },
        "eb02687d65dc40c6b3fedfaf6447664b": {
          "model_module": "@jupyter-widgets/controls",
          "model_module_version": "1.5.0",
          "model_name": "FloatProgressModel",
          "state": {
            "_dom_classes": [],
            "_model_module": "@jupyter-widgets/controls",
            "_model_module_version": "1.5.0",
            "_model_name": "FloatProgressModel",
            "_view_count": null,
            "_view_module": "@jupyter-widgets/controls",
            "_view_module_version": "1.5.0",
            "_view_name": "ProgressView",
            "bar_style": "success",
            "description": "",
            "description_tooltip": null,
            "layout": "IPY_MODEL_aa70a674da09469298aa18fd38e5a3dd",
            "max": 26421880,
            "min": 0,
            "orientation": "horizontal",
            "style": "IPY_MODEL_42fe717f238144dab7db13fbe0c7ad49",
            "value": 26421880
          }
        },
        "ecbab07c1ff94306bc3223e003ba7e6d": {
          "model_module": "@jupyter-widgets/controls",
          "model_module_version": "1.5.0",
          "model_name": "HBoxModel",
          "state": {
            "_dom_classes": [],
            "_model_module": "@jupyter-widgets/controls",
            "_model_module_version": "1.5.0",
            "_model_name": "HBoxModel",
            "_view_count": null,
            "_view_module": "@jupyter-widgets/controls",
            "_view_module_version": "1.5.0",
            "_view_name": "HBoxView",
            "box_style": "",
            "children": [
              "IPY_MODEL_9dbd131dcb1048a8b7a512e68c8164c3",
              "IPY_MODEL_a1e2310ada11416380ccdae6a9526fb0",
              "IPY_MODEL_17c1ad1186944afa861ab919ae7fd6f8"
            ],
            "layout": "IPY_MODEL_4251ec30208247d7bf933fc96928a67b"
          }
        },
        "ecf349a24d8c4f488c657e2cf5631991": {
          "model_module": "@jupyter-widgets/controls",
          "model_module_version": "1.5.0",
          "model_name": "HTMLModel",
          "state": {
            "_dom_classes": [],
            "_model_module": "@jupyter-widgets/controls",
            "_model_module_version": "1.5.0",
            "_model_name": "HTMLModel",
            "_view_count": null,
            "_view_module": "@jupyter-widgets/controls",
            "_view_module_version": "1.5.0",
            "_view_name": "HTMLView",
            "description": "",
            "description_tooltip": null,
            "layout": "IPY_MODEL_8b3b8e2b0fc348509d2bb0f289d0fd6c",
            "placeholder": "​",
            "style": "IPY_MODEL_171b2f2ab7ae4dae8795c0f5026221af",
            "value": " 26421880/26421880 [00:00&lt;00:00, 128336097.27it/s]"
          }
        },
        "f025d85193744c6ba6fc4115a22be8a5": {
          "model_module": "@jupyter-widgets/controls",
          "model_module_version": "1.5.0",
          "model_name": "FloatProgressModel",
          "state": {
            "_dom_classes": [],
            "_model_module": "@jupyter-widgets/controls",
            "_model_module_version": "1.5.0",
            "_model_name": "FloatProgressModel",
            "_view_count": null,
            "_view_module": "@jupyter-widgets/controls",
            "_view_module_version": "1.5.0",
            "_view_name": "ProgressView",
            "bar_style": "success",
            "description": "",
            "description_tooltip": null,
            "layout": "IPY_MODEL_fc2d9ccb1a0d434baf561ff3a7bbe234",
            "max": 5148,
            "min": 0,
            "orientation": "horizontal",
            "style": "IPY_MODEL_a3110445ecde4d60b2ace874c6c32030",
            "value": 5148
          }
        },
        "fb83bb14d1fb48b4a3c803a79e8de320": {
          "model_module": "@jupyter-widgets/controls",
          "model_module_version": "1.5.0",
          "model_name": "HTMLModel",
          "state": {
            "_dom_classes": [],
            "_model_module": "@jupyter-widgets/controls",
            "_model_module_version": "1.5.0",
            "_model_name": "HTMLModel",
            "_view_count": null,
            "_view_module": "@jupyter-widgets/controls",
            "_view_module_version": "1.5.0",
            "_view_name": "HTMLView",
            "description": "",
            "description_tooltip": null,
            "layout": "IPY_MODEL_c23a46a1f0bc440ca645a1c67d9e569d",
            "placeholder": "​",
            "style": "IPY_MODEL_fee9eb554c2a4a54b4dee30e2d8624f9",
            "value": "100%"
          }
        },
        "fc2d9ccb1a0d434baf561ff3a7bbe234": {
          "model_module": "@jupyter-widgets/base",
          "model_module_version": "1.2.0",
          "model_name": "LayoutModel",
          "state": {
            "_model_module": "@jupyter-widgets/base",
            "_model_module_version": "1.2.0",
            "_model_name": "LayoutModel",
            "_view_count": null,
            "_view_module": "@jupyter-widgets/base",
            "_view_module_version": "1.2.0",
            "_view_name": "LayoutView",
            "align_content": null,
            "align_items": null,
            "align_self": null,
            "border": null,
            "bottom": null,
            "display": null,
            "flex": null,
            "flex_flow": null,
            "grid_area": null,
            "grid_auto_columns": null,
            "grid_auto_flow": null,
            "grid_auto_rows": null,
            "grid_column": null,
            "grid_gap": null,
            "grid_row": null,
            "grid_template_areas": null,
            "grid_template_columns": null,
            "grid_template_rows": null,
            "height": null,
            "justify_content": null,
            "justify_items": null,
            "left": null,
            "margin": null,
            "max_height": null,
            "max_width": null,
            "min_height": null,
            "min_width": null,
            "object_fit": null,
            "object_position": null,
            "order": null,
            "overflow": null,
            "overflow_x": null,
            "overflow_y": null,
            "padding": null,
            "right": null,
            "top": null,
            "visibility": null,
            "width": null
          }
        },
        "fc8d247c70004b5797ae4cf786ec389b": {
          "model_module": "@jupyter-widgets/controls",
          "model_module_version": "1.5.0",
          "model_name": "ProgressStyleModel",
          "state": {
            "_model_module": "@jupyter-widgets/controls",
            "_model_module_version": "1.5.0",
            "_model_name": "ProgressStyleModel",
            "_view_count": null,
            "_view_module": "@jupyter-widgets/base",
            "_view_module_version": "1.2.0",
            "_view_name": "StyleView",
            "bar_color": null,
            "description_width": ""
          }
        },
        "fee9eb554c2a4a54b4dee30e2d8624f9": {
          "model_module": "@jupyter-widgets/controls",
          "model_module_version": "1.5.0",
          "model_name": "DescriptionStyleModel",
          "state": {
            "_model_module": "@jupyter-widgets/controls",
            "_model_module_version": "1.5.0",
            "_model_name": "DescriptionStyleModel",
            "_view_count": null,
            "_view_module": "@jupyter-widgets/base",
            "_view_module_version": "1.2.0",
            "_view_name": "StyleView",
            "description_width": ""
          }
        }
      }
    }
  },
  "nbformat": 4,
  "nbformat_minor": 0
}
