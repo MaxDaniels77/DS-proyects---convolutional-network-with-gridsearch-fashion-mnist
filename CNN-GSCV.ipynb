{
 "cells": [
  {
   "cell_type": "markdown",
   "metadata": {
    "id": "CcdBuVCde4Xx"
   },
   "source": [
    "# PyTorch: Convolutional Network Fashion- MNIST\n",
    "\n",
    "En este trabajo entrenaremos dos redes neuronales utilizando el framework  ``Pytorch``. Analizaremos la tarea de clasificación de imágenes, utilizando para ello dos arquitecturas diferentes: redes **feed-forward** (perceptrón con una capa unica y sin convolucionar) y redes **convolucionales**.\n",
    "\n",
    "<!-- **Nota:** Esta es una adaptación de un colab provisto en clase.  -->\n",
    "## Tabla de contenidos\n",
    "\n",
    "- [1. Ojetivos](#objetivos)\n",
    "\n",
    "- [2. Obtención y preparación del dataset](#dataset)\n",
    "    - [2.1. Veamos algunos ejemplos.](#ejemplos)\n",
    "\n",
    "- [3. Creación de los modelos](#creacion_modelo)\n",
    "\n",
    "    - [3.1 Red con una unica capa oculta](#modelo1)\n",
    "    - [3.2 Red Convolucional](#modelo2)\n",
    "\n",
    "- [4. Comparativa CNN vs Perceptron con 1 capa oculta](#comparativa)\n",
    "\n",
    "    - [4.1. CNN](#CNN)\n",
    "    - [4.2. Perceptron](#perceptron)\n",
    "    \n",
    "<!-- - [5. Caso de uso](#ruido_gaussiano)\n",
    "    - [5.1. Comparativa aleatoria](#aleat)\n",
    "    - [5.2. Comparativa arbitraria](#arb) -->\n",
    "- [5. Refs](#refs)\n",
    "\n"
   ]
  },
  {
   "cell_type": "markdown",
   "metadata": {},
   "source": [
    "<a id=\"objetivos\"></a>\n",
    "## 1. Objetivos\n",
    "\n",
    "A) Implementá una red neuronal fedforward multicapa y convolucional para aprender a clasificar las imágenes de la base de datos Fashion-MNIST. La red debe tener 784 unidades de entrada y 10 de salida. Definı́ la arquitectura que creas adecuada (número de capas, tamaños de las capas, unidades de activación, dropout, etc). Elegı́ la función de pérdida que creas adecuada, y usá el algoritmo de descenso por el gradiente que creas más conveniente según tu entender.\n",
    "\n",
    "B) Elegı́ la función de pérdida que creas adecuada, y usá el algoritmo de descenso por el gradiente que\n",
    "creas más conveniente para entrenear a la red.\n",
    "\n",
    "C) Utilizando los conceptos de conjuntos de entrenamiento, validación y prueba, compará el rendimiento\n",
    "de la red convolucional profunda con los mejores resultados obtenidos con una red de una sola capa oculta\n",
    "y sin convolución y comentá."
   ]
  },
  {
   "cell_type": "markdown",
   "metadata": {
    "id": "UwkdfawAfcgU"
   },
   "source": [
    "## Importando librerías\n",
    "\n",
    "Importamos librerías, configuramos los gráficos, etc."
   ]
  },
  {
   "cell_type": "code",
   "execution_count": 1,
   "metadata": {
    "id": "L4_wgefEk8ZY",
    "tags": []
   },
   "outputs": [],
   "source": [
    "import numpy as np                          ## Computación científica (vectores, matrices, etc.)\n",
    "import pandas as pd                         ## pandas\n",
    "\n",
    "from tqdm.notebook import tqdm              ## Barras de progreso\n",
    "\n",
    "import pickle                               ## Para guardar en y leer de archivos, objetos de Python\n",
    "\n",
    "import torch                                ## Framework de redes neturonales\n",
    "from torch import nn                        ## Clases de redes neuronales\n",
    "from torch.nn.functional import softmax\n",
    "from torch.utils.data import DataLoader\n",
    "from torchvision import datasets\n",
    "\n",
    "## Convierte una imagen en un tensor de PyTorch, normalizado en el rango [0, 1]\n",
    "from torchvision.transforms import ToTensor\n",
    "\n",
    "## Librerías de visualización\n",
    "import matplotlib.pyplot as plt             ## Gráficos varios\n",
    "import seaborn as sns                       ## Gráficos más específicos\n",
    "\n",
    "## Configuración general\n",
    "sns.set()                                   \n",
    "sns.set_context('talk')\n",
    "%matplotlib inline"
   ]
  },
  {
   "cell_type": "code",
   "execution_count": 5,
   "metadata": {},
   "outputs": [],
   "source": [
    "# from ray import tune\n",
    "# from ray.tune import CLIReporter\n",
    "# from ray.tune.schedulers import ASHAScheduler"
   ]
  },
  {
   "cell_type": "markdown",
   "metadata": {
    "id": "QDvAZDExWbeA"
   },
   "source": [
    "Vemos si la GPU está disponible. Si lo está, la utilizaremos, y si no, usaremos una CPU."
   ]
  },
  {
   "cell_type": "code",
   "execution_count": 6,
   "metadata": {
    "colab": {
     "base_uri": "https://localhost:8080/",
     "height": 36
    },
    "id": "oPfKVhIzWZ1E",
    "outputId": "60d8c261-800b-42e0-dbe4-f343380a9b86"
   },
   "outputs": [
    {
     "data": {
      "text/plain": [
       "'cpu'"
      ]
     },
     "execution_count": 6,
     "metadata": {},
     "output_type": "execute_result"
    }
   ],
   "source": [
    "## Elegimos si usar CPU o GPU para los cálculos\n",
    "device = \"cuda\" if torch.cuda.is_available() else \"cpu\"\n",
    "device"
   ]
  },
  {
   "cell_type": "markdown",
   "metadata": {
    "id": "FT_zim6tf65H"
   },
   "source": [
    "<a id=\"dataset\"></a>\n",
    "## 2. Obtención y preparación del dataset\n",
    "\n",
    "Como el dataset es relativamente pequeño, lo descargamos en el momento y lo almacenamos en una carpeta local temporal. Al cerrar la sesión, los archivos serán eliminados.\n",
    "\n",
    "\n",
    "\n"
   ]
  },
  {
   "cell_type": "code",
   "execution_count": 7,
   "metadata": {
    "colab": {
     "base_uri": "https://localhost:8080/",
     "height": 443,
     "referenced_widgets": [
      "7220146c77734618adc25a3c4677995b",
      "fb83bb14d1fb48b4a3c803a79e8de320",
      "eb02687d65dc40c6b3fedfaf6447664b",
      "ecf349a24d8c4f488c657e2cf5631991",
      "9f11f8dd1ec54a95a36f14dfcceee622",
      "c23a46a1f0bc440ca645a1c67d9e569d",
      "fee9eb554c2a4a54b4dee30e2d8624f9",
      "aa70a674da09469298aa18fd38e5a3dd",
      "42fe717f238144dab7db13fbe0c7ad49",
      "8b3b8e2b0fc348509d2bb0f289d0fd6c",
      "171b2f2ab7ae4dae8795c0f5026221af",
      "ecbab07c1ff94306bc3223e003ba7e6d",
      "9dbd131dcb1048a8b7a512e68c8164c3",
      "a1e2310ada11416380ccdae6a9526fb0",
      "17c1ad1186944afa861ab919ae7fd6f8",
      "4251ec30208247d7bf933fc96928a67b",
      "d639f69f8aa645238e81e164beb64786",
      "61ae700b78374c4f875ed91dd7169ff7",
      "b2f6f2e94b7e49b6a617fdffce627f55",
      "81e7f1955fd44f988e1e558db8ef6fc6",
      "2cefa7ecb6d140d589b6c35839410ae0",
      "020c4ebb405245079ae6d2eeb3f5ab44",
      "d18cd8ba77a041e9b7f986f6a10a9089",
      "30e7a9cf089745b4936af8df5727b646",
      "47d355af9fd64168b13ecd5d0267439a",
      "589d9a40396d4f40b1d8e0d8e19f70d8",
      "402321aba5364603a2fe8ec2d0602a9c",
      "139a571b44d8467dad3ff988e2317d98",
      "5c944b8a71cd4d2a9f0b1329081e242a",
      "42e8040b2eba4dcfae18fd43965b9905",
      "fc8d247c70004b5797ae4cf786ec389b",
      "3a2614ab19c544d78a81cf9c72ddaded",
      "a76206268d1540d59e2f7584e24f8fdc",
      "e4f8682349734a8ebbfdf39c9b3ff976",
      "c3c083b915124aa3ac069a44122d24c9",
      "f025d85193744c6ba6fc4115a22be8a5",
      "8833ab479835449eb98861bcf33991cc",
      "c410a702d48643be996548aaa64ca501",
      "3f508985d8324f14b63579a720a16cfb",
      "18fb16907465448395a67e0daeb1d7bc",
      "fc2d9ccb1a0d434baf561ff3a7bbe234",
      "a3110445ecde4d60b2ace874c6c32030",
      "6fb4dd31f7624d459104e5807e823714",
      "33796a7dcd5f4cbd9a15e3c6e2bd0729"
     ]
    },
    "id": "86bX0V_3f9km",
    "outputId": "2d27e695-ffdd-4d0e-a84b-58b56df51394"
   },
   "outputs": [],
   "source": [
    "## Descargamos el conjunto de entrenamiento\n",
    "training_data = datasets.FashionMNIST(\n",
    "    root=\"data\",          ## Carpeta de descarga\n",
    "    train=True,           ## Elegimos el conjunto de entrenamiento\n",
    "    download=True,        ## Pedimos que lo descargue\n",
    "    transform=ToTensor()  ## Lo transformamos en un \"tensor\" normalizado entre 0 y 1\n",
    ")\n",
    "\n",
    "## Descargamos el conjunto de evaluación\n",
    "test_data = datasets.FashionMNIST(\n",
    "    root=\"data\",\n",
    "    train=False,\n",
    "    download=True,\n",
    "    transform=ToTensor()\n",
    ")"
   ]
  },
  {
   "cell_type": "markdown",
   "metadata": {
    "id": "68BzUv7egEcN"
   },
   "source": [
    "Vemos cómo está estructurado el dataset"
   ]
  },
  {
   "cell_type": "code",
   "execution_count": 8,
   "metadata": {
    "colab": {
     "base_uri": "https://localhost:8080/"
    },
    "id": "UNbVA_-rf--G",
    "outputId": "064ef73f-7bd0-4b7b-878e-542a32016960"
   },
   "outputs": [
    {
     "name": "stdout",
     "output_type": "stream",
     "text": [
      "Dataset FashionMNIST\n",
      "    Number of datapoints: 60000\n",
      "    Root location: data\n",
      "    Split: Train\n",
      "    StandardTransform\n",
      "Transform: ToTensor()\n",
      "---------\n",
      "\n",
      "Dataset FashionMNIST\n",
      "    Number of datapoints: 10000\n",
      "    Root location: data\n",
      "    Split: Test\n",
      "    StandardTransform\n",
      "Transform: ToTensor()\n",
      "---------\n"
     ]
    }
   ],
   "source": [
    "print(training_data, end='\\n---------\\n\\n')\n",
    "print(test_data, end='\\n---------\\n')"
   ]
  },
  {
   "cell_type": "markdown",
   "metadata": {
    "id": "KXTmRGVQgKqF"
   },
   "source": [
    "<a id=\"ejemplos\"></a>\n",
    "### 2.1 Veamos algunos ejemplos.\n",
    "\n",
    "Graficamos al azar algunas imágenes, con sus correspondientes etiquetas."
   ]
  },
  {
   "cell_type": "code",
   "execution_count": 9,
   "metadata": {
    "colab": {
     "base_uri": "https://localhost:8080/",
     "height": 486
    },
    "id": "JO7-jv2WgGm7",
    "outputId": "ec38d066-23b8-46fe-bdc7-560fa1ae4833"
   },
   "outputs": [
    {
     "data": {
      "image/png": "[encoded data removed]",
      "text/plain": [
       "<Figure size 1000x600 with 12 Axes>"
      ]
     },
     "metadata": {},
     "output_type": "display_data"
    }
   ],
   "source": [
    "## Definimos el diccionario de etiquetas\n",
    "labels_map = {\n",
    "    0: \"T-Shirt\",\n",
    "    1: \"Trouser\",\n",
    "    2: \"Pullover\",\n",
    "    3: \"Dress\",\n",
    "    4: \"Coat\",\n",
    "    5: \"Sandal\",\n",
    "    6: \"Shirt\",\n",
    "    7: \"Sneaker\",\n",
    "    8: \"Bag\",\n",
    "    9: \"Ankle Boot\",\n",
    "}\n",
    "\n",
    "# Esto lo puedo pasar a una funcion si lo voy a usar recurrentemente\n",
    "\n",
    "## Construimos el gráfico\n",
    "figure = plt.figure(figsize=(10, 6))\n",
    "cols, rows = 4, 3\n",
    "for i in range(1, cols*rows + 1):\n",
    "    ## Elegimos muestras al azar para visualizar\n",
    "    sample_idx = torch.randint(len(training_data), size=(1,)).item()\n",
    "    img, label = training_data[sample_idx]\n",
    "    figure.add_subplot(rows, cols, i)\n",
    "    plt.title(labels_map[label])\n",
    "    plt.axis(\"off\")\n",
    "    plt.imshow(\n",
    "        ## El método squeeze elimina dimensiones con un\n",
    "        ## sólo elemento. En este caso, la dimensión C\n",
    "        ## (channel). Esta dimensión es trivial porque\n",
    "        ## las imágenes son en escala de grises. Si fuese\n",
    "        ## RGB, tendríamos 3 canales, uno para cada color.\n",
    "        img.squeeze(), \n",
    "        cmap=\"gray\"\n",
    "    )\n",
    "plt.show()"
   ]
  },
  {
   "cell_type": "markdown",
   "metadata": {},
   "source": [
    "El dataset esta balanceado? "
   ]
  },
  {
   "cell_type": "code",
   "execution_count": 10,
   "metadata": {},
   "outputs": [],
   "source": [
    "train_labels = pd.Series([training_data[i][1] for i in range(len(training_data))])\n",
    "test_labels = pd.Series([test_data[i][1] for i in range(len(test_data))])"
   ]
  },
  {
   "cell_type": "code",
   "execution_count": 11,
   "metadata": {},
   "outputs": [
    {
     "data": {
      "image/png": "[encoded data removed]",
      "text/plain": [
       "<Figure size 1400x600 with 2 Axes>"
      ]
     },
     "metadata": {},
     "output_type": "display_data"
    }
   ],
   "source": [
    "train_count= train_labels.value_counts()\n",
    "test_count= test_labels.value_counts()\n",
    "#define Seaborn color palette to use\n",
    "colors = sns.color_palette('pastel')[0:len(train_count)]\n",
    "fig, ax = plt.subplots(1,2,figsize=(14,6))\n",
    "#create pie chart\n",
    "ax[0].pie(train_count, labels = train_count.index.map(labels_map), colors = colors, autopct='%.0f%%')\n",
    "ax[0].set_title(\"Train\")\n",
    "ax[1].pie(test_count, labels = test_count.index.map(labels_map), colors = colors, autopct='%.0f%%')\n",
    "ax[1].set_title(\"Test\")\n",
    "plt.show()\n",
    " "
   ]
  },
  {
   "cell_type": "markdown",
   "metadata": {
    "id": "4MuoUCwGgJaI"
   },
   "source": [
    "Pasamos el ``Dataset`` como argumento a  ``DataLoader``. De esta manera encapsulamos el dataset en un iterable que soporta varias operaciones útiles, como trabajar por batch, hacer sampling, paralelizar el cómputo, etc.\n",
    "\n",
    "Elegimos un tamaño de batch de 64 ejemplos. Cada elemento que nos devuelva el iterable va a contener 64 ejemplos con sus atributos y sus etiquetas."
   ]
  },
  {
   "cell_type": "code",
   "execution_count": 12,
   "metadata": {
    "colab": {
     "base_uri": "https://localhost:8080/"
    },
    "id": "qShEFFqXgP56",
    "outputId": "036f39d5-91aa-4ca9-980d-9556cfca5336"
   },
   "outputs": [
    {
     "name": "stdout",
     "output_type": "stream",
     "text": [
      "Dimensiones de X [N, C, H, W]:  torch.Size([64, 1, 28, 28])\n",
      "Dimensiones de y:  torch.Size([64]) torch.int64\n"
     ]
    }
   ],
   "source": [
    "batch_size = 64\n",
    "\n",
    "## Creamos los data loaders.\n",
    "train_dataloader = DataLoader(training_data, batch_size=batch_size)\n",
    "test_dataloader = DataLoader(test_data, batch_size=batch_size)\n",
    "\n",
    "for X, y in test_dataloader:\n",
    "    print(\"Dimensiones de X [N, C, H, W]: \", X.shape)\n",
    "    print(\"Dimensiones de y: \", y.shape, y.dtype)\n",
    "    break"
   ]
  },
  {
   "cell_type": "markdown",
   "metadata": {
    "id": "U9gfRw94gSS2"
   },
   "source": [
    "<a id=\"creacion_modelo\"></a>\n",
    "## 3. Creamos el modelo\n",
    "\n",
    "Todos los modelos en `pytorch` se definen como subclases de una clase genérica llamada `Module`.\n",
    "\n",
    "Nuestro **primer modelo** será una red de tipo **perceptrón multicapa**, con una capa oculta y función de activación de tipo **Rectified Linear Unit (ReLU)**.\n",
    "\n",
    "![picture](https://static.packt-cdn.com/products/9781786468574/graphics/B05474_04_05.jpg)"
   ]
  },
  {
   "cell_type": "markdown",
   "metadata": {
    "id": "uYR3JFLOWLrd"
   },
   "source": [
    "\n",
    "El segundo modelo será una **red convolucional profunda**, con la misma función de activación\n",
    "\n",
    "![picture](https://miro.medium.com/max/2000/1*7K4ZTTfZb-hbjoADbisHAg.png)"
   ]
  },
  {
   "cell_type": "markdown",
   "metadata": {},
   "source": [
    "<a id=\"modelo1\"></a>\n",
    "### 3.1 Red con una unica capa oculta"
   ]
  },
  {
   "cell_type": "code",
   "execution_count": 13,
   "metadata": {
    "colab": {
     "base_uri": "https://localhost:8080/"
    },
    "id": "RVyq_P77gaQ-",
    "outputId": "20c2d16e-f190-4010-b6c4-f3ee1a98b727"
   },
   "outputs": [],
   "source": [
    "## Definimos el primer modelo\n",
    "class MultiLayerPerceptron(nn.Module):\n",
    "    def __init__(self):\n",
    "        super().__init__()\n",
    "\n",
    "        ## \"Achatamos\" la matriz de 28x28 píxeles, \n",
    "        ## transformandola en un vector de 784 elementos\n",
    "        self.flatten = nn.Flatten()\n",
    "\n",
    "        ## Definimos el perceptrón multicapa con las\n",
    "        ## siguientes capas:\n",
    "        ##\n",
    "        ## Entrada:        784 neuronas\n",
    "        ## 1º capa oculta: 512 neuronas\n",
    "        ## Salida:         10  neuronas\n",
    "        ##\n",
    "        ## Entre capa y capa, utilizamos función de \n",
    "        ## activación ReLU\n",
    "        self.linear_relu_stack = nn.Sequential(\n",
    "            nn.Linear(28*28, 512),\n",
    "            nn.ReLU(),\n",
    "            nn.Linear(512, 10),\n",
    "            nn.ReLU()\n",
    "        )\n",
    "\n",
    "    def forward(self, x):\n",
    "        x = self.flatten(x)\n",
    "        x = self.linear_relu_stack(x)\n",
    "        return x\n"
   ]
  },
  {
   "cell_type": "markdown",
   "metadata": {},
   "source": [
    "<a id=\"modelo2\"></a>\n",
    "### 3.2 Red convolucional"
   ]
  },
  {
   "cell_type": "code",
   "execution_count": 14,
   "metadata": {},
   "outputs": [],
   "source": [
    "\n",
    "## Definimos el segundo modelo\n",
    "class CNN(nn.Module):\n",
    "    def __init__(self):\n",
    "        super().__init__()\n",
    "\n",
    "        ## Primera capa convolucional:\n",
    "        ## construimos 32 canales usando filtros (kernels) de 3x3\n",
    "        self.conv1 = nn.Sequential(         \n",
    "            nn.Conv2d(\n",
    "                in_channels=1,              \n",
    "                out_channels=32,            \n",
    "                kernel_size=3,                                 \n",
    "                padding=1,                  \n",
    "            ),\n",
    "            ## Aplicamos Batch Normalization como regularización\n",
    "            nn.BatchNorm2d(32),\n",
    "            ## Aplicamos la función de activación               \n",
    "            nn.ReLU(),      \n",
    "            ## Reducimos la imagen con Max Pooling                  \n",
    "            nn.MaxPool2d(kernel_size=2, stride=2),    \n",
    "        )\n",
    "\n",
    "        ## Segunda capa convolucional:\n",
    "        ## construimos 64 canales usando filtros (kernels) de 3x3\n",
    "        self.conv2 = nn.Sequential(         \n",
    "            nn.Conv2d(\n",
    "                in_channels=32,              \n",
    "                out_channels=64,            \n",
    "                kernel_size=3,                               \n",
    "                padding=0\n",
    "            ),    \n",
    "            nn.BatchNorm2d(64),\n",
    "            nn.ReLU(),                      \n",
    "            nn.MaxPool2d(kernel_size=2, stride=2),                \n",
    "        )\n",
    "\n",
    "        ## \"Achatamos\" la salida de la última capa, de 64 canales \n",
    "        ## de tamaño 6x6, transformandola en un vector de 64*6*6 elementos\n",
    "        self.flatten = nn.Flatten()\n",
    "\n",
    "        ## Después de las capas convoulucionales,\n",
    "        ## agregamos algunas capas densas. La última, de 10\n",
    "        ## neurnonas, es nuestra capa de salida\n",
    "        self.linear_relu_stack = nn.Sequential(\n",
    "            nn.Linear(64 * 6 * 6, 600),\n",
    "            nn.Dropout(0.25), \n",
    "            nn.ReLU(),\n",
    "            nn.Linear(600, 120),\n",
    "            nn.Dropout(0.25), ## Regularizamos con dropout después de cada capa\n",
    "            nn.ReLU(),\n",
    "            nn.Linear(120, 10),\n",
    "            nn.Dropout(0.25), \n",
    "            nn.ReLU() \n",
    "        )\n",
    "\n",
    "    def forward(self, x):\n",
    "        x = self.conv1(x)\n",
    "        x = self.conv2(x)\n",
    "        x = self.flatten(x)     \n",
    "        x = self.linear_relu_stack(x)\n",
    "        return x\n"
   ]
  },
  {
   "cell_type": "code",
   "execution_count": 15,
   "metadata": {},
   "outputs": [
    {
     "name": "stdout",
     "output_type": "stream",
     "text": [
      "CNN(\n",
      "  (conv1): Sequential(\n",
      "    (0): Conv2d(1, 32, kernel_size=(3, 3), stride=(1, 1), padding=(1, 1))\n",
      "    (1): BatchNorm2d(32, eps=1e-05, momentum=0.1, affine=True, track_running_stats=True)\n",
      "    (2): ReLU()\n",
      "    (3): MaxPool2d(kernel_size=2, stride=2, padding=0, dilation=1, ceil_mode=False)\n",
      "  )\n",
      "  (conv2): Sequential(\n",
      "    (0): Conv2d(32, 64, kernel_size=(3, 3), stride=(1, 1))\n",
      "    (1): BatchNorm2d(64, eps=1e-05, momentum=0.1, affine=True, track_running_stats=True)\n",
      "    (2): ReLU()\n",
      "    (3): MaxPool2d(kernel_size=2, stride=2, padding=0, dilation=1, ceil_mode=False)\n",
      "  )\n",
      "  (flatten): Flatten(start_dim=1, end_dim=-1)\n",
      "  (linear_relu_stack): Sequential(\n",
      "    (0): Linear(in_features=2304, out_features=600, bias=True)\n",
      "    (1): Dropout(p=0.25, inplace=False)\n",
      "    (2): ReLU()\n",
      "    (3): Linear(in_features=600, out_features=120, bias=True)\n",
      "    (4): Dropout(p=0.25, inplace=False)\n",
      "    (5): ReLU()\n",
      "    (6): Linear(in_features=120, out_features=10, bias=True)\n",
      "    (7): Dropout(p=0.25, inplace=False)\n",
      "    (8): ReLU()\n",
      "  )\n",
      ")\n"
     ]
    }
   ],
   "source": [
    "\n",
    "## Creamos una instancia de nuestro modelo\n",
    "## (un objeto de la clase correspondiente)\n",
    "#\n",
    "# model = MultiLayerPerceptron()\n",
    "# model_name = \"MLP\" # Multi Layer Perceptron\n",
    "#\n",
    "model = CNN()\n",
    "model_name = \"CNN\" # Convolutional Neuronal Network\n",
    "\n",
    "## \"enviamos\" el modelo a la GPU o a la CPU, \n",
    "## según esté disponible\n",
    "model.to(device)\n",
    "\n",
    "print(model)"
   ]
  },
  {
   "cell_type": "markdown",
   "metadata": {
    "id": "2mgJNaiMgd5p"
   },
   "source": [
    "## Entrenamiento del modelo\n",
    "\n",
    "Para entrenar el modelo, necesitamos definir una `función error` (loss function) y un `optimizador` (el algoritmo que intentará minimizar el error).\n",
    "\n",
    "La función de costo que elegimos es la *Cross Entropy*, y el optimizador que elegimos es *Adam*."
   ]
  },
  {
   "cell_type": "code",
   "execution_count": 16,
   "metadata": {
    "id": "xNHHf2HAgexa"
   },
   "outputs": [],
   "source": [
    "## Definimos la función error o \"loss\"\n",
    "loss_fn = nn.CrossEntropyLoss()\n",
    "loss_fn_name = 'CrossEntropy'\n",
    "\n",
    "## Definimos el optimizador\n",
    "## Una opción es usar el SGD\n",
    "\n",
    "# learning_rate = 1e-2 \n",
    "# momentum = 0.5\n",
    "# sgd_optimizer = torch.optim.SGD(\n",
    "#    model.parameters(), \n",
    "#    lr=learning_rate, \n",
    "#    momentum=momentum\n",
    "# )\n",
    "\n",
    "# Otra opción es Adam\n",
    "learning_rate = 0.001\n",
    "adam_optimizer = torch.optim.Adam(\n",
    "    model.parameters(),\n",
    "    lr=learning_rate\n",
    ")\n",
    "\n",
    "## Para la red Feed-Forward elegimos este\n",
    "# optimizer = sgd_optimizer\n",
    "\n",
    "## Para la CNN funciona mejor este\n",
    "optimizer = adam_optimizer"
   ]
  },
  {
   "cell_type": "markdown",
   "metadata": {
    "id": "rnkbcJ0HgiOK"
   },
   "source": [
    "Para cada ciclo de entrenamiento, el modelo hace predicciones sobre el conjunto de entrenamiento, el cual se presenta en lotes (batchs), y hace *backpropagation* del error obtenido para ajustar los parámetros."
   ]
  },
  {
   "cell_type": "code",
   "execution_count": 17,
   "metadata": {
    "id": "CJX_EG0Qghst"
   },
   "outputs": [],
   "source": [
    "def train(dataloader, model, loss_fn, optimizer):\n",
    "    \"\"\"\n",
    "    Entrena el modelo una época.\n",
    "    \"\"\"\n",
    "    size = len(dataloader.dataset)\n",
    "    model.train()\n",
    "    for batch, (X, y) in enumerate(dataloader):\n",
    "        X, y = X.to(device), y.to(device)\n",
    "        \n",
    "        batch_size = X.shape[0]\n",
    "        \n",
    "        ## Calculamos el error en la predicción\n",
    "        pred = model(X)\n",
    "        true = y\n",
    "        loss = loss_fn(pred, true)\n",
    "\n",
    "        ## Ajustamos los pesos haciendo backpropagation\n",
    "        \n",
    "        # Reiniciamos  los gradientes de los tensores optimizados. \n",
    "        # Se deben reiniciar los gradientes antes de calcular nuevos gradientes para evitar acumular gradientes de cálculos previos.\n",
    "        optimizer.zero_grad()\n",
    "        \n",
    "        # Esta línea se utiliza para calcular los gradientes del error (o pérdida) con respecto a todos los parámetros \n",
    "        # que pueden ser entrenados (aprendidos) en la red neuronal. Esto se hace utilizando el algoritmo de retropropagación, \n",
    "        # que propaga el error hacia atrás a través de la red, calculando la derivada de la pérdida con respecto a cada parámetro.\n",
    "        loss.backward()\n",
    "        #Esta línea se utiliza para actualizar los parámetros de la red neuronal utilizando los gradientes calculados en el paso anterior.\n",
    "        # El optimizador se encarga de ajustar los parámetros según un algoritmo de optimización específico, \n",
    "        # como descenso de gradiente estocástico (SGD) o Adam.\n",
    "        optimizer.step()\n",
    "        \n",
    "        if batch % 100 == 0:\n",
    "            train_loss = loss.item() / batch_size\n",
    "            current = batch * batch_size\n",
    "            print(f\"loss: {train_loss:>7f}  [{current:>5d}/{size:>5d}]\")\n",
    "        "
   ]
  },
  {
   "cell_type": "markdown",
   "metadata": {
    "id": "dqMc6Ea0gn6V"
   },
   "source": [
    "También evaluamos el desempeño del modelo con respecto al conjunto de validación para asegurarnos de que esté aprendiendo.\n"
   ]
  },
  {
   "cell_type": "code",
   "execution_count": 18,
   "metadata": {
    "id": "spslMx6Hgoqm"
   },
   "outputs": [],
   "source": [
    "def test(dataloader, model, loss_fn, verbose=True):\n",
    "    \"\"\"\n",
    "    Evalúa el modelo sobre los datos presentados en el parámetro \"dataloader\",\n",
    "    y calcula las métricas correspondientes.\n",
    "    \"\"\"\n",
    "    size = len(dataloader.dataset)\n",
    "    test_loss, correct = 0, 0\n",
    "    model.eval()\n",
    "    with torch.no_grad():\n",
    "        for X, y in dataloader:\n",
    "            X, y = X.to(device), y.to(device)\n",
    "            y_pred = model(X)\n",
    "            test_loss += loss_fn(y_pred, y).item()\n",
    "            correct += (y_pred.argmax(1) == y).type(torch.float).sum().item()\n",
    "    test_loss /= size\n",
    "    correct /= size\n",
    "    accuracy = 100*correct\n",
    "    if verbose:\n",
    "      print(f\"Accuracy: {(100*correct):>0.2f}%, Avg loss: {test_loss:>8f}\")\n",
    "\n",
    "    return test_loss, accuracy"
   ]
  },
  {
   "cell_type": "markdown",
   "metadata": {
    "id": "woFzMw2hgse5"
   },
   "source": [
    "El proceso de entrenamiento se lleva a cabo en iteraciones llamadas épocas. Durante cada época, el modelo ajusta los parámetros para mejorar la predicción.\n",
    "\n",
    "Imprimimos la precisión del modelo y la loss para cada época. Lo ideal es que la predicción aumente y que la loss disminuya con cada época."
   ]
  },
  {
   "cell_type": "code",
   "execution_count": 20,
   "metadata": {
    "colab": {
     "base_uri": "https://localhost:8080/"
    },
    "id": "MxFqqHU1gs1m",
    "outputId": "3c04cb5b-5f8e-4421-89d2-fabcb33b4ed1"
   },
   "outputs": [
    {
     "name": "stdout",
     "output_type": "stream",
     "text": [
      "Época 1\n",
      "loss: 0.025420  [    0/60000]\n",
      "loss: 0.026844  [ 6400/60000]\n",
      "loss: 0.018336  [12800/60000]\n",
      "loss: 0.016938  [19200/60000]\n",
      "loss: 0.018926  [25600/60000]\n",
      "loss: 0.018584  [32000/60000]\n",
      "loss: 0.013053  [38400/60000]\n",
      "loss: 0.022423  [44800/60000]\n",
      "loss: 0.019046  [51200/60000]\n",
      "loss: 0.013712  [57600/60000]\n",
      "\n",
      "Train performance:\n",
      "Accuracy: 77.50%, Avg loss: 0.011109\n",
      "Test performance:\n",
      "Accuracy: 76.43%, Avg loss: 0.011652\n",
      "-------------------------------------\n",
      "\n",
      "Época 2\n",
      "loss: 0.013427  [    0/60000]\n",
      "loss: 0.017678  [ 6400/60000]\n",
      "loss: 0.014084  [12800/60000]\n",
      "loss: 0.015145  [19200/60000]\n",
      "loss: 0.018499  [25600/60000]\n",
      "loss: 0.017278  [32000/60000]\n",
      "loss: 0.017102  [38400/60000]\n",
      "loss: 0.012969  [44800/60000]\n",
      "loss: 0.012404  [51200/60000]\n",
      "loss: 0.011093  [57600/60000]\n",
      "\n",
      "Train performance:\n",
      "Accuracy: 91.12%, Avg loss: 0.005503\n",
      "Test performance:\n",
      "Accuracy: 89.69%, Avg loss: 0.006176\n",
      "-------------------------------------\n",
      "\n",
      "Época 3\n",
      "loss: 0.009184  [    0/60000]\n",
      "loss: 0.011590  [ 6400/60000]\n",
      "loss: 0.012847  [12800/60000]\n",
      "loss: 0.012735  [19200/60000]\n",
      "loss: 0.016744  [25600/60000]\n",
      "loss: 0.016861  [32000/60000]\n",
      "loss: 0.011085  [38400/60000]\n",
      "loss: 0.013873  [44800/60000]\n",
      "loss: 0.014298  [51200/60000]\n",
      "loss: 0.008714  [57600/60000]\n",
      "\n",
      "Train performance:\n",
      "Accuracy: 88.74%, Avg loss: 0.006339\n",
      "Test performance:\n",
      "Accuracy: 87.34%, Avg loss: 0.007131\n",
      "-------------------------------------\n",
      "\n",
      "Época 4\n",
      "loss: 0.007520  [    0/60000]\n",
      "loss: 0.012931  [ 6400/60000]\n",
      "loss: 0.012212  [12800/60000]\n",
      "loss: 0.013964  [19200/60000]\n",
      "loss: 0.015463  [25600/60000]\n",
      "loss: 0.016289  [32000/60000]\n",
      "loss: 0.011681  [38400/60000]\n",
      "loss: 0.013783  [44800/60000]\n",
      "loss: 0.012179  [51200/60000]\n",
      "loss: 0.012018  [57600/60000]\n",
      "\n",
      "Train performance:\n",
      "Accuracy: 92.93%, Avg loss: 0.004665\n",
      "Test performance:\n",
      "Accuracy: 90.91%, Avg loss: 0.005625\n",
      "-------------------------------------\n",
      "\n",
      "Época 5\n",
      "loss: 0.009026  [    0/60000]\n",
      "loss: 0.012891  [ 6400/60000]\n",
      "loss: 0.010779  [12800/60000]\n",
      "loss: 0.012902  [19200/60000]\n",
      "loss: 0.012558  [25600/60000]\n",
      "loss: 0.012011  [32000/60000]\n",
      "loss: 0.013024  [38400/60000]\n",
      "loss: 0.013888  [44800/60000]\n",
      "loss: 0.012299  [51200/60000]\n",
      "loss: 0.015248  [57600/60000]\n",
      "\n",
      "Train performance:\n",
      "Accuracy: 93.39%, Avg loss: 0.004447\n",
      "Test performance:\n",
      "Accuracy: 90.99%, Avg loss: 0.005608\n",
      "-------------------------------------\n",
      "\n",
      "Época 6\n",
      "loss: 0.011179  [    0/60000]\n",
      "loss: 0.012123  [ 6400/60000]\n",
      "loss: 0.008326  [12800/60000]\n",
      "loss: 0.010068  [19200/60000]\n",
      "loss: 0.011954  [25600/60000]\n",
      "loss: 0.013938  [32000/60000]\n",
      "loss: 0.012355  [38400/60000]\n",
      "loss: 0.012911  [44800/60000]\n",
      "loss: 0.016369  [51200/60000]\n",
      "loss: 0.011997  [57600/60000]\n",
      "\n",
      "Train performance:\n",
      "Accuracy: 93.40%, Avg loss: 0.004083\n",
      "Test performance:\n",
      "Accuracy: 91.02%, Avg loss: 0.005299\n",
      "-------------------------------------\n",
      "\n",
      "Época 7\n",
      "loss: 0.010631  [    0/60000]\n",
      "loss: 0.012609  [ 6400/60000]\n",
      "loss: 0.008576  [12800/60000]\n",
      "loss: 0.011038  [19200/60000]\n",
      "loss: 0.008863  [25600/60000]\n",
      "loss: 0.012507  [32000/60000]\n",
      "loss: 0.014991  [38400/60000]\n",
      "loss: 0.012828  [44800/60000]\n",
      "loss: 0.014790  [51200/60000]\n",
      "loss: 0.008489  [57600/60000]\n",
      "\n",
      "Train performance:\n",
      "Accuracy: 93.73%, Avg loss: 0.003933\n",
      "Test performance:\n",
      "Accuracy: 91.35%, Avg loss: 0.005213\n",
      "-------------------------------------\n",
      "\n",
      "Época 8\n",
      "loss: 0.013247  [    0/60000]\n",
      "loss: 0.013430  [ 6400/60000]\n",
      "loss: 0.009524  [12800/60000]\n",
      "loss: 0.012878  [19200/60000]\n",
      "loss: 0.013737  [25600/60000]\n",
      "loss: 0.013029  [32000/60000]\n",
      "loss: 0.012226  [38400/60000]\n",
      "loss: 0.011238  [44800/60000]\n",
      "loss: 0.012201  [51200/60000]\n",
      "loss: 0.009359  [57600/60000]\n",
      "\n",
      "Train performance:\n",
      "Accuracy: 94.36%, Avg loss: 0.003535\n",
      "Test performance:\n",
      "Accuracy: 91.50%, Avg loss: 0.005048\n",
      "-------------------------------------\n",
      "\n",
      "Época 9\n",
      "loss: 0.012211  [    0/60000]\n",
      "loss: 0.008073  [ 6400/60000]\n",
      "loss: 0.014252  [12800/60000]\n",
      "loss: 0.009249  [19200/60000]\n",
      "loss: 0.008468  [25600/60000]\n",
      "loss: 0.011823  [32000/60000]\n",
      "loss: 0.011811  [38400/60000]\n",
      "loss: 0.007563  [44800/60000]\n",
      "loss: 0.012875  [51200/60000]\n",
      "loss: 0.013150  [57600/60000]\n",
      "\n",
      "Train performance:\n",
      "Accuracy: 95.05%, Avg loss: 0.003204\n",
      "Test performance:\n",
      "Accuracy: 91.83%, Avg loss: 0.004934\n",
      "-------------------------------------\n",
      "\n",
      "Época 10\n",
      "loss: 0.010349  [    0/60000]\n",
      "loss: 0.009045  [ 6400/60000]\n",
      "loss: 0.011300  [12800/60000]\n",
      "loss: 0.010293  [19200/60000]\n",
      "loss: 0.009618  [25600/60000]\n",
      "loss: 0.012913  [32000/60000]\n",
      "loss: 0.012240  [38400/60000]\n",
      "loss: 0.011039  [44800/60000]\n",
      "loss: 0.014092  [51200/60000]\n",
      "loss: 0.008642  [57600/60000]\n",
      "\n",
      "Train performance:\n",
      "Accuracy: 94.90%, Avg loss: 0.003295\n",
      "Test performance:\n",
      "Accuracy: 91.59%, Avg loss: 0.005120\n",
      "-------------------------------------\n",
      "\n",
      "Época 11\n",
      "loss: 0.013437  [    0/60000]\n",
      "loss: 0.008501  [ 6400/60000]\n",
      "loss: 0.015544  [12800/60000]\n",
      "loss: 0.009869  [19200/60000]\n",
      "loss: 0.014829  [25600/60000]\n",
      "loss: 0.011862  [32000/60000]\n",
      "loss: 0.008827  [38400/60000]\n",
      "loss: 0.009091  [44800/60000]\n",
      "loss: 0.008849  [51200/60000]\n",
      "loss: 0.010724  [57600/60000]\n",
      "\n",
      "Train performance:\n",
      "Accuracy: 95.63%, Avg loss: 0.002938\n",
      "Test performance:\n",
      "Accuracy: 91.78%, Avg loss: 0.005023\n",
      "-------------------------------------\n",
      "\n",
      "Época 12\n",
      "loss: 0.007863  [    0/60000]\n",
      "loss: 0.012675  [ 6400/60000]\n",
      "loss: 0.010415  [12800/60000]\n",
      "loss: 0.008360  [19200/60000]\n",
      "loss: 0.009250  [25600/60000]\n",
      "loss: 0.013272  [32000/60000]\n",
      "loss: 0.013117  [38400/60000]\n",
      "loss: 0.008518  [44800/60000]\n",
      "loss: 0.011991  [51200/60000]\n",
      "loss: 0.008312  [57600/60000]\n",
      "\n",
      "Train performance:\n",
      "Accuracy: 96.37%, Avg loss: 0.002384\n",
      "Test performance:\n",
      "Accuracy: 92.18%, Avg loss: 0.004704\n",
      "-------------------------------------\n",
      "\n",
      "Época 13\n",
      "loss: 0.010835  [    0/60000]\n",
      "loss: 0.011433  [ 6400/60000]\n",
      "loss: 0.011287  [12800/60000]\n",
      "loss: 0.011089  [19200/60000]\n",
      "loss: 0.008377  [25600/60000]\n",
      "loss: 0.011973  [32000/60000]\n",
      "loss: 0.012843  [38400/60000]\n",
      "loss: 0.011084  [44800/60000]\n",
      "loss: 0.008946  [51200/60000]\n",
      "loss: 0.010964  [57600/60000]\n",
      "\n",
      "Train performance:\n",
      "Accuracy: 96.36%, Avg loss: 0.002428\n",
      "Test performance:\n",
      "Accuracy: 91.77%, Avg loss: 0.004771\n",
      "-------------------------------------\n",
      "\n",
      "Época 14\n",
      "loss: 0.009466  [    0/60000]\n",
      "loss: 0.009529  [ 6400/60000]\n",
      "loss: 0.011496  [12800/60000]\n",
      "loss: 0.011902  [19200/60000]\n",
      "loss: 0.009204  [25600/60000]\n",
      "loss: 0.012174  [32000/60000]\n",
      "loss: 0.012098  [38400/60000]\n",
      "loss: 0.011009  [44800/60000]\n",
      "loss: 0.008646  [51200/60000]\n",
      "loss: 0.013141  [57600/60000]\n",
      "\n",
      "Train performance:\n",
      "Accuracy: 96.58%, Avg loss: 0.002245\n",
      "Test performance:\n",
      "Accuracy: 91.94%, Avg loss: 0.004934\n",
      "-------------------------------------\n",
      "\n",
      "Época 15\n",
      "loss: 0.010265  [    0/60000]\n",
      "loss: 0.011750  [ 6400/60000]\n",
      "loss: 0.008624  [12800/60000]\n",
      "loss: 0.006429  [19200/60000]\n",
      "loss: 0.011018  [25600/60000]\n",
      "loss: 0.012820  [32000/60000]\n",
      "loss: 0.009553  [38400/60000]\n",
      "loss: 0.014801  [44800/60000]\n",
      "loss: 0.008308  [51200/60000]\n",
      "loss: 0.010750  [57600/60000]\n",
      "\n",
      "Train performance:\n",
      "Accuracy: 96.06%, Avg loss: 0.002467\n",
      "Test performance:\n",
      "Accuracy: 91.21%, Avg loss: 0.005369\n",
      "-------------------------------------\n",
      "\n",
      "Época 16\n",
      "loss: 0.008935  [    0/60000]\n",
      "loss: 0.010360  [ 6400/60000]\n",
      "loss: 0.011908  [12800/60000]\n",
      "loss: 0.007709  [19200/60000]\n",
      "loss: 0.008851  [25600/60000]\n",
      "loss: 0.010527  [32000/60000]\n",
      "loss: 0.008547  [38400/60000]\n",
      "loss: 0.010761  [44800/60000]\n",
      "loss: 0.010734  [51200/60000]\n",
      "loss: 0.008104  [57600/60000]\n",
      "\n",
      "Train performance:\n",
      "Accuracy: 97.34%, Avg loss: 0.001858\n",
      "Test performance:\n",
      "Accuracy: 91.95%, Avg loss: 0.005127\n",
      "-------------------------------------\n",
      "\n",
      "Época 17\n",
      "loss: 0.012526  [    0/60000]\n",
      "loss: 0.011588  [ 6400/60000]\n",
      "loss: 0.008364  [12800/60000]\n",
      "loss: 0.008348  [19200/60000]\n",
      "loss: 0.013131  [25600/60000]\n",
      "loss: 0.012792  [32000/60000]\n",
      "loss: 0.011208  [38400/60000]\n",
      "loss: 0.008148  [44800/60000]\n",
      "loss: 0.008809  [51200/60000]\n",
      "loss: 0.010496  [57600/60000]\n",
      "\n",
      "Train performance:\n",
      "Accuracy: 97.34%, Avg loss: 0.001797\n",
      "Test performance:\n",
      "Accuracy: 92.04%, Avg loss: 0.004936\n",
      "-------------------------------------\n",
      "\n",
      "Época 18\n",
      "loss: 0.009256  [    0/60000]\n",
      "loss: 0.011082  [ 6400/60000]\n",
      "loss: 0.010987  [12800/60000]\n",
      "loss: 0.009524  [19200/60000]\n",
      "loss: 0.012739  [25600/60000]\n",
      "loss: 0.012483  [32000/60000]\n",
      "loss: 0.013961  [38400/60000]\n",
      "loss: 0.009790  [44800/60000]\n",
      "loss: 0.011163  [51200/60000]\n",
      "loss: 0.010121  [57600/60000]\n",
      "\n",
      "Train performance:\n",
      "Accuracy: 97.60%, Avg loss: 0.001552\n",
      "Test performance:\n",
      "Accuracy: 92.46%, Avg loss: 0.004801\n",
      "-------------------------------------\n",
      "\n",
      "Época 19\n",
      "loss: 0.009437  [    0/60000]\n",
      "loss: 0.010490  [ 6400/60000]\n",
      "loss: 0.008102  [12800/60000]\n",
      "loss: 0.010063  [19200/60000]\n",
      "loss: 0.011653  [25600/60000]\n",
      "loss: 0.010057  [32000/60000]\n",
      "loss: 0.010299  [38400/60000]\n",
      "loss: 0.012397  [44800/60000]\n",
      "loss: 0.012284  [51200/60000]\n",
      "loss: 0.009871  [57600/60000]\n",
      "\n",
      "Train performance:\n",
      "Accuracy: 97.18%, Avg loss: 0.001792\n",
      "Test performance:\n",
      "Accuracy: 91.90%, Avg loss: 0.005397\n",
      "-------------------------------------\n",
      "\n",
      "Época 20\n",
      "loss: 0.008112  [    0/60000]\n",
      "loss: 0.006908  [ 6400/60000]\n",
      "loss: 0.011495  [12800/60000]\n",
      "loss: 0.013820  [19200/60000]\n",
      "loss: 0.009690  [25600/60000]\n",
      "loss: 0.011951  [32000/60000]\n",
      "loss: 0.014129  [38400/60000]\n",
      "loss: 0.010691  [44800/60000]\n",
      "loss: 0.009931  [51200/60000]\n",
      "loss: 0.010067  [57600/60000]\n",
      "\n",
      "Train performance:\n",
      "Accuracy: 96.09%, Avg loss: 0.002454\n",
      "Test performance:\n",
      "Accuracy: 90.63%, Avg loss: 0.006064\n",
      "-------------------------------------\n",
      "\n",
      "Done!\n"
     ]
    }
   ],
   "source": [
    "epochs = 20\n",
    "train_losses = []\n",
    "test_losses = []\n",
    "train_acc_values = []\n",
    "test_acc_values = []\n",
    "for epoch in range(1, epochs+1):\n",
    "    print(f'Época {epoch}')\n",
    "    ## Entreno una época del modelo\n",
    "    train(train_dataloader, model, loss_fn, optimizer)\n",
    "\n",
    "    ## Evaluo sobre el consjunto de entrenamiento\n",
    "    print()\n",
    "    print('Train performance:')\n",
    "    train_loss, train_acc = test(train_dataloader, model, loss_fn)\n",
    "    train_losses.append(train_loss)\n",
    "    train_acc_values.append(train_acc)\n",
    "\n",
    "    ## Evaluo sobre el conjunto de evaluación\n",
    "    print('Test performance:')\n",
    "    test_loss, test_acc = test(test_dataloader, model, loss_fn)\n",
    "    test_losses.append(test_loss)\n",
    "    test_acc_values.append(test_acc)\n",
    "    print('-------------------------------------')\n",
    "    print()\n",
    "\n",
    "print(\"Done!\")\n"
   ]
  },
  {
   "cell_type": "markdown",
   "metadata": {
    "id": "d-6D7W49g4VW"
   },
   "source": [
    "## Guardamos el modelo\n",
    "\n",
    "Una forma estándar de guardar el modelo es \"serializar\" el diccionario con el estado interno del mismo, el cual contiene los parámetros del modelo."
   ]
  },
  {
   "cell_type": "code",
   "execution_count": null,
   "metadata": {
    "colab": {
     "base_uri": "https://localhost:8080/"
    },
    "id": "FwiaiCeHg5N5",
    "outputId": "5824915a-537f-4213-d9d6-9d9aed1d2393"
   },
   "outputs": [],
   "source": [
    "filename_model = model_name+\"-model.pth\"\n",
    "\n",
    "# torch.save(model.state_dict(),filename_model)\n",
    "# print(\"Saved PyTorch Model State to \"+filename_model)"
   ]
  },
  {
   "cell_type": "markdown",
   "metadata": {
    "id": "6oL0iJkTBr1u"
   },
   "source": [
    "## Guardamos las curvas"
   ]
  },
  {
   "cell_type": "code",
   "execution_count": null,
   "metadata": {
    "id": "MBp3fz_aBq3d"
   },
   "outputs": [],
   "source": [
    "filename_curvas = model_name+\"-curvas.pkl\"\n",
    "\n",
    "with open(filename_curvas,'wb') as fh:\n",
    "    pickle.dump((train_losses,test_losses,train_acc_values,test_acc_values),fh)"
   ]
  },
  {
   "cell_type": "markdown",
   "metadata": {
    "id": "byIwoxfRg7Xa"
   },
   "source": [
    "## Cargamos un modelo guardado\n",
    "\n",
    "Para cargar un modelo almacenado, tenemos que recrear la estructura del modelo (definir una nueva instancia de nuestra clase) y cargar el diccionario con el estado interno (los parámetros)."
   ]
  },
  {
   "cell_type": "code",
   "execution_count": null,
   "metadata": {
    "colab": {
     "base_uri": "https://localhost:8080/"
    },
    "id": "f3SyUrbcg7vJ",
    "outputId": "b270248a-ea5e-4815-c23f-14ecfdd7e099"
   },
   "outputs": [
    {
     "data": {
      "text/plain": [
       "<All keys matched successfully>"
      ]
     },
     "execution_count": 52,
     "metadata": {},
     "output_type": "execute_result"
    }
   ],
   "source": [
    "# model = MultiLayerPerceptron().to(device)\n",
    "model = CNN().to(device)\n",
    "model.load_state_dict(torch.load(filename_model))"
   ]
  },
  {
   "cell_type": "markdown",
   "metadata": {
    "id": "P1MhiG5sDI4K"
   },
   "source": [
    "## Cargamos las curvas"
   ]
  },
  {
   "cell_type": "code",
   "execution_count": null,
   "metadata": {},
   "outputs": [],
   "source": [
    "# solo para revisar modelos pre entrenados\n",
    "# filename_curvas = 'CNN-curvas.pkl'"
   ]
  },
  {
   "cell_type": "code",
   "execution_count": null,
   "metadata": {
    "id": "wk68eDWlDMmN"
   },
   "outputs": [],
   "source": [
    "\n",
    "with open (filename_curvas,'rb') as fh:\n",
    "    train_losses,test_losses,train_acc_values,test_acc_values = pickle.load(fh)"
   ]
  },
  {
   "cell_type": "markdown",
   "metadata": {
    "id": "ZT7e3G8shDW-"
   },
   "source": [
    "## Observamos las predicciones"
   ]
  },
  {
   "cell_type": "code",
   "execution_count": null,
   "metadata": {
    "id": "DPR2bkw1hC9K"
   },
   "outputs": [],
   "source": [
    "def plot_img(data, idx):\n",
    "    \"\"\"\n",
    "    Grafica un ejemplo\n",
    "    \"\"\"\n",
    "    figure = plt.figure(figsize=(4, 4))\n",
    "    img, label = data[idx]\n",
    "    plt.axis(\"off\")\n",
    "    plt.imshow(img.squeeze(), cmap=\"gray\")\n",
    "    plt.show()\n",
    "\n",
    "def show_prediction(example):\n",
    "    \"\"\"\n",
    "    Muestra la predicción para un ejemplo\n",
    "    \"\"\"\n",
    "    model.eval()\n",
    "    x, y = test_data[example][0], test_data[example][1]\n",
    "    with torch.no_grad():\n",
    "        pred = model(x.unsqueeze(1).to(device))\n",
    "    sorted = pred.sort()\n",
    "    values = softmax(sorted.values[0], dim=-1)\n",
    "    indices = sorted.indices[0]\n",
    "    print(\n",
    "        f'Etiqueta correcta: {labels_map[y]}', \n",
    "        end='\\n----------------\\n'\n",
    "    )\n",
    "    print('Etiqueta     Probabilidad')\n",
    "    for v, idx in list(zip(values,indices))[::-1]:\n",
    "        label_pred = labels_map[idx.item()]\n",
    "        print(f'{label_pred:13}{v.item():.5f}')"
   ]
  },
  {
   "cell_type": "code",
   "execution_count": null,
   "metadata": {},
   "outputs": [],
   "source": [
    "def show_prediction2(data,example):\n",
    "    import seaborn as sns\n",
    "    \"\"\"\n",
    "    Muestra la predicción para un ejemplo\n",
    "    \"\"\"\n",
    "    # imagen considerada\n",
    "    \n",
    "    img, label = data[example]\n",
    "    # prediccion\n",
    "    model.eval()\n",
    "    x, y = test_data[example][0], test_data[example][1]\n",
    "    with torch.no_grad():\n",
    "        pred = model(x.unsqueeze(1).to(device))\n",
    "    sorted = pred.sort()\n",
    "    values = softmax(sorted.values[0], dim=-1)\n",
    "    indices = sorted.indices[0]\n",
    "\n",
    "    indices = np.array(indices)\n",
    "    \n",
    "    def map_values(indices, dictionary):\n",
    "        values = []\n",
    "        for i in indices:\n",
    "            \n",
    "            values.append(dictionary[i])\n",
    "        return values\n",
    "\n",
    "    # print(indices,map_values(indices,labels_map))\n",
    "    #plots\n",
    "    \n",
    "    fig, axs = plt.subplots(1, 2, figsize=(10, 4))\n",
    "\n",
    "    # Primer subplot\n",
    "    axs[0].imshow(img.squeeze(), cmap=\"gray\")\n",
    "    axs[0].set_axis_off()\n",
    "    axs[0].set_title('Imagen Original')\n",
    "\n",
    "    # Segundo subplot\n",
    "    axs[1].barh(map_values(indices,labels_map),values,label='probs')\n",
    "    \n",
    "    for i, v in enumerate(values.numpy()):\n",
    "        axs[1].text( v+v*0.1,i, str(round(v,2)), ha='center',fontsize=9)\n",
    "        \n",
    "    axs[1].set_title('Prediccion')\n",
    "    axs[1].legend(loc='lower right')\n",
    "    # Ajustar los espacios entre subplots y guardar la figura\n",
    "    fig.tight_layout()\n",
    "    \n"
   ]
  },
  {
   "cell_type": "code",
   "execution_count": null,
   "metadata": {},
   "outputs": [
    {
     "data": {
      "image/png": "[encoded data removed]",
      "text/plain": [
       "<Figure size 1000x400 with 2 Axes>"
      ]
     },
     "metadata": {},
     "output_type": "display_data"
    }
   ],
   "source": [
    "example = np.random.randint(0,1000)\n",
    "# plot_img(test_data, example)\n",
    "show_prediction2(test_data,example)"
   ]
  },
  {
   "cell_type": "code",
   "execution_count": null,
   "metadata": {},
   "outputs": [
    {
     "data": {
      "text/plain": [
       "11"
      ]
     },
     "execution_count": 156,
     "metadata": {},
     "output_type": "execute_result"
    }
   ],
   "source": [
    "np.random.randint(0,1000)"
   ]
  },
  {
   "cell_type": "code",
   "execution_count": null,
   "metadata": {
    "colab": {
     "base_uri": "https://localhost:8080/",
     "height": 474
    },
    "id": "_m27JGpJhIHy",
    "outputId": "957e1abc-6269-45a1-9c51-ba70851f3316"
   },
   "outputs": [
    {
     "data": {
      "image/png": "[encoded data removed]",
      "text/plain": [
       "<Figure size 400x400 with 1 Axes>"
      ]
     },
     "metadata": {},
     "output_type": "display_data"
    },
    {
     "name": "stdout",
     "output_type": "stream",
     "text": [
      "Etiqueta correcta: Pullover\n",
      "----------------\n",
      "Etiqueta     Probabilidad\n",
      "Shirt        0.21433\n",
      "Coat         0.20407\n",
      "Pullover     0.17057\n",
      "Ankle Boot   0.05872\n",
      "Bag          0.05872\n",
      "Sneaker      0.05872\n",
      "Sandal       0.05872\n",
      "Dress        0.05872\n",
      "Trouser      0.05872\n",
      "T-Shirt      0.05872\n"
     ]
    }
   ],
   "source": [
    "# example = 16\n",
    "# plot_img(test_data, example)\n",
    "# show_prediction(example)"
   ]
  },
  {
   "cell_type": "code",
   "execution_count": null,
   "metadata": {},
   "outputs": [
    {
     "data": {
      "image/png": "[encoded data removed]",
      "text/plain": [
       "<Figure size 400x400 with 1 Axes>"
      ]
     },
     "metadata": {},
     "output_type": "display_data"
    },
    {
     "name": "stdout",
     "output_type": "stream",
     "text": [
      "Etiqueta correcta: Ankle Boot\n",
      "----------------\n",
      "Etiqueta     Probabilidad\n",
      "Ankle Boot   0.97685\n",
      "Sneaker      0.00287\n",
      "Bag          0.00253\n",
      "Shirt        0.00253\n",
      "Sandal       0.00253\n",
      "Coat         0.00253\n",
      "Dress        0.00253\n",
      "Pullover     0.00253\n",
      "Trouser      0.00253\n",
      "T-Shirt      0.00253\n"
     ]
    },
    {
     "data": {
      "image/png": "[encoded data removed]",
      "text/plain": [
       "<Figure size 400x400 with 1 Axes>"
      ]
     },
     "metadata": {},
     "output_type": "display_data"
    },
    {
     "name": "stdout",
     "output_type": "stream",
     "text": [
      "Etiqueta correcta: Pullover\n",
      "----------------\n",
      "Etiqueta     Probabilidad\n",
      "Pullover     0.65949\n",
      "Coat         0.10256\n",
      "Shirt        0.03292\n",
      "Ankle Boot   0.02929\n",
      "Bag          0.02929\n",
      "Sneaker      0.02929\n",
      "Sandal       0.02929\n",
      "Dress        0.02929\n",
      "Trouser      0.02929\n",
      "T-Shirt      0.02929\n"
     ]
    },
    {
     "data": {
      "image/png": "[encoded data removed]",
      "text/plain": [
       "<Figure size 400x400 with 1 Axes>"
      ]
     },
     "metadata": {},
     "output_type": "display_data"
    },
    {
     "name": "stdout",
     "output_type": "stream",
     "text": [
      "Etiqueta correcta: Trouser\n",
      "----------------\n",
      "Etiqueta     Probabilidad\n",
      "Trouser      1.00000\n",
      "Ankle Boot   0.00000\n",
      "Bag          0.00000\n",
      "Sneaker      0.00000\n",
      "Shirt        0.00000\n",
      "Sandal       0.00000\n",
      "Coat         0.00000\n",
      "Dress        0.00000\n",
      "Pullover     0.00000\n",
      "T-Shirt      0.00000\n"
     ]
    },
    {
     "data": {
      "image/png": "[encoded data removed]",
      "text/plain": [
       "<Figure size 400x400 with 1 Axes>"
      ]
     },
     "metadata": {},
     "output_type": "display_data"
    },
    {
     "name": "stdout",
     "output_type": "stream",
     "text": [
      "Etiqueta correcta: Trouser\n",
      "----------------\n",
      "Etiqueta     Probabilidad\n",
      "Trouser      1.00000\n",
      "Ankle Boot   0.00000\n",
      "Bag          0.00000\n",
      "Sneaker      0.00000\n",
      "Shirt        0.00000\n",
      "Sandal       0.00000\n",
      "Coat         0.00000\n",
      "Dress        0.00000\n",
      "Pullover     0.00000\n",
      "T-Shirt      0.00000\n"
     ]
    },
    {
     "data": {
      "image/png": "[encoded data removed]",
      "text/plain": [
       "<Figure size 400x400 with 1 Axes>"
      ]
     },
     "metadata": {},
     "output_type": "display_data"
    },
    {
     "name": "stdout",
     "output_type": "stream",
     "text": [
      "Etiqueta correcta: Shirt\n",
      "----------------\n",
      "Etiqueta     Probabilidad\n",
      "Shirt        0.71131\n",
      "Coat         0.04228\n",
      "Ankle Boot   0.03080\n",
      "Bag          0.03080\n",
      "Sneaker      0.03080\n",
      "Sandal       0.03080\n",
      "Dress        0.03080\n",
      "Pullover     0.03080\n",
      "Trouser      0.03080\n",
      "T-Shirt      0.03080\n"
     ]
    },
    {
     "data": {
      "image/png": "[encoded data removed]",
      "text/plain": [
       "<Figure size 400x400 with 1 Axes>"
      ]
     },
     "metadata": {},
     "output_type": "display_data"
    },
    {
     "name": "stdout",
     "output_type": "stream",
     "text": [
      "Etiqueta correcta: Trouser\n",
      "----------------\n",
      "Etiqueta     Probabilidad\n",
      "Trouser      1.00000\n",
      "Ankle Boot   0.00000\n",
      "Bag          0.00000\n",
      "Sneaker      0.00000\n",
      "Shirt        0.00000\n",
      "Sandal       0.00000\n",
      "Coat         0.00000\n",
      "Dress        0.00000\n",
      "Pullover     0.00000\n",
      "T-Shirt      0.00000\n"
     ]
    },
    {
     "data": {
      "image/png": "[encoded data removed]",
      "text/plain": [
       "<Figure size 400x400 with 1 Axes>"
      ]
     },
     "metadata": {},
     "output_type": "display_data"
    },
    {
     "name": "stdout",
     "output_type": "stream",
     "text": [
      "Etiqueta correcta: Coat\n",
      "----------------\n",
      "Etiqueta     Probabilidad\n",
      "Coat         0.80206\n",
      "Shirt        0.06362\n",
      "Ankle Boot   0.01679\n",
      "Bag          0.01679\n",
      "Sneaker      0.01679\n",
      "Sandal       0.01679\n",
      "Dress        0.01679\n",
      "Pullover     0.01679\n",
      "Trouser      0.01679\n",
      "T-Shirt      0.01679\n"
     ]
    },
    {
     "data": {
      "image/png": "[encoded data removed]",
      "text/plain": [
       "<Figure size 400x400 with 1 Axes>"
      ]
     },
     "metadata": {},
     "output_type": "display_data"
    },
    {
     "name": "stdout",
     "output_type": "stream",
     "text": [
      "Etiqueta correcta: Shirt\n",
      "----------------\n",
      "Etiqueta     Probabilidad\n",
      "Shirt        0.76759\n",
      "Coat         0.07268\n",
      "Ankle Boot   0.01997\n",
      "Bag          0.01997\n",
      "Sneaker      0.01997\n",
      "Sandal       0.01997\n",
      "Dress        0.01997\n",
      "Pullover     0.01997\n",
      "Trouser      0.01997\n",
      "T-Shirt      0.01997\n"
     ]
    },
    {
     "data": {
      "image/png": "[encoded data removed]",
      "text/plain": [
       "<Figure size 400x400 with 1 Axes>"
      ]
     },
     "metadata": {},
     "output_type": "display_data"
    },
    {
     "name": "stdout",
     "output_type": "stream",
     "text": [
      "Etiqueta correcta: Sandal\n",
      "----------------\n",
      "Etiqueta     Probabilidad\n",
      "Sandal       0.94469\n",
      "Ankle Boot   0.00615\n",
      "Bag          0.00615\n",
      "Sneaker      0.00615\n",
      "Shirt        0.00615\n",
      "Coat         0.00615\n",
      "Dress        0.00615\n",
      "Pullover     0.00615\n",
      "Trouser      0.00615\n",
      "T-Shirt      0.00615\n"
     ]
    },
    {
     "data": {
      "image/png": "[encoded data removed]",
      "text/plain": [
       "<Figure size 400x400 with 1 Axes>"
      ]
     },
     "metadata": {},
     "output_type": "display_data"
    },
    {
     "name": "stdout",
     "output_type": "stream",
     "text": [
      "Etiqueta correcta: Sneaker\n",
      "----------------\n",
      "Etiqueta     Probabilidad\n",
      "Sneaker      0.99942\n",
      "Ankle Boot   0.00006\n",
      "Bag          0.00006\n",
      "Shirt        0.00006\n",
      "Sandal       0.00006\n",
      "Coat         0.00006\n",
      "Dress        0.00006\n",
      "Pullover     0.00006\n",
      "Trouser      0.00006\n",
      "T-Shirt      0.00006\n"
     ]
    }
   ],
   "source": [
    "for i in range(10):\n",
    "    \n",
    "    plot_img(test_data, i)\n",
    "    show_prediction(i)"
   ]
  },
  {
   "cell_type": "markdown",
   "metadata": {
    "id": "a9ZS0S4fhMBd"
   },
   "source": [
    "## Analizamos el proceso de aprendizaje"
   ]
  },
  {
   "cell_type": "code",
   "execution_count": null,
   "metadata": {
    "colab": {
     "base_uri": "https://localhost:8080/",
     "height": 432
    },
    "id": "nSrlhwO8hMX9",
    "outputId": "3b5daab7-0e20-433f-e2de-80f3a52d0e23"
   },
   "outputs": [
    {
     "data": {
      "image/png": "[encoded data removed]",
      "text/plain": [
       "<Figure size 1600x600 with 2 Axes>"
      ]
     },
     "metadata": {},
     "output_type": "display_data"
    }
   ],
   "source": [
    "X = range(1, len(train_losses)+1)\n",
    "\n",
    "fig, axes = plt.subplots(figsize=(16, 6), ncols=2)\n",
    "ax = axes[0]\n",
    "ax.set_xlabel('Época')\n",
    "ax.set_ylabel('Error promedio')\n",
    "ax.plot(X, train_losses, label='Train')\n",
    "ax.plot(X, test_losses, label='Test')\n",
    "ax.set_title(model_name)\n",
    "ax.legend()\n",
    "\n",
    "ax = axes[1]\n",
    "ax.set_xlabel('Época')\n",
    "ax.set_ylabel('Accuracy [%]')\n",
    "ax.plot(X, train_acc_values, label='Train')\n",
    "ax.plot(X, test_acc_values, label='Test')\n",
    "ax.set_title(model_name)\n",
    "ax.legend()\n",
    "plt.show()"
   ]
  },
  {
   "cell_type": "code",
   "execution_count": null,
   "metadata": {},
   "outputs": [],
   "source": [
    "# train_data = pd.Series([training_data[i][0] for i in range(len(training_data))])"
   ]
  },
  {
   "cell_type": "code",
   "execution_count": null,
   "metadata": {},
   "outputs": [],
   "source": [
    "# import numpy as np\n",
    "# from sklearn.datasets import make_classification\n",
    "# from torch import nn\n",
    "\n",
    "# from skorch import NeuralNetClassifier\n",
    "# import torch\n",
    "# import torch.nn as nn\n",
    "# from torch.optim import Adam\n",
    "# from torch.utils.data import DataLoader\n",
    "# from torchvision import datasets, transforms\n",
    "# from sklearn.model_selection import GridSearchCV\n",
    "\n",
    "# # Define la arquitectura de la red neuronal\n",
    "# class CNN(nn.Module):\n",
    "#     def __init__(self,padding=1):\n",
    "#         super().__init__()\n",
    "        \n",
    "#         self.padding = padding\n",
    "#         ## Primera capa convolucional:\n",
    "#         ## construimos 32 canales usando filtros (kernels) de 3x3\n",
    "#         self.conv1 = nn.Sequential(         \n",
    "#             nn.Conv2d(\n",
    "#                 in_channels=1,              \n",
    "#                 out_channels=32,            \n",
    "#                 kernel_size=3,                                 \n",
    "#                 padding=self.padding,                  \n",
    "#             ),\n",
    "#             ## Aplicamos Batch Normalization como regularización\n",
    "#             nn.BatchNorm2d(32),\n",
    "#             ## Aplicamos la función de activación               \n",
    "#             nn.ReLU(),    \n",
    "#             ## Reducimos la imagen con Max Pooling                  \n",
    "#             nn.MaxPool2d(kernel_size=2, stride=2),    \n",
    "#         )\n",
    "\n",
    "#         ## Segunda capa convolucional:\n",
    "#         ## construimos 64 canales usando filtros (kernels) de 3x3\n",
    "#         self.conv2 = nn.Sequential(         \n",
    "#             nn.Conv2d(\n",
    "#                 in_channels=32,              \n",
    "#                 out_channels=64,            \n",
    "#                 kernel_size=3,                               \n",
    "#                 padding=0\n",
    "#             ),    \n",
    "#             nn.BatchNorm2d(64),\n",
    "#             nn.ReLU(),                      \n",
    "#             nn.MaxPool2d(kernel_size=2, stride=2),                \n",
    "#         )\n",
    "\n",
    "#         ## \"Achatamos\" la salida de la última capa, de 64 canales \n",
    "#         ## de tamaño 6x6, transformandola en un vector de 64*6*6 elementos\n",
    "#         self.flatten = nn.Flatten()\n",
    "\n",
    "#         ## Después de las capas convoulucionales,\n",
    "#         ## agregamos algunas capas densas. La última, de 10\n",
    "#         ## neurnonas, es nuestra capa de salida\n",
    "#         self.linear_relu_stack = nn.Sequential(\n",
    "#             nn.Linear(64 * 6 * 6, 600),\n",
    "#             nn.Dropout(0.25), \n",
    "#             nn.ReLU(),\n",
    "#             nn.Linear(600, 120),\n",
    "#             nn.Dropout(0.25), ## Regularizamos con dropout después de cada capa\n",
    "#             nn.ReLU(),\n",
    "#             nn.Linear(120, 10),\n",
    "#             nn.Dropout(0.25), \n",
    "#             nn.ReLU() \n",
    "#         )\n",
    "\n",
    "#     def forward(self, x):\n",
    "#         x = self.conv1(x)\n",
    "#         x = self.conv2(x)\n",
    "#         x = self.flatten(x)     \n",
    "#         x = self.linear_relu_stack(x)\n",
    "#         return x\n",
    "\n",
    "# # Carga los datos de entrenamiento y de prueba\n",
    "\n",
    "# # Define los parámetros a probar en la búsqueda de rejilla\n",
    "# param_grid = {'lr': [0.001, 0.01],\n",
    "#               'max_epochs': list(range(3, 7, 1)),}\n",
    "#             #   \"module_pading\" : [1,2]}\n",
    "\n",
    "# # Define el modelo, la función de pérdida y el optimizador\n",
    "# model = CNN()\n",
    "# criterion = nn.CrossEntropyLoss()\n",
    "# optimizer = Adam\n",
    "\n",
    "# net = NeuralNetClassifier(\n",
    "#     module = CNN,\n",
    "#     max_epochs=3,\n",
    "#     criterion=criterion,\n",
    "#     lr=0.001,\n",
    "#     # Shuffle training data on each epoch\n",
    "#     iterator_train__shuffle=True,\n",
    "#     optimizer=optimizer\n",
    "# )\n",
    "# counter = 0\n",
    "# # Run each fit for 2 batches. So, if we have `n` fits, then it will\n",
    "# # actually for `n*2` times. We have 672 fits, so total, \n",
    "# # 672 * 2 = 1344 runs.\n",
    "# search_batches = 10\n",
    "# \"\"\"\n",
    "# This will run `n` (`n` is calculated from `params`) number of fits \n",
    "# on each batch of data, so be careful.\n",
    "# If you want to run the `n` number of fits just once, \n",
    "# that is, on one batch of data,\n",
    "# add `break` after this line:\n",
    "#     `outputs = gs.fit(image, labels)`\n",
    "# Note: This will take a lot of time to run\n",
    "# \"\"\"\n",
    "# grid_search = GridSearchCV(net, param_grid, refit=False, scoring='accuracy', cv=5, n_jobs=-1)\n",
    "\n",
    "# for i, data in enumerate(train_dataloader):\n",
    "#     counter += 1\n",
    "#     image, labels = data\n",
    "#     image = image.to(device)\n",
    "#     labels = labels.to(device)\n",
    "#     outputs = grid_search.fit(image, labels)\n",
    "#     # GridSearch for `search_batches` number of times.\n",
    "#     # if counter == search_batches:\n",
    "#     #     print(\"ola\")\n",
    "#     #     break\n",
    "    \n",
    "    \n",
    "# print('SEARCH COMPLETE')\n",
    "# print(\"best score: {:.3f}, best params: {}\".format(grid_search.best_score_, grid_search.best_params_))\n",
    "\n",
    "# # # Crea el objeto GridSearchCV\n",
    "\n",
    "# # # Entrena el modelo con la búsqueda de rejilla\n",
    "\n",
    "# # grid_search.fit(train_data,train_labels,error_score='raise')\n",
    "# # # Obtiene los mejores parámetros\n",
    "# # best_params = grid_search.best_params_\n",
    "# # net.get_params\n"
   ]
  },
  {
   "cell_type": "code",
   "execution_count": null,
   "metadata": {},
   "outputs": [],
   "source": []
  },
  {
   "cell_type": "code",
   "execution_count": null,
   "metadata": {},
   "outputs": [],
   "source": [
    "# generar una lista con 10 numeros aleatorios\n",
    "a,b = 1,2"
   ]
  },
  {
   "cell_type": "code",
   "execution_count": null,
   "metadata": {},
   "outputs": [
    {
     "data": {
      "text/plain": [
       "[2]"
      ]
     },
     "execution_count": 61,
     "metadata": {},
     "output_type": "execute_result"
    }
   ],
   "source": [
    "list(range(2,4,6))\n"
   ]
  },
  {
   "cell_type": "code",
   "execution_count": null,
   "metadata": {},
   "outputs": [],
   "source": [
    "\n",
    "for i in range(int(1e8)):\n",
    "    a = i"
   ]
  },
  {
   "cell_type": "code",
   "execution_count": null,
   "metadata": {},
   "outputs": [
    {
     "ename": "SyntaxError",
     "evalue": "invalid syntax (2385651071.py, line 3)",
     "output_type": "error",
     "traceback": [
      "\u001b[0;36m  File \u001b[0;32m\"/tmp/ipykernel_1248021/2385651071.py\"\u001b[0;36m, line \u001b[0;32m3\u001b[0m\n\u001b[0;31m    for i in range(int(1e8)):\u001b[0m\n\u001b[0m    ^\u001b[0m\n\u001b[0;31mSyntaxError\u001b[0m\u001b[0;31m:\u001b[0m invalid syntax\n"
     ]
    }
   ],
   "source": [
    "from numba import njit\n",
    "@njit\n",
    "for i in range(int(1e8)):\n",
    "    a = i"
   ]
  },
  {
   "cell_type": "code",
   "execution_count": null,
   "metadata": {},
   "outputs": [],
   "source": [
    "import time\n",
    "\n",
    "def main():\n",
    "    veces = int(1e7)\n",
    "    num=1\n",
    "    a = 0\n",
    "    for a in range(veces):\n",
    "        num = num + num - num\n",
    "    print(num)\n",
    "    \n",
    "start = time.time()\n",
    "main()\n",
    "end = time.time()\n",
    "print(end-start)"
   ]
  },
  {
   "cell_type": "code",
   "execution_count": null,
   "metadata": {},
   "outputs": [],
   "source": [
    "import time\n",
    "from numba import njit\n",
    "\n",
    "@njit\n",
    "def main():\n",
    "    veces = int(1e12)\n",
    "    num=1\n",
    "    a = 0\n",
    "    for a in range(veces):\n",
    "        num = num + num - num\n",
    "    print(num)\n",
    "    \n",
    "start = time.time()\n",
    "main()\n",
    "end = time.time()\n",
    "print(end-start)"
   ]
  },
  {
   "cell_type": "code",
   "execution_count": null,
   "metadata": {},
   "outputs": [],
   "source": [
    "# class fit():\n",
    "#     def __init__(train_dataloader,test_dataloader,epochs):\n",
    "    \n",
    "    \n",
    "    \n",
    "#     epochs = 1\n",
    "#     train_losses = []\n",
    "#     test_losses = []\n",
    "#     train_acc_values = []\n",
    "#     test_acc_values = []\n",
    "#     for epoch in range(1, epochs+1):\n",
    "#         print(f'Época {epoch}')\n",
    "#         ## Entreno una época del modelo\n",
    "#         train(train_dataloader, model, loss_fn, optimizer)\n",
    "\n",
    "#         ## Evaluo sobre el consjunto de entrenamiento\n",
    "#         print()\n",
    "#         print('Train performance:')\n",
    "#         train_loss, train_acc = test(train_dataloader, model, loss_fn)\n",
    "#         train_losses.append(train_loss)\n",
    "#         train_acc_values.append(train_acc)\n",
    "\n",
    "#         ## Evaluo sobre el conjunto de evaluación\n",
    "#         print('Test performance:')\n",
    "#         test_loss, test_acc = test(test_dataloader, model, loss_fn)\n",
    "#         test_losses.append(test_loss)\n",
    "#         test_acc_values.append(test_acc)\n",
    "#         print('-------------------------------------')\n",
    "#         print()\n",
    "\n",
    "#     print(\"Done!\")"
   ]
  },
  {
   "cell_type": "code",
   "execution_count": 2,
   "metadata": {
    "tags": []
   },
   "outputs": [],
   "source": [
    "class Net(nn.Module):\n",
    "    def __init__(self):\n",
    "        super(Net, self).__init__()\n",
    "        self.conv1 = nn.Conv2d(1, 32, 3, 1)\n",
    "        self.bn1 = nn.BatchNorm2d(32)  # Batch Normalization after the first convolution\n",
    "        self.conv2 = nn.Conv2d(32, 64, 3, 1)\n",
    "        self.bn2 = nn.BatchNorm2d(64)  # Batch Normalization after the second convolution\n",
    "        self.dropout1 = nn.Dropout(0.25)\n",
    "        self.dropout2 = nn.Dropout(0.25)\n",
    "        self.dropout3 = nn.Dropout(0.25)\n",
    "        self.fc1 = nn.Linear(9216, 200)\n",
    "        self.fc2 = nn.Linear(200,100)\n",
    "        self.fc3 = nn.Linear(100, 10)\n",
    "\n",
    "    def forward(self, x):\n",
    "        x = self.conv1(x)\n",
    "        x = self.bn1(x)   # Apply Batch Normalization\n",
    "        x = nn.functional.relu(x)\n",
    "        x = self.conv2(x)\n",
    "        x = self.bn2(x)   # Apply Batch Normalization\n",
    "        x = nn.functional.relu(x)\n",
    "        x = nn.functional.max_pool2d(x, 2)\n",
    "        x = self.dropout1(x)\n",
    "        x = torch.flatten(x, 1)\n",
    "        x = self.fc1(x)\n",
    "        x = nn.functional.relu(x)\n",
    "        x = self.dropout2(x)\n",
    "        x = self.fc2(x)\n",
    "        x = nn.functional.relu(x)\n",
    "        x = self.dropout3(x)\n",
    "        output = self.fc3(x)\n",
    "        output = nn.functional.log_softmax(output, dim=1)\n",
    "        return output\n"
   ]
  },
  {
   "cell_type": "code",
   "execution_count": 3,
   "metadata": {
    "tags": []
   },
   "outputs": [
    {
     "ename": "ExecutableNotFound",
     "evalue": "failed to execute WindowsPath('dot'), make sure the Graphviz executables are on your systems' PATH",
     "output_type": "error",
     "traceback": [
      "\u001b[1;31m---------------------------------------------------------------------------\u001b[0m",
      "\u001b[1;31mFileNotFoundError\u001b[0m                         Traceback (most recent call last)",
      "File \u001b[1;32m~\\AppData\\Roaming\\Python\\Python39\\site-packages\\graphviz\\backend\\execute.py:79\u001b[0m, in \u001b[0;36mrun_check\u001b[1;34m(cmd, input_lines, encoding, quiet, **kwargs)\u001b[0m\n\u001b[0;32m     78\u001b[0m         kwargs[\u001b[38;5;124m'\u001b[39m\u001b[38;5;124mstdout\u001b[39m\u001b[38;5;124m'\u001b[39m] \u001b[38;5;241m=\u001b[39m kwargs[\u001b[38;5;124m'\u001b[39m\u001b[38;5;124mstderr\u001b[39m\u001b[38;5;124m'\u001b[39m] \u001b[38;5;241m=\u001b[39m subprocess\u001b[38;5;241m.\u001b[39mPIPE\n\u001b[1;32m---> 79\u001b[0m     proc \u001b[38;5;241m=\u001b[39m \u001b[43m_run_input_lines\u001b[49m\u001b[43m(\u001b[49m\u001b[43mcmd\u001b[49m\u001b[43m,\u001b[49m\u001b[43m \u001b[49m\u001b[43minput_lines\u001b[49m\u001b[43m,\u001b[49m\u001b[43m \u001b[49m\u001b[43mkwargs\u001b[49m\u001b[38;5;241;43m=\u001b[39;49m\u001b[43mkwargs\u001b[49m\u001b[43m)\u001b[49m\n\u001b[0;32m     80\u001b[0m \u001b[38;5;28;01melse\u001b[39;00m:\n",
      "File \u001b[1;32m~\\AppData\\Roaming\\Python\\Python39\\site-packages\\graphviz\\backend\\execute.py:99\u001b[0m, in \u001b[0;36m_run_input_lines\u001b[1;34m(cmd, input_lines, kwargs)\u001b[0m\n\u001b[0;32m     98\u001b[0m \u001b[38;5;28;01mdef\u001b[39;00m \u001b[38;5;21m_run_input_lines\u001b[39m(cmd, input_lines, \u001b[38;5;241m*\u001b[39m, kwargs):\n\u001b[1;32m---> 99\u001b[0m     popen \u001b[38;5;241m=\u001b[39m subprocess\u001b[38;5;241m.\u001b[39mPopen(cmd, stdin\u001b[38;5;241m=\u001b[39msubprocess\u001b[38;5;241m.\u001b[39mPIPE, \u001b[38;5;241m*\u001b[39m\u001b[38;5;241m*\u001b[39mkwargs)\n\u001b[0;32m    101\u001b[0m     stdin_write \u001b[38;5;241m=\u001b[39m popen\u001b[38;5;241m.\u001b[39mstdin\u001b[38;5;241m.\u001b[39mwrite\n",
      "File \u001b[1;32mC:\\ProgramData\\anaconda3\\lib\\subprocess.py:951\u001b[0m, in \u001b[0;36mPopen.__init__\u001b[1;34m(self, args, bufsize, executable, stdin, stdout, stderr, preexec_fn, close_fds, shell, cwd, env, universal_newlines, startupinfo, creationflags, restore_signals, start_new_session, pass_fds, user, group, extra_groups, encoding, errors, text, umask)\u001b[0m\n\u001b[0;32m    948\u001b[0m             \u001b[38;5;28mself\u001b[39m\u001b[38;5;241m.\u001b[39mstderr \u001b[38;5;241m=\u001b[39m io\u001b[38;5;241m.\u001b[39mTextIOWrapper(\u001b[38;5;28mself\u001b[39m\u001b[38;5;241m.\u001b[39mstderr,\n\u001b[0;32m    949\u001b[0m                     encoding\u001b[38;5;241m=\u001b[39mencoding, errors\u001b[38;5;241m=\u001b[39merrors)\n\u001b[1;32m--> 951\u001b[0m     \u001b[38;5;28;43mself\u001b[39;49m\u001b[38;5;241;43m.\u001b[39;49m\u001b[43m_execute_child\u001b[49m\u001b[43m(\u001b[49m\u001b[43margs\u001b[49m\u001b[43m,\u001b[49m\u001b[43m \u001b[49m\u001b[43mexecutable\u001b[49m\u001b[43m,\u001b[49m\u001b[43m \u001b[49m\u001b[43mpreexec_fn\u001b[49m\u001b[43m,\u001b[49m\u001b[43m \u001b[49m\u001b[43mclose_fds\u001b[49m\u001b[43m,\u001b[49m\n\u001b[0;32m    952\u001b[0m \u001b[43m                        \u001b[49m\u001b[43mpass_fds\u001b[49m\u001b[43m,\u001b[49m\u001b[43m \u001b[49m\u001b[43mcwd\u001b[49m\u001b[43m,\u001b[49m\u001b[43m \u001b[49m\u001b[43menv\u001b[49m\u001b[43m,\u001b[49m\n\u001b[0;32m    953\u001b[0m \u001b[43m                        \u001b[49m\u001b[43mstartupinfo\u001b[49m\u001b[43m,\u001b[49m\u001b[43m \u001b[49m\u001b[43mcreationflags\u001b[49m\u001b[43m,\u001b[49m\u001b[43m \u001b[49m\u001b[43mshell\u001b[49m\u001b[43m,\u001b[49m\n\u001b[0;32m    954\u001b[0m \u001b[43m                        \u001b[49m\u001b[43mp2cread\u001b[49m\u001b[43m,\u001b[49m\u001b[43m \u001b[49m\u001b[43mp2cwrite\u001b[49m\u001b[43m,\u001b[49m\n\u001b[0;32m    955\u001b[0m \u001b[43m                        \u001b[49m\u001b[43mc2pread\u001b[49m\u001b[43m,\u001b[49m\u001b[43m \u001b[49m\u001b[43mc2pwrite\u001b[49m\u001b[43m,\u001b[49m\n\u001b[0;32m    956\u001b[0m \u001b[43m                        \u001b[49m\u001b[43merrread\u001b[49m\u001b[43m,\u001b[49m\u001b[43m \u001b[49m\u001b[43merrwrite\u001b[49m\u001b[43m,\u001b[49m\n\u001b[0;32m    957\u001b[0m \u001b[43m                        \u001b[49m\u001b[43mrestore_signals\u001b[49m\u001b[43m,\u001b[49m\n\u001b[0;32m    958\u001b[0m \u001b[43m                        \u001b[49m\u001b[43mgid\u001b[49m\u001b[43m,\u001b[49m\u001b[43m \u001b[49m\u001b[43mgids\u001b[49m\u001b[43m,\u001b[49m\u001b[43m \u001b[49m\u001b[43muid\u001b[49m\u001b[43m,\u001b[49m\u001b[43m \u001b[49m\u001b[43mumask\u001b[49m\u001b[43m,\u001b[49m\n\u001b[0;32m    959\u001b[0m \u001b[43m                        \u001b[49m\u001b[43mstart_new_session\u001b[49m\u001b[43m)\u001b[49m\n\u001b[0;32m    960\u001b[0m \u001b[38;5;28;01mexcept\u001b[39;00m:\n\u001b[0;32m    961\u001b[0m     \u001b[38;5;66;03m# Cleanup if the child failed starting.\u001b[39;00m\n",
      "File \u001b[1;32mC:\\ProgramData\\anaconda3\\lib\\subprocess.py:1420\u001b[0m, in \u001b[0;36mPopen._execute_child\u001b[1;34m(self, args, executable, preexec_fn, close_fds, pass_fds, cwd, env, startupinfo, creationflags, shell, p2cread, p2cwrite, c2pread, c2pwrite, errread, errwrite, unused_restore_signals, unused_gid, unused_gids, unused_uid, unused_umask, unused_start_new_session)\u001b[0m\n\u001b[0;32m   1419\u001b[0m \u001b[38;5;28;01mtry\u001b[39;00m:\n\u001b[1;32m-> 1420\u001b[0m     hp, ht, pid, tid \u001b[38;5;241m=\u001b[39m \u001b[43m_winapi\u001b[49m\u001b[38;5;241;43m.\u001b[39;49m\u001b[43mCreateProcess\u001b[49m\u001b[43m(\u001b[49m\u001b[43mexecutable\u001b[49m\u001b[43m,\u001b[49m\u001b[43m \u001b[49m\u001b[43margs\u001b[49m\u001b[43m,\u001b[49m\n\u001b[0;32m   1421\u001b[0m \u001b[43m                             \u001b[49m\u001b[38;5;66;43;03m# no special security\u001b[39;49;00m\n\u001b[0;32m   1422\u001b[0m \u001b[43m                             \u001b[49m\u001b[38;5;28;43;01mNone\u001b[39;49;00m\u001b[43m,\u001b[49m\u001b[43m \u001b[49m\u001b[38;5;28;43;01mNone\u001b[39;49;00m\u001b[43m,\u001b[49m\n\u001b[0;32m   1423\u001b[0m \u001b[43m                             \u001b[49m\u001b[38;5;28;43mint\u001b[39;49m\u001b[43m(\u001b[49m\u001b[38;5;129;43;01mnot\u001b[39;49;00m\u001b[43m \u001b[49m\u001b[43mclose_fds\u001b[49m\u001b[43m)\u001b[49m\u001b[43m,\u001b[49m\n\u001b[0;32m   1424\u001b[0m \u001b[43m                             \u001b[49m\u001b[43mcreationflags\u001b[49m\u001b[43m,\u001b[49m\n\u001b[0;32m   1425\u001b[0m \u001b[43m                             \u001b[49m\u001b[43menv\u001b[49m\u001b[43m,\u001b[49m\n\u001b[0;32m   1426\u001b[0m \u001b[43m                             \u001b[49m\u001b[43mcwd\u001b[49m\u001b[43m,\u001b[49m\n\u001b[0;32m   1427\u001b[0m \u001b[43m                             \u001b[49m\u001b[43mstartupinfo\u001b[49m\u001b[43m)\u001b[49m\n\u001b[0;32m   1428\u001b[0m \u001b[38;5;28;01mfinally\u001b[39;00m:\n\u001b[0;32m   1429\u001b[0m     \u001b[38;5;66;03m# Child is launched. Close the parent's copy of those pipe\u001b[39;00m\n\u001b[0;32m   1430\u001b[0m     \u001b[38;5;66;03m# handles that only the child should have open.  You need\u001b[39;00m\n\u001b[1;32m   (...)\u001b[0m\n\u001b[0;32m   1433\u001b[0m     \u001b[38;5;66;03m# pipe will not close when the child process exits and the\u001b[39;00m\n\u001b[0;32m   1434\u001b[0m     \u001b[38;5;66;03m# ReadFile will hang.\u001b[39;00m\n",
      "\u001b[1;31mFileNotFoundError\u001b[0m: [WinError 2] El sistema no puede encontrar el archivo especificado",
      "\nThe above exception was the direct cause of the following exception:\n",
      "\u001b[1;31mExecutableNotFound\u001b[0m                        Traceback (most recent call last)",
      "File \u001b[1;32mC:\\ProgramData\\anaconda3\\lib\\site-packages\\IPython\\core\\formatters.py:974\u001b[0m, in \u001b[0;36mMimeBundleFormatter.__call__\u001b[1;34m(self, obj, include, exclude)\u001b[0m\n\u001b[0;32m    971\u001b[0m     method \u001b[38;5;241m=\u001b[39m get_real_method(obj, \u001b[38;5;28mself\u001b[39m\u001b[38;5;241m.\u001b[39mprint_method)\n\u001b[0;32m    973\u001b[0m     \u001b[38;5;28;01mif\u001b[39;00m method \u001b[38;5;129;01mis\u001b[39;00m \u001b[38;5;129;01mnot\u001b[39;00m \u001b[38;5;28;01mNone\u001b[39;00m:\n\u001b[1;32m--> 974\u001b[0m         \u001b[38;5;28;01mreturn\u001b[39;00m \u001b[43mmethod\u001b[49m\u001b[43m(\u001b[49m\u001b[43minclude\u001b[49m\u001b[38;5;241;43m=\u001b[39;49m\u001b[43minclude\u001b[49m\u001b[43m,\u001b[49m\u001b[43m \u001b[49m\u001b[43mexclude\u001b[49m\u001b[38;5;241;43m=\u001b[39;49m\u001b[43mexclude\u001b[49m\u001b[43m)\u001b[49m\n\u001b[0;32m    975\u001b[0m     \u001b[38;5;28;01mreturn\u001b[39;00m \u001b[38;5;28;01mNone\u001b[39;00m\n\u001b[0;32m    976\u001b[0m \u001b[38;5;28;01melse\u001b[39;00m:\n",
      "File \u001b[1;32m~\\AppData\\Roaming\\Python\\Python39\\site-packages\\graphviz\\jupyter_integration.py:98\u001b[0m, in \u001b[0;36mJupyterIntegration._repr_mimebundle_\u001b[1;34m(self, include, exclude, **_)\u001b[0m\n\u001b[0;32m     96\u001b[0m include \u001b[38;5;241m=\u001b[39m \u001b[38;5;28mset\u001b[39m(include) \u001b[38;5;28;01mif\u001b[39;00m include \u001b[38;5;129;01mis\u001b[39;00m \u001b[38;5;129;01mnot\u001b[39;00m \u001b[38;5;28;01mNone\u001b[39;00m \u001b[38;5;28;01melse\u001b[39;00m {\u001b[38;5;28mself\u001b[39m\u001b[38;5;241m.\u001b[39m_jupyter_mimetype}\n\u001b[0;32m     97\u001b[0m include \u001b[38;5;241m-\u001b[39m\u001b[38;5;241m=\u001b[39m \u001b[38;5;28mset\u001b[39m(exclude \u001b[38;5;129;01mor\u001b[39;00m [])\n\u001b[1;32m---> 98\u001b[0m \u001b[38;5;28;01mreturn\u001b[39;00m {mimetype: \u001b[38;5;28mgetattr\u001b[39m(\u001b[38;5;28mself\u001b[39m, method_name)()\n\u001b[0;32m     99\u001b[0m         \u001b[38;5;28;01mfor\u001b[39;00m mimetype, method_name \u001b[38;5;129;01min\u001b[39;00m MIME_TYPES\u001b[38;5;241m.\u001b[39mitems()\n\u001b[0;32m    100\u001b[0m         \u001b[38;5;28;01mif\u001b[39;00m mimetype \u001b[38;5;129;01min\u001b[39;00m include}\n",
      "File \u001b[1;32m~\\AppData\\Roaming\\Python\\Python39\\site-packages\\graphviz\\jupyter_integration.py:98\u001b[0m, in \u001b[0;36m<dictcomp>\u001b[1;34m(.0)\u001b[0m\n\u001b[0;32m     96\u001b[0m include \u001b[38;5;241m=\u001b[39m \u001b[38;5;28mset\u001b[39m(include) \u001b[38;5;28;01mif\u001b[39;00m include \u001b[38;5;129;01mis\u001b[39;00m \u001b[38;5;129;01mnot\u001b[39;00m \u001b[38;5;28;01mNone\u001b[39;00m \u001b[38;5;28;01melse\u001b[39;00m {\u001b[38;5;28mself\u001b[39m\u001b[38;5;241m.\u001b[39m_jupyter_mimetype}\n\u001b[0;32m     97\u001b[0m include \u001b[38;5;241m-\u001b[39m\u001b[38;5;241m=\u001b[39m \u001b[38;5;28mset\u001b[39m(exclude \u001b[38;5;129;01mor\u001b[39;00m [])\n\u001b[1;32m---> 98\u001b[0m \u001b[38;5;28;01mreturn\u001b[39;00m {mimetype: \u001b[38;5;28;43mgetattr\u001b[39;49m\u001b[43m(\u001b[49m\u001b[38;5;28;43mself\u001b[39;49m\u001b[43m,\u001b[49m\u001b[43m \u001b[49m\u001b[43mmethod_name\u001b[49m\u001b[43m)\u001b[49m\u001b[43m(\u001b[49m\u001b[43m)\u001b[49m\n\u001b[0;32m     99\u001b[0m         \u001b[38;5;28;01mfor\u001b[39;00m mimetype, method_name \u001b[38;5;129;01min\u001b[39;00m MIME_TYPES\u001b[38;5;241m.\u001b[39mitems()\n\u001b[0;32m    100\u001b[0m         \u001b[38;5;28;01mif\u001b[39;00m mimetype \u001b[38;5;129;01min\u001b[39;00m include}\n",
      "File \u001b[1;32m~\\AppData\\Roaming\\Python\\Python39\\site-packages\\graphviz\\jupyter_integration.py:112\u001b[0m, in \u001b[0;36mJupyterIntegration._repr_image_svg_xml\u001b[1;34m(self)\u001b[0m\n\u001b[0;32m    110\u001b[0m \u001b[38;5;28;01mdef\u001b[39;00m \u001b[38;5;21m_repr_image_svg_xml\u001b[39m(\u001b[38;5;28mself\u001b[39m) \u001b[38;5;241m-\u001b[39m\u001b[38;5;241m>\u001b[39m \u001b[38;5;28mstr\u001b[39m:\n\u001b[0;32m    111\u001b[0m \u001b[38;5;250m    \u001b[39m\u001b[38;5;124;03m\"\"\"Return the rendered graph as SVG string.\"\"\"\u001b[39;00m\n\u001b[1;32m--> 112\u001b[0m     \u001b[38;5;28;01mreturn\u001b[39;00m \u001b[38;5;28;43mself\u001b[39;49m\u001b[38;5;241;43m.\u001b[39;49m\u001b[43mpipe\u001b[49m\u001b[43m(\u001b[49m\u001b[38;5;28;43mformat\u001b[39;49m\u001b[38;5;241;43m=\u001b[39;49m\u001b[38;5;124;43m'\u001b[39;49m\u001b[38;5;124;43msvg\u001b[39;49m\u001b[38;5;124;43m'\u001b[39;49m\u001b[43m,\u001b[49m\u001b[43m \u001b[49m\u001b[43mencoding\u001b[49m\u001b[38;5;241;43m=\u001b[39;49m\u001b[43mSVG_ENCODING\u001b[49m\u001b[43m)\u001b[49m\n",
      "File \u001b[1;32m~\\AppData\\Roaming\\Python\\Python39\\site-packages\\graphviz\\piping.py:104\u001b[0m, in \u001b[0;36mPipe.pipe\u001b[1;34m(self, format, renderer, formatter, neato_no_op, quiet, engine, encoding)\u001b[0m\n\u001b[0;32m     55\u001b[0m \u001b[38;5;28;01mdef\u001b[39;00m \u001b[38;5;21mpipe\u001b[39m(\u001b[38;5;28mself\u001b[39m,\n\u001b[0;32m     56\u001b[0m          \u001b[38;5;28mformat\u001b[39m: typing\u001b[38;5;241m.\u001b[39mOptional[\u001b[38;5;28mstr\u001b[39m] \u001b[38;5;241m=\u001b[39m \u001b[38;5;28;01mNone\u001b[39;00m,\n\u001b[0;32m     57\u001b[0m          renderer: typing\u001b[38;5;241m.\u001b[39mOptional[\u001b[38;5;28mstr\u001b[39m] \u001b[38;5;241m=\u001b[39m \u001b[38;5;28;01mNone\u001b[39;00m,\n\u001b[1;32m   (...)\u001b[0m\n\u001b[0;32m     61\u001b[0m          engine: typing\u001b[38;5;241m.\u001b[39mOptional[\u001b[38;5;28mstr\u001b[39m] \u001b[38;5;241m=\u001b[39m \u001b[38;5;28;01mNone\u001b[39;00m,\n\u001b[0;32m     62\u001b[0m          encoding: typing\u001b[38;5;241m.\u001b[39mOptional[\u001b[38;5;28mstr\u001b[39m] \u001b[38;5;241m=\u001b[39m \u001b[38;5;28;01mNone\u001b[39;00m) \u001b[38;5;241m-\u001b[39m\u001b[38;5;241m>\u001b[39m typing\u001b[38;5;241m.\u001b[39mUnion[\u001b[38;5;28mbytes\u001b[39m, \u001b[38;5;28mstr\u001b[39m]:\n\u001b[0;32m     63\u001b[0m \u001b[38;5;250m    \u001b[39m\u001b[38;5;124;03m\"\"\"Return the source piped through the Graphviz layout command.\u001b[39;00m\n\u001b[0;32m     64\u001b[0m \n\u001b[0;32m     65\u001b[0m \u001b[38;5;124;03m    Args:\u001b[39;00m\n\u001b[1;32m   (...)\u001b[0m\n\u001b[0;32m    102\u001b[0m \u001b[38;5;124;03m        '<?xml version='\u001b[39;00m\n\u001b[0;32m    103\u001b[0m \u001b[38;5;124;03m    \"\"\"\u001b[39;00m\n\u001b[1;32m--> 104\u001b[0m     \u001b[38;5;28;01mreturn\u001b[39;00m \u001b[38;5;28;43mself\u001b[39;49m\u001b[38;5;241;43m.\u001b[39;49m\u001b[43m_pipe_legacy\u001b[49m\u001b[43m(\u001b[49m\u001b[38;5;28;43mformat\u001b[39;49m\u001b[43m,\u001b[49m\n\u001b[0;32m    105\u001b[0m \u001b[43m                             \u001b[49m\u001b[43mrenderer\u001b[49m\u001b[38;5;241;43m=\u001b[39;49m\u001b[43mrenderer\u001b[49m\u001b[43m,\u001b[49m\n\u001b[0;32m    106\u001b[0m \u001b[43m                             \u001b[49m\u001b[43mformatter\u001b[49m\u001b[38;5;241;43m=\u001b[39;49m\u001b[43mformatter\u001b[49m\u001b[43m,\u001b[49m\n\u001b[0;32m    107\u001b[0m \u001b[43m                             \u001b[49m\u001b[43mneato_no_op\u001b[49m\u001b[38;5;241;43m=\u001b[39;49m\u001b[43mneato_no_op\u001b[49m\u001b[43m,\u001b[49m\n\u001b[0;32m    108\u001b[0m \u001b[43m                             \u001b[49m\u001b[43mquiet\u001b[49m\u001b[38;5;241;43m=\u001b[39;49m\u001b[43mquiet\u001b[49m\u001b[43m,\u001b[49m\n\u001b[0;32m    109\u001b[0m \u001b[43m                             \u001b[49m\u001b[43mengine\u001b[49m\u001b[38;5;241;43m=\u001b[39;49m\u001b[43mengine\u001b[49m\u001b[43m,\u001b[49m\n\u001b[0;32m    110\u001b[0m \u001b[43m                             \u001b[49m\u001b[43mencoding\u001b[49m\u001b[38;5;241;43m=\u001b[39;49m\u001b[43mencoding\u001b[49m\u001b[43m)\u001b[49m\n",
      "File \u001b[1;32m~\\AppData\\Roaming\\Python\\Python39\\site-packages\\graphviz\\_tools.py:171\u001b[0m, in \u001b[0;36mdeprecate_positional_args.<locals>.decorator.<locals>.wrapper\u001b[1;34m(*args, **kwargs)\u001b[0m\n\u001b[0;32m    162\u001b[0m     wanted \u001b[38;5;241m=\u001b[39m \u001b[38;5;124m'\u001b[39m\u001b[38;5;124m, \u001b[39m\u001b[38;5;124m'\u001b[39m\u001b[38;5;241m.\u001b[39mjoin(\u001b[38;5;124mf\u001b[39m\u001b[38;5;124m'\u001b[39m\u001b[38;5;132;01m{\u001b[39;00mname\u001b[38;5;132;01m}\u001b[39;00m\u001b[38;5;124m=\u001b[39m\u001b[38;5;132;01m{\u001b[39;00mvalue\u001b[38;5;132;01m!r}\u001b[39;00m\u001b[38;5;124m'\u001b[39m\n\u001b[0;32m    163\u001b[0m                        \u001b[38;5;28;01mfor\u001b[39;00m name, value \u001b[38;5;129;01min\u001b[39;00m deprecated\u001b[38;5;241m.\u001b[39mitems())\n\u001b[0;32m    164\u001b[0m     warnings\u001b[38;5;241m.\u001b[39mwarn(\u001b[38;5;124mf\u001b[39m\u001b[38;5;124m'\u001b[39m\u001b[38;5;124mThe signature of \u001b[39m\u001b[38;5;132;01m{\u001b[39;00mfunc\u001b[38;5;241m.\u001b[39m\u001b[38;5;18m__name__\u001b[39m\u001b[38;5;132;01m}\u001b[39;00m\u001b[38;5;124m will be reduced\u001b[39m\u001b[38;5;124m'\u001b[39m\n\u001b[0;32m    165\u001b[0m                   \u001b[38;5;124mf\u001b[39m\u001b[38;5;124m'\u001b[39m\u001b[38;5;124m to \u001b[39m\u001b[38;5;132;01m{\u001b[39;00msupported_number\u001b[38;5;132;01m}\u001b[39;00m\u001b[38;5;124m positional args\u001b[39m\u001b[38;5;124m'\u001b[39m\n\u001b[0;32m    166\u001b[0m                   \u001b[38;5;124mf\u001b[39m\u001b[38;5;124m'\u001b[39m\u001b[38;5;124m \u001b[39m\u001b[38;5;132;01m{\u001b[39;00m\u001b[38;5;28mlist\u001b[39m(supported)\u001b[38;5;132;01m}\u001b[39;00m\u001b[38;5;124m: pass \u001b[39m\u001b[38;5;132;01m{\u001b[39;00mwanted\u001b[38;5;132;01m}\u001b[39;00m\u001b[38;5;124m'\u001b[39m\n\u001b[0;32m    167\u001b[0m                   \u001b[38;5;124m'\u001b[39m\u001b[38;5;124m as keyword arg(s)\u001b[39m\u001b[38;5;124m'\u001b[39m,\n\u001b[0;32m    168\u001b[0m                   stacklevel\u001b[38;5;241m=\u001b[39mstacklevel,\n\u001b[0;32m    169\u001b[0m                   category\u001b[38;5;241m=\u001b[39mcategory)\n\u001b[1;32m--> 171\u001b[0m \u001b[38;5;28;01mreturn\u001b[39;00m func(\u001b[38;5;241m*\u001b[39margs, \u001b[38;5;241m*\u001b[39m\u001b[38;5;241m*\u001b[39mkwargs)\n",
      "File \u001b[1;32m~\\AppData\\Roaming\\Python\\Python39\\site-packages\\graphviz\\piping.py:121\u001b[0m, in \u001b[0;36mPipe._pipe_legacy\u001b[1;34m(self, format, renderer, formatter, neato_no_op, quiet, engine, encoding)\u001b[0m\n\u001b[0;32m    112\u001b[0m \u001b[38;5;129m@_tools\u001b[39m\u001b[38;5;241m.\u001b[39mdeprecate_positional_args(supported_number\u001b[38;5;241m=\u001b[39m\u001b[38;5;241m2\u001b[39m)\n\u001b[0;32m    113\u001b[0m \u001b[38;5;28;01mdef\u001b[39;00m \u001b[38;5;21m_pipe_legacy\u001b[39m(\u001b[38;5;28mself\u001b[39m,\n\u001b[0;32m    114\u001b[0m                  \u001b[38;5;28mformat\u001b[39m: typing\u001b[38;5;241m.\u001b[39mOptional[\u001b[38;5;28mstr\u001b[39m] \u001b[38;5;241m=\u001b[39m \u001b[38;5;28;01mNone\u001b[39;00m,\n\u001b[1;32m   (...)\u001b[0m\n\u001b[0;32m    119\u001b[0m                  engine: typing\u001b[38;5;241m.\u001b[39mOptional[\u001b[38;5;28mstr\u001b[39m] \u001b[38;5;241m=\u001b[39m \u001b[38;5;28;01mNone\u001b[39;00m,\n\u001b[0;32m    120\u001b[0m                  encoding: typing\u001b[38;5;241m.\u001b[39mOptional[\u001b[38;5;28mstr\u001b[39m] \u001b[38;5;241m=\u001b[39m \u001b[38;5;28;01mNone\u001b[39;00m) \u001b[38;5;241m-\u001b[39m\u001b[38;5;241m>\u001b[39m typing\u001b[38;5;241m.\u001b[39mUnion[\u001b[38;5;28mbytes\u001b[39m, \u001b[38;5;28mstr\u001b[39m]:\n\u001b[1;32m--> 121\u001b[0m     \u001b[38;5;28;01mreturn\u001b[39;00m \u001b[38;5;28;43mself\u001b[39;49m\u001b[38;5;241;43m.\u001b[39;49m\u001b[43m_pipe_future\u001b[49m\u001b[43m(\u001b[49m\u001b[38;5;28;43mformat\u001b[39;49m\u001b[43m,\u001b[49m\n\u001b[0;32m    122\u001b[0m \u001b[43m                             \u001b[49m\u001b[43mrenderer\u001b[49m\u001b[38;5;241;43m=\u001b[39;49m\u001b[43mrenderer\u001b[49m\u001b[43m,\u001b[49m\n\u001b[0;32m    123\u001b[0m \u001b[43m                             \u001b[49m\u001b[43mformatter\u001b[49m\u001b[38;5;241;43m=\u001b[39;49m\u001b[43mformatter\u001b[49m\u001b[43m,\u001b[49m\n\u001b[0;32m    124\u001b[0m \u001b[43m                             \u001b[49m\u001b[43mneato_no_op\u001b[49m\u001b[38;5;241;43m=\u001b[39;49m\u001b[43mneato_no_op\u001b[49m\u001b[43m,\u001b[49m\n\u001b[0;32m    125\u001b[0m \u001b[43m                             \u001b[49m\u001b[43mquiet\u001b[49m\u001b[38;5;241;43m=\u001b[39;49m\u001b[43mquiet\u001b[49m\u001b[43m,\u001b[49m\n\u001b[0;32m    126\u001b[0m \u001b[43m                             \u001b[49m\u001b[43mengine\u001b[49m\u001b[38;5;241;43m=\u001b[39;49m\u001b[43mengine\u001b[49m\u001b[43m,\u001b[49m\n\u001b[0;32m    127\u001b[0m \u001b[43m                             \u001b[49m\u001b[43mencoding\u001b[49m\u001b[38;5;241;43m=\u001b[39;49m\u001b[43mencoding\u001b[49m\u001b[43m)\u001b[49m\n",
      "File \u001b[1;32m~\\AppData\\Roaming\\Python\\Python39\\site-packages\\graphviz\\piping.py:149\u001b[0m, in \u001b[0;36mPipe._pipe_future\u001b[1;34m(self, format, renderer, formatter, neato_no_op, quiet, engine, encoding)\u001b[0m\n\u001b[0;32m    146\u001b[0m \u001b[38;5;28;01mif\u001b[39;00m encoding \u001b[38;5;129;01mis\u001b[39;00m \u001b[38;5;129;01mnot\u001b[39;00m \u001b[38;5;28;01mNone\u001b[39;00m:\n\u001b[0;32m    147\u001b[0m     \u001b[38;5;28;01mif\u001b[39;00m codecs\u001b[38;5;241m.\u001b[39mlookup(encoding) \u001b[38;5;129;01mis\u001b[39;00m codecs\u001b[38;5;241m.\u001b[39mlookup(\u001b[38;5;28mself\u001b[39m\u001b[38;5;241m.\u001b[39mencoding):\n\u001b[0;32m    148\u001b[0m         \u001b[38;5;66;03m# common case: both stdin and stdout need the same encoding\u001b[39;00m\n\u001b[1;32m--> 149\u001b[0m         \u001b[38;5;28;01mreturn\u001b[39;00m \u001b[38;5;28mself\u001b[39m\u001b[38;5;241m.\u001b[39m_pipe_lines_string(\u001b[38;5;241m*\u001b[39margs, encoding\u001b[38;5;241m=\u001b[39mencoding, \u001b[38;5;241m*\u001b[39m\u001b[38;5;241m*\u001b[39mkwargs)\n\u001b[0;32m    150\u001b[0m     \u001b[38;5;28;01mtry\u001b[39;00m:\n\u001b[0;32m    151\u001b[0m         raw \u001b[38;5;241m=\u001b[39m \u001b[38;5;28mself\u001b[39m\u001b[38;5;241m.\u001b[39m_pipe_lines(\u001b[38;5;241m*\u001b[39margs, input_encoding\u001b[38;5;241m=\u001b[39m\u001b[38;5;28mself\u001b[39m\u001b[38;5;241m.\u001b[39mencoding, \u001b[38;5;241m*\u001b[39m\u001b[38;5;241m*\u001b[39mkwargs)\n",
      "File \u001b[1;32m~\\AppData\\Roaming\\Python\\Python39\\site-packages\\graphviz\\backend\\piping.py:212\u001b[0m, in \u001b[0;36mpipe_lines_string\u001b[1;34m(engine, format, input_lines, encoding, renderer, formatter, neato_no_op, quiet)\u001b[0m\n\u001b[0;32m    206\u001b[0m cmd \u001b[38;5;241m=\u001b[39m dot_command\u001b[38;5;241m.\u001b[39mcommand(engine, \u001b[38;5;28mformat\u001b[39m,\n\u001b[0;32m    207\u001b[0m                           renderer\u001b[38;5;241m=\u001b[39mrenderer,\n\u001b[0;32m    208\u001b[0m                           formatter\u001b[38;5;241m=\u001b[39mformatter,\n\u001b[0;32m    209\u001b[0m                           neato_no_op\u001b[38;5;241m=\u001b[39mneato_no_op)\n\u001b[0;32m    210\u001b[0m kwargs \u001b[38;5;241m=\u001b[39m {\u001b[38;5;124m'\u001b[39m\u001b[38;5;124minput_lines\u001b[39m\u001b[38;5;124m'\u001b[39m: input_lines, \u001b[38;5;124m'\u001b[39m\u001b[38;5;124mencoding\u001b[39m\u001b[38;5;124m'\u001b[39m: encoding}\n\u001b[1;32m--> 212\u001b[0m proc \u001b[38;5;241m=\u001b[39m execute\u001b[38;5;241m.\u001b[39mrun_check(cmd, capture_output\u001b[38;5;241m=\u001b[39m\u001b[38;5;28;01mTrue\u001b[39;00m, quiet\u001b[38;5;241m=\u001b[39mquiet, \u001b[38;5;241m*\u001b[39m\u001b[38;5;241m*\u001b[39mkwargs)\n\u001b[0;32m    213\u001b[0m \u001b[38;5;28;01mreturn\u001b[39;00m proc\u001b[38;5;241m.\u001b[39mstdout\n",
      "File \u001b[1;32m~\\AppData\\Roaming\\Python\\Python39\\site-packages\\graphviz\\backend\\execute.py:84\u001b[0m, in \u001b[0;36mrun_check\u001b[1;34m(cmd, input_lines, encoding, quiet, **kwargs)\u001b[0m\n\u001b[0;32m     82\u001b[0m \u001b[38;5;28;01mexcept\u001b[39;00m \u001b[38;5;167;01mOSError\u001b[39;00m \u001b[38;5;28;01mas\u001b[39;00m e:\n\u001b[0;32m     83\u001b[0m     \u001b[38;5;28;01mif\u001b[39;00m e\u001b[38;5;241m.\u001b[39merrno \u001b[38;5;241m==\u001b[39m errno\u001b[38;5;241m.\u001b[39mENOENT:\n\u001b[1;32m---> 84\u001b[0m         \u001b[38;5;28;01mraise\u001b[39;00m ExecutableNotFound(cmd) \u001b[38;5;28;01mfrom\u001b[39;00m \u001b[38;5;21;01me\u001b[39;00m\n\u001b[0;32m     85\u001b[0m     \u001b[38;5;28;01mraise\u001b[39;00m\n\u001b[0;32m     87\u001b[0m \u001b[38;5;28;01mif\u001b[39;00m \u001b[38;5;129;01mnot\u001b[39;00m quiet \u001b[38;5;129;01mand\u001b[39;00m proc\u001b[38;5;241m.\u001b[39mstderr:\n",
      "\u001b[1;31mExecutableNotFound\u001b[0m: failed to execute WindowsPath('dot'), make sure the Graphviz executables are on your systems' PATH"
     ]
    },
    {
     "data": {
      "text/plain": [
       "<graphviz.graphs.Digraph at 0x1d41e054670>"
      ]
     },
     "execution_count": 3,
     "metadata": {},
     "output_type": "execute_result"
    },
    {
     "data": {
      "text/plain": [
       "<Figure size 1500x1500 with 0 Axes>"
      ]
     },
     "metadata": {},
     "output_type": "display_data"
    }
   ],
   "source": [
    "from torchviz import make_dot\n",
    "\n",
    "# import torchvision\n",
    "from torchview import draw_graph\n",
    "plt.figure(figsize = (15,15))\n",
    "model_graph = draw_graph(Net(), input_size=(1,1,28,28), expand_nested=True)\n",
    "model_graph.visual_graph"
   ]
  },
  {
   "cell_type": "code",
   "execution_count": 8,
   "metadata": {
    "tags": []
   },
   "outputs": [
    {
     "name": "stdout",
     "output_type": "stream",
     "text": [
      "Defaulting to user installation because normal site-packages is not writeable\n",
      "Collecting torchview\n",
      "  Downloading torchview-0.2.6-py3-none-any.whl (25 kB)\n",
      "Installing collected packages: torchview\n",
      "Successfully installed torchview-0.2.6\n"
     ]
    }
   ],
   "source": [
    "!pip install torchview"
   ]
  },
  {
   "cell_type": "markdown",
   "metadata": {},
   "source": [
    "#### Referencias:\n",
    "\n",
    "[A Comprehensive Guide to Convolutional Neural Networks](https://towardsdatascience.com/a-comprehensive-guide-to-convolutional-neural-networks-the-eli5-way-3bd2b1164a53)\n",
    "\n",
    "[Documentación de PyTorch](https://pytorch.org/)\n",
    "\n",
    "[Tutoriales](https://pytorch.org/tutorials/beginner/basics/quickstart_tutorial.html)"
   ]
  }
 ],
 "metadata": {
  "accelerator": "GPU",
  "colab": {
   "provenance": []
  },
  "kernelspec": {
   "display_name": "Python 3 (ipykernel)",
   "language": "python",
   "name": "python3"
  },
  "language_info": {
   "codemirror_mode": {
    "name": "ipython",
    "version": 3
   },
   "file_extension": ".py",
   "mimetype": "text/x-python",
   "name": "python",
   "nbconvert_exporter": "python",
   "pygments_lexer": "ipython3",
   "version": "3.9.16"
  },
  "vscode": {
   "interpreter": {
    "hash": "0ad57050c77180dc9ed5ccc7774a474d285089782a3b5193155c6c81d567ba30"
   }
  },
  "widgets": {
   "application/vnd.jupyter.widget-state+json": {
    "020c4ebb405245079ae6d2eeb3f5ab44": {
     "model_module": "@jupyter-widgets/controls",
     "model_module_version": "1.5.0",
     "model_name": "DescriptionStyleModel",
     "state": {
      "_model_module": "@jupyter-widgets/controls",
      "_model_module_version": "1.5.0",
      "_model_name": "DescriptionStyleModel",
      "_view_count": null,
      "_view_module": "@jupyter-widgets/base",
      "_view_module_version": "1.2.0",
      "_view_name": "StyleView",
      "description_width": ""
     }
    },
    "139a571b44d8467dad3ff988e2317d98": {
     "model_module": "@jupyter-widgets/base",
     "model_module_version": "1.2.0",
     "model_name": "LayoutModel",
     "state": {
      "_model_module": "@jupyter-widgets/base",
      "_model_module_version": "1.2.0",
      "_model_name": "LayoutModel",
      "_view_count": null,
      "_view_module": "@jupyter-widgets/base",
      "_view_module_version": "1.2.0",
      "_view_name": "LayoutView",
      "align_content": null,
      "align_items": null,
      "align_self": null,
      "border": null,
      "bottom": null,
      "display": null,
      "flex": null,
      "flex_flow": null,
      "grid_area": null,
      "grid_auto_columns": null,
      "grid_auto_flow": null,
      "grid_auto_rows": null,
      "grid_column": null,
      "grid_gap": null,
      "grid_row": null,
      "grid_template_areas": null,
      "grid_template_columns": null,
      "grid_template_rows": null,
      "height": null,
      "justify_content": null,
      "justify_items": null,
      "left": null,
      "margin": null,
      "max_height": null,
      "max_width": null,
      "min_height": null,
      "min_width": null,
      "object_fit": null,
      "object_position": null,
      "order": null,
      "overflow": null,
      "overflow_x": null,
      "overflow_y": null,
      "padding": null,
      "right": null,
      "top": null,
      "visibility": null,
      "width": null
     }
    },
    "171b2f2ab7ae4dae8795c0f5026221af": {
     "model_module": "@jupyter-widgets/controls",
     "model_module_version": "1.5.0",
     "model_name": "DescriptionStyleModel",
     "state": {
      "_model_module": "@jupyter-widgets/controls",
      "_model_module_version": "1.5.0",
      "_model_name": "DescriptionStyleModel",
      "_view_count": null,
      "_view_module": "@jupyter-widgets/base",
      "_view_module_version": "1.2.0",
      "_view_name": "StyleView",
      "description_width": ""
     }
    },
    "17c1ad1186944afa861ab919ae7fd6f8": {
     "model_module": "@jupyter-widgets/controls",
     "model_module_version": "1.5.0",
     "model_name": "HTMLModel",
     "state": {
      "_dom_classes": [],
      "_model_module": "@jupyter-widgets/controls",
      "_model_module_version": "1.5.0",
      "_model_name": "HTMLModel",
      "_view_count": null,
      "_view_module": "@jupyter-widgets/controls",
      "_view_module_version": "1.5.0",
      "_view_name": "HTMLView",
      "description": "",
      "description_tooltip": null,
      "layout": "IPY_MODEL_2cefa7ecb6d140d589b6c35839410ae0",
      "placeholder": "​",
      "style": "IPY_MODEL_020c4ebb405245079ae6d2eeb3f5ab44",
      "value": " 29515/29515 [00:00&lt;00:00, 608879.20it/s]"
     }
    },
    "18fb16907465448395a67e0daeb1d7bc": {
     "model_module": "@jupyter-widgets/controls",
     "model_module_version": "1.5.0",
     "model_name": "DescriptionStyleModel",
     "state": {
      "_model_module": "@jupyter-widgets/controls",
      "_model_module_version": "1.5.0",
      "_model_name": "DescriptionStyleModel",
      "_view_count": null,
      "_view_module": "@jupyter-widgets/base",
      "_view_module_version": "1.2.0",
      "_view_name": "StyleView",
      "description_width": ""
     }
    },
    "2cefa7ecb6d140d589b6c35839410ae0": {
     "model_module": "@jupyter-widgets/base",
     "model_module_version": "1.2.0",
     "model_name": "LayoutModel",
     "state": {
      "_model_module": "@jupyter-widgets/base",
      "_model_module_version": "1.2.0",
      "_model_name": "LayoutModel",
      "_view_count": null,
      "_view_module": "@jupyter-widgets/base",
      "_view_module_version": "1.2.0",
      "_view_name": "LayoutView",
      "align_content": null,
      "align_items": null,
      "align_self": null,
      "border": null,
      "bottom": null,
      "display": null,
      "flex": null,
      "flex_flow": null,
      "grid_area": null,
      "grid_auto_columns": null,
      "grid_auto_flow": null,
      "grid_auto_rows": null,
      "grid_column": null,
      "grid_gap": null,
      "grid_row": null,
      "grid_template_areas": null,
      "grid_template_columns": null,
      "grid_template_rows": null,
      "height": null,
      "justify_content": null,
      "justify_items": null,
      "left": null,
      "margin": null,
      "max_height": null,
      "max_width": null,
      "min_height": null,
      "min_width": null,
      "object_fit": null,
      "object_position": null,
      "order": null,
      "overflow": null,
      "overflow_x": null,
      "overflow_y": null,
      "padding": null,
      "right": null,
      "top": null,
      "visibility": null,
      "width": null
     }
    },
    "30e7a9cf089745b4936af8df5727b646": {
     "model_module": "@jupyter-widgets/controls",
     "model_module_version": "1.5.0",
     "model_name": "HTMLModel",
     "state": {
      "_dom_classes": [],
      "_model_module": "@jupyter-widgets/controls",
      "_model_module_version": "1.5.0",
      "_model_name": "HTMLModel",
      "_view_count": null,
      "_view_module": "@jupyter-widgets/controls",
      "_view_module_version": "1.5.0",
      "_view_name": "HTMLView",
      "description": "",
      "description_tooltip": null,
      "layout": "IPY_MODEL_139a571b44d8467dad3ff988e2317d98",
      "placeholder": "​",
      "style": "IPY_MODEL_5c944b8a71cd4d2a9f0b1329081e242a",
      "value": "100%"
     }
    },
    "33796a7dcd5f4cbd9a15e3c6e2bd0729": {
     "model_module": "@jupyter-widgets/controls",
     "model_module_version": "1.5.0",
     "model_name": "DescriptionStyleModel",
     "state": {
      "_model_module": "@jupyter-widgets/controls",
      "_model_module_version": "1.5.0",
      "_model_name": "DescriptionStyleModel",
      "_view_count": null,
      "_view_module": "@jupyter-widgets/base",
      "_view_module_version": "1.2.0",
      "_view_name": "StyleView",
      "description_width": ""
     }
    },
    "3a2614ab19c544d78a81cf9c72ddaded": {
     "model_module": "@jupyter-widgets/base",
     "model_module_version": "1.2.0",
     "model_name": "LayoutModel",
     "state": {
      "_model_module": "@jupyter-widgets/base",
      "_model_module_version": "1.2.0",
      "_model_name": "LayoutModel",
      "_view_count": null,
      "_view_module": "@jupyter-widgets/base",
      "_view_module_version": "1.2.0",
      "_view_name": "LayoutView",
      "align_content": null,
      "align_items": null,
      "align_self": null,
      "border": null,
      "bottom": null,
      "display": null,
      "flex": null,
      "flex_flow": null,
      "grid_area": null,
      "grid_auto_columns": null,
      "grid_auto_flow": null,
      "grid_auto_rows": null,
      "grid_column": null,
      "grid_gap": null,
      "grid_row": null,
      "grid_template_areas": null,
      "grid_template_columns": null,
      "grid_template_rows": null,
      "height": null,
      "justify_content": null,
      "justify_items": null,
      "left": null,
      "margin": null,
      "max_height": null,
      "max_width": null,
      "min_height": null,
      "min_width": null,
      "object_fit": null,
      "object_position": null,
      "order": null,
      "overflow": null,
      "overflow_x": null,
      "overflow_y": null,
      "padding": null,
      "right": null,
      "top": null,
      "visibility": null,
      "width": null
     }
    },
    "3f508985d8324f14b63579a720a16cfb": {
     "model_module": "@jupyter-widgets/base",
     "model_module_version": "1.2.0",
     "model_name": "LayoutModel",
     "state": {
      "_model_module": "@jupyter-widgets/base",
      "_model_module_version": "1.2.0",
      "_model_name": "LayoutModel",
      "_view_count": null,
      "_view_module": "@jupyter-widgets/base",
      "_view_module_version": "1.2.0",
      "_view_name": "LayoutView",
      "align_content": null,
      "align_items": null,
      "align_self": null,
      "border": null,
      "bottom": null,
      "display": null,
      "flex": null,
      "flex_flow": null,
      "grid_area": null,
      "grid_auto_columns": null,
      "grid_auto_flow": null,
      "grid_auto_rows": null,
      "grid_column": null,
      "grid_gap": null,
      "grid_row": null,
      "grid_template_areas": null,
      "grid_template_columns": null,
      "grid_template_rows": null,
      "height": null,
      "justify_content": null,
      "justify_items": null,
      "left": null,
      "margin": null,
      "max_height": null,
      "max_width": null,
      "min_height": null,
      "min_width": null,
      "object_fit": null,
      "object_position": null,
      "order": null,
      "overflow": null,
      "overflow_x": null,
      "overflow_y": null,
      "padding": null,
      "right": null,
      "top": null,
      "visibility": null,
      "width": null
     }
    },
    "402321aba5364603a2fe8ec2d0602a9c": {
     "model_module": "@jupyter-widgets/base",
     "model_module_version": "1.2.0",
     "model_name": "LayoutModel",
     "state": {
      "_model_module": "@jupyter-widgets/base",
      "_model_module_version": "1.2.0",
      "_model_name": "LayoutModel",
      "_view_count": null,
      "_view_module": "@jupyter-widgets/base",
      "_view_module_version": "1.2.0",
      "_view_name": "LayoutView",
      "align_content": null,
      "align_items": null,
      "align_self": null,
      "border": null,
      "bottom": null,
      "display": null,
      "flex": null,
      "flex_flow": null,
      "grid_area": null,
      "grid_auto_columns": null,
      "grid_auto_flow": null,
      "grid_auto_rows": null,
      "grid_column": null,
      "grid_gap": null,
      "grid_row": null,
      "grid_template_areas": null,
      "grid_template_columns": null,
      "grid_template_rows": null,
      "height": null,
      "justify_content": null,
      "justify_items": null,
      "left": null,
      "margin": null,
      "max_height": null,
      "max_width": null,
      "min_height": null,
      "min_width": null,
      "object_fit": null,
      "object_position": null,
      "order": null,
      "overflow": null,
      "overflow_x": null,
      "overflow_y": null,
      "padding": null,
      "right": null,
      "top": null,
      "visibility": null,
      "width": null
     }
    },
    "4251ec30208247d7bf933fc96928a67b": {
     "model_module": "@jupyter-widgets/base",
     "model_module_version": "1.2.0",
     "model_name": "LayoutModel",
     "state": {
      "_model_module": "@jupyter-widgets/base",
      "_model_module_version": "1.2.0",
      "_model_name": "LayoutModel",
      "_view_count": null,
      "_view_module": "@jupyter-widgets/base",
      "_view_module_version": "1.2.0",
      "_view_name": "LayoutView",
      "align_content": null,
      "align_items": null,
      "align_self": null,
      "border": null,
      "bottom": null,
      "display": null,
      "flex": null,
      "flex_flow": null,
      "grid_area": null,
      "grid_auto_columns": null,
      "grid_auto_flow": null,
      "grid_auto_rows": null,
      "grid_column": null,
      "grid_gap": null,
      "grid_row": null,
      "grid_template_areas": null,
      "grid_template_columns": null,
      "grid_template_rows": null,
      "height": null,
      "justify_content": null,
      "justify_items": null,
      "left": null,
      "margin": null,
      "max_height": null,
      "max_width": null,
      "min_height": null,
      "min_width": null,
      "object_fit": null,
      "object_position": null,
      "order": null,
      "overflow": null,
      "overflow_x": null,
      "overflow_y": null,
      "padding": null,
      "right": null,
      "top": null,
      "visibility": null,
      "width": null
     }
    },
    "42e8040b2eba4dcfae18fd43965b9905": {
     "model_module": "@jupyter-widgets/base",
     "model_module_version": "1.2.0",
     "model_name": "LayoutModel",
     "state": {
      "_model_module": "@jupyter-widgets/base",
      "_model_module_version": "1.2.0",
      "_model_name": "LayoutModel",
      "_view_count": null,
      "_view_module": "@jupyter-widgets/base",
      "_view_module_version": "1.2.0",
      "_view_name": "LayoutView",
      "align_content": null,
      "align_items": null,
      "align_self": null,
      "border": null,
      "bottom": null,
      "display": null,
      "flex": null,
      "flex_flow": null,
      "grid_area": null,
      "grid_auto_columns": null,
      "grid_auto_flow": null,
      "grid_auto_rows": null,
      "grid_column": null,
      "grid_gap": null,
      "grid_row": null,
      "grid_template_areas": null,
      "grid_template_columns": null,
      "grid_template_rows": null,
      "height": null,
      "justify_content": null,
      "justify_items": null,
      "left": null,
      "margin": null,
      "max_height": null,
      "max_width": null,
      "min_height": null,
      "min_width": null,
      "object_fit": null,
      "object_position": null,
      "order": null,
      "overflow": null,
      "overflow_x": null,
      "overflow_y": null,
      "padding": null,
      "right": null,
      "top": null,
      "visibility": null,
      "width": null
     }
    },
    "42fe717f238144dab7db13fbe0c7ad49": {
     "model_module": "@jupyter-widgets/controls",
     "model_module_version": "1.5.0",
     "model_name": "ProgressStyleModel",
     "state": {
      "_model_module": "@jupyter-widgets/controls",
      "_model_module_version": "1.5.0",
      "_model_name": "ProgressStyleModel",
      "_view_count": null,
      "_view_module": "@jupyter-widgets/base",
      "_view_module_version": "1.2.0",
      "_view_name": "StyleView",
      "bar_color": null,
      "description_width": ""
     }
    },
    "47d355af9fd64168b13ecd5d0267439a": {
     "model_module": "@jupyter-widgets/controls",
     "model_module_version": "1.5.0",
     "model_name": "FloatProgressModel",
     "state": {
      "_dom_classes": [],
      "_model_module": "@jupyter-widgets/controls",
      "_model_module_version": "1.5.0",
      "_model_name": "FloatProgressModel",
      "_view_count": null,
      "_view_module": "@jupyter-widgets/controls",
      "_view_module_version": "1.5.0",
      "_view_name": "ProgressView",
      "bar_style": "success",
      "description": "",
      "description_tooltip": null,
      "layout": "IPY_MODEL_42e8040b2eba4dcfae18fd43965b9905",
      "max": 4422102,
      "min": 0,
      "orientation": "horizontal",
      "style": "IPY_MODEL_fc8d247c70004b5797ae4cf786ec389b",
      "value": 4422102
     }
    },
    "589d9a40396d4f40b1d8e0d8e19f70d8": {
     "model_module": "@jupyter-widgets/controls",
     "model_module_version": "1.5.0",
     "model_name": "HTMLModel",
     "state": {
      "_dom_classes": [],
      "_model_module": "@jupyter-widgets/controls",
      "_model_module_version": "1.5.0",
      "_model_name": "HTMLModel",
      "_view_count": null,
      "_view_module": "@jupyter-widgets/controls",
      "_view_module_version": "1.5.0",
      "_view_name": "HTMLView",
      "description": "",
      "description_tooltip": null,
      "layout": "IPY_MODEL_3a2614ab19c544d78a81cf9c72ddaded",
      "placeholder": "​",
      "style": "IPY_MODEL_a76206268d1540d59e2f7584e24f8fdc",
      "value": " 4422102/4422102 [00:00&lt;00:00, 51208848.54it/s]"
     }
    },
    "5c944b8a71cd4d2a9f0b1329081e242a": {
     "model_module": "@jupyter-widgets/controls",
     "model_module_version": "1.5.0",
     "model_name": "DescriptionStyleModel",
     "state": {
      "_model_module": "@jupyter-widgets/controls",
      "_model_module_version": "1.5.0",
      "_model_name": "DescriptionStyleModel",
      "_view_count": null,
      "_view_module": "@jupyter-widgets/base",
      "_view_module_version": "1.2.0",
      "_view_name": "StyleView",
      "description_width": ""
     }
    },
    "61ae700b78374c4f875ed91dd7169ff7": {
     "model_module": "@jupyter-widgets/controls",
     "model_module_version": "1.5.0",
     "model_name": "DescriptionStyleModel",
     "state": {
      "_model_module": "@jupyter-widgets/controls",
      "_model_module_version": "1.5.0",
      "_model_name": "DescriptionStyleModel",
      "_view_count": null,
      "_view_module": "@jupyter-widgets/base",
      "_view_module_version": "1.2.0",
      "_view_name": "StyleView",
      "description_width": ""
     }
    },
    "6fb4dd31f7624d459104e5807e823714": {
     "model_module": "@jupyter-widgets/base",
     "model_module_version": "1.2.0",
     "model_name": "LayoutModel",
     "state": {
      "_model_module": "@jupyter-widgets/base",
      "_model_module_version": "1.2.0",
      "_model_name": "LayoutModel",
      "_view_count": null,
      "_view_module": "@jupyter-widgets/base",
      "_view_module_version": "1.2.0",
      "_view_name": "LayoutView",
      "align_content": null,
      "align_items": null,
      "align_self": null,
      "border": null,
      "bottom": null,
      "display": null,
      "flex": null,
      "flex_flow": null,
      "grid_area": null,
      "grid_auto_columns": null,
      "grid_auto_flow": null,
      "grid_auto_rows": null,
      "grid_column": null,
      "grid_gap": null,
      "grid_row": null,
      "grid_template_areas": null,
      "grid_template_columns": null,
      "grid_template_rows": null,
      "height": null,
      "justify_content": null,
      "justify_items": null,
      "left": null,
      "margin": null,
      "max_height": null,
      "max_width": null,
      "min_height": null,
      "min_width": null,
      "object_fit": null,
      "object_position": null,
      "order": null,
      "overflow": null,
      "overflow_x": null,
      "overflow_y": null,
      "padding": null,
      "right": null,
      "top": null,
      "visibility": null,
      "width": null
     }
    },
    "7220146c77734618adc25a3c4677995b": {
     "model_module": "@jupyter-widgets/controls",
     "model_module_version": "1.5.0",
     "model_name": "HBoxModel",
     "state": {
      "_dom_classes": [],
      "_model_module": "@jupyter-widgets/controls",
      "_model_module_version": "1.5.0",
      "_model_name": "HBoxModel",
      "_view_count": null,
      "_view_module": "@jupyter-widgets/controls",
      "_view_module_version": "1.5.0",
      "_view_name": "HBoxView",
      "box_style": "",
      "children": [
       "IPY_MODEL_fb83bb14d1fb48b4a3c803a79e8de320",
       "IPY_MODEL_eb02687d65dc40c6b3fedfaf6447664b",
       "IPY_MODEL_ecf349a24d8c4f488c657e2cf5631991"
      ],
      "layout": "IPY_MODEL_9f11f8dd1ec54a95a36f14dfcceee622"
     }
    },
    "81e7f1955fd44f988e1e558db8ef6fc6": {
     "model_module": "@jupyter-widgets/controls",
     "model_module_version": "1.5.0",
     "model_name": "ProgressStyleModel",
     "state": {
      "_model_module": "@jupyter-widgets/controls",
      "_model_module_version": "1.5.0",
      "_model_name": "ProgressStyleModel",
      "_view_count": null,
      "_view_module": "@jupyter-widgets/base",
      "_view_module_version": "1.2.0",
      "_view_name": "StyleView",
      "bar_color": null,
      "description_width": ""
     }
    },
    "8833ab479835449eb98861bcf33991cc": {
     "model_module": "@jupyter-widgets/controls",
     "model_module_version": "1.5.0",
     "model_name": "HTMLModel",
     "state": {
      "_dom_classes": [],
      "_model_module": "@jupyter-widgets/controls",
      "_model_module_version": "1.5.0",
      "_model_name": "HTMLModel",
      "_view_count": null,
      "_view_module": "@jupyter-widgets/controls",
      "_view_module_version": "1.5.0",
      "_view_name": "HTMLView",
      "description": "",
      "description_tooltip": null,
      "layout": "IPY_MODEL_6fb4dd31f7624d459104e5807e823714",
      "placeholder": "​",
      "style": "IPY_MODEL_33796a7dcd5f4cbd9a15e3c6e2bd0729",
      "value": " 5148/5148 [00:00&lt;00:00, 153084.60it/s]"
     }
    },
    "8b3b8e2b0fc348509d2bb0f289d0fd6c": {
     "model_module": "@jupyter-widgets/base",
     "model_module_version": "1.2.0",
     "model_name": "LayoutModel",
     "state": {
      "_model_module": "@jupyter-widgets/base",
      "_model_module_version": "1.2.0",
      "_model_name": "LayoutModel",
      "_view_count": null,
      "_view_module": "@jupyter-widgets/base",
      "_view_module_version": "1.2.0",
      "_view_name": "LayoutView",
      "align_content": null,
      "align_items": null,
      "align_self": null,
      "border": null,
      "bottom": null,
      "display": null,
      "flex": null,
      "flex_flow": null,
      "grid_area": null,
      "grid_auto_columns": null,
      "grid_auto_flow": null,
      "grid_auto_rows": null,
      "grid_column": null,
      "grid_gap": null,
      "grid_row": null,
      "grid_template_areas": null,
      "grid_template_columns": null,
      "grid_template_rows": null,
      "height": null,
      "justify_content": null,
      "justify_items": null,
      "left": null,
      "margin": null,
      "max_height": null,
      "max_width": null,
      "min_height": null,
      "min_width": null,
      "object_fit": null,
      "object_position": null,
      "order": null,
      "overflow": null,
      "overflow_x": null,
      "overflow_y": null,
      "padding": null,
      "right": null,
      "top": null,
      "visibility": null,
      "width": null
     }
    },
    "9dbd131dcb1048a8b7a512e68c8164c3": {
     "model_module": "@jupyter-widgets/controls",
     "model_module_version": "1.5.0",
     "model_name": "HTMLModel",
     "state": {
      "_dom_classes": [],
      "_model_module": "@jupyter-widgets/controls",
      "_model_module_version": "1.5.0",
      "_model_name": "HTMLModel",
      "_view_count": null,
      "_view_module": "@jupyter-widgets/controls",
      "_view_module_version": "1.5.0",
      "_view_name": "HTMLView",
      "description": "",
      "description_tooltip": null,
      "layout": "IPY_MODEL_d639f69f8aa645238e81e164beb64786",
      "placeholder": "​",
      "style": "IPY_MODEL_61ae700b78374c4f875ed91dd7169ff7",
      "value": "100%"
     }
    },
    "9f11f8dd1ec54a95a36f14dfcceee622": {
     "model_module": "@jupyter-widgets/base",
     "model_module_version": "1.2.0",
     "model_name": "LayoutModel",
     "state": {
      "_model_module": "@jupyter-widgets/base",
      "_model_module_version": "1.2.0",
      "_model_name": "LayoutModel",
      "_view_count": null,
      "_view_module": "@jupyter-widgets/base",
      "_view_module_version": "1.2.0",
      "_view_name": "LayoutView",
      "align_content": null,
      "align_items": null,
      "align_self": null,
      "border": null,
      "bottom": null,
      "display": null,
      "flex": null,
      "flex_flow": null,
      "grid_area": null,
      "grid_auto_columns": null,
      "grid_auto_flow": null,
      "grid_auto_rows": null,
      "grid_column": null,
      "grid_gap": null,
      "grid_row": null,
      "grid_template_areas": null,
      "grid_template_columns": null,
      "grid_template_rows": null,
      "height": null,
      "justify_content": null,
      "justify_items": null,
      "left": null,
      "margin": null,
      "max_height": null,
      "max_width": null,
      "min_height": null,
      "min_width": null,
      "object_fit": null,
      "object_position": null,
      "order": null,
      "overflow": null,
      "overflow_x": null,
      "overflow_y": null,
      "padding": null,
      "right": null,
      "top": null,
      "visibility": null,
      "width": null
     }
    },
    "a1e2310ada11416380ccdae6a9526fb0": {
     "model_module": "@jupyter-widgets/controls",
     "model_module_version": "1.5.0",
     "model_name": "FloatProgressModel",
     "state": {
      "_dom_classes": [],
      "_model_module": "@jupyter-widgets/controls",
      "_model_module_version": "1.5.0",
      "_model_name": "FloatProgressModel",
      "_view_count": null,
      "_view_module": "@jupyter-widgets/controls",
      "_view_module_version": "1.5.0",
      "_view_name": "ProgressView",
      "bar_style": "success",
      "description": "",
      "description_tooltip": null,
      "layout": "IPY_MODEL_b2f6f2e94b7e49b6a617fdffce627f55",
      "max": 29515,
      "min": 0,
      "orientation": "horizontal",
      "style": "IPY_MODEL_81e7f1955fd44f988e1e558db8ef6fc6",
      "value": 29515
     }
    },
    "a3110445ecde4d60b2ace874c6c32030": {
     "model_module": "@jupyter-widgets/controls",
     "model_module_version": "1.5.0",
     "model_name": "ProgressStyleModel",
     "state": {
      "_model_module": "@jupyter-widgets/controls",
      "_model_module_version": "1.5.0",
      "_model_name": "ProgressStyleModel",
      "_view_count": null,
      "_view_module": "@jupyter-widgets/base",
      "_view_module_version": "1.2.0",
      "_view_name": "StyleView",
      "bar_color": null,
      "description_width": ""
     }
    },
    "a76206268d1540d59e2f7584e24f8fdc": {
     "model_module": "@jupyter-widgets/controls",
     "model_module_version": "1.5.0",
     "model_name": "DescriptionStyleModel",
     "state": {
      "_model_module": "@jupyter-widgets/controls",
      "_model_module_version": "1.5.0",
      "_model_name": "DescriptionStyleModel",
      "_view_count": null,
      "_view_module": "@jupyter-widgets/base",
      "_view_module_version": "1.2.0",
      "_view_name": "StyleView",
      "description_width": ""
     }
    },
    "aa70a674da09469298aa18fd38e5a3dd": {
     "model_module": "@jupyter-widgets/base",
     "model_module_version": "1.2.0",
     "model_name": "LayoutModel",
     "state": {
      "_model_module": "@jupyter-widgets/base",
      "_model_module_version": "1.2.0",
      "_model_name": "LayoutModel",
      "_view_count": null,
      "_view_module": "@jupyter-widgets/base",
      "_view_module_version": "1.2.0",
      "_view_name": "LayoutView",
      "align_content": null,
      "align_items": null,
      "align_self": null,
      "border": null,
      "bottom": null,
      "display": null,
      "flex": null,
      "flex_flow": null,
      "grid_area": null,
      "grid_auto_columns": null,
      "grid_auto_flow": null,
      "grid_auto_rows": null,
      "grid_column": null,
      "grid_gap": null,
      "grid_row": null,
      "grid_template_areas": null,
      "grid_template_columns": null,
      "grid_template_rows": null,
      "height": null,
      "justify_content": null,
      "justify_items": null,
      "left": null,
      "margin": null,
      "max_height": null,
      "max_width": null,
      "min_height": null,
      "min_width": null,
      "object_fit": null,
      "object_position": null,
      "order": null,
      "overflow": null,
      "overflow_x": null,
      "overflow_y": null,
      "padding": null,
      "right": null,
      "top": null,
      "visibility": null,
      "width": null
     }
    },
    "b2f6f2e94b7e49b6a617fdffce627f55": {
     "model_module": "@jupyter-widgets/base",
     "model_module_version": "1.2.0",
     "model_name": "LayoutModel",
     "state": {
      "_model_module": "@jupyter-widgets/base",
      "_model_module_version": "1.2.0",
      "_model_name": "LayoutModel",
      "_view_count": null,
      "_view_module": "@jupyter-widgets/base",
      "_view_module_version": "1.2.0",
      "_view_name": "LayoutView",
      "align_content": null,
      "align_items": null,
      "align_self": null,
      "border": null,
      "bottom": null,
      "display": null,
      "flex": null,
      "flex_flow": null,
      "grid_area": null,
      "grid_auto_columns": null,
      "grid_auto_flow": null,
      "grid_auto_rows": null,
      "grid_column": null,
      "grid_gap": null,
      "grid_row": null,
      "grid_template_areas": null,
      "grid_template_columns": null,
      "grid_template_rows": null,
      "height": null,
      "justify_content": null,
      "justify_items": null,
      "left": null,
      "margin": null,
      "max_height": null,
      "max_width": null,
      "min_height": null,
      "min_width": null,
      "object_fit": null,
      "object_position": null,
      "order": null,
      "overflow": null,
      "overflow_x": null,
      "overflow_y": null,
      "padding": null,
      "right": null,
      "top": null,
      "visibility": null,
      "width": null
     }
    },
    "c23a46a1f0bc440ca645a1c67d9e569d": {
     "model_module": "@jupyter-widgets/base",
     "model_module_version": "1.2.0",
     "model_name": "LayoutModel",
     "state": {
      "_model_module": "@jupyter-widgets/base",
      "_model_module_version": "1.2.0",
      "_model_name": "LayoutModel",
      "_view_count": null,
      "_view_module": "@jupyter-widgets/base",
      "_view_module_version": "1.2.0",
      "_view_name": "LayoutView",
      "align_content": null,
      "align_items": null,
      "align_self": null,
      "border": null,
      "bottom": null,
      "display": null,
      "flex": null,
      "flex_flow": null,
      "grid_area": null,
      "grid_auto_columns": null,
      "grid_auto_flow": null,
      "grid_auto_rows": null,
      "grid_column": null,
      "grid_gap": null,
      "grid_row": null,
      "grid_template_areas": null,
      "grid_template_columns": null,
      "grid_template_rows": null,
      "height": null,
      "justify_content": null,
      "justify_items": null,
      "left": null,
      "margin": null,
      "max_height": null,
      "max_width": null,
      "min_height": null,
      "min_width": null,
      "object_fit": null,
      "object_position": null,
      "order": null,
      "overflow": null,
      "overflow_x": null,
      "overflow_y": null,
      "padding": null,
      "right": null,
      "top": null,
      "visibility": null,
      "width": null
     }
    },
    "c3c083b915124aa3ac069a44122d24c9": {
     "model_module": "@jupyter-widgets/controls",
     "model_module_version": "1.5.0",
     "model_name": "HTMLModel",
     "state": {
      "_dom_classes": [],
      "_model_module": "@jupyter-widgets/controls",
      "_model_module_version": "1.5.0",
      "_model_name": "HTMLModel",
      "_view_count": null,
      "_view_module": "@jupyter-widgets/controls",
      "_view_module_version": "1.5.0",
      "_view_name": "HTMLView",
      "description": "",
      "description_tooltip": null,
      "layout": "IPY_MODEL_3f508985d8324f14b63579a720a16cfb",
      "placeholder": "​",
      "style": "IPY_MODEL_18fb16907465448395a67e0daeb1d7bc",
      "value": "100%"
     }
    },
    "c410a702d48643be996548aaa64ca501": {
     "model_module": "@jupyter-widgets/base",
     "model_module_version": "1.2.0",
     "model_name": "LayoutModel",
     "state": {
      "_model_module": "@jupyter-widgets/base",
      "_model_module_version": "1.2.0",
      "_model_name": "LayoutModel",
      "_view_count": null,
      "_view_module": "@jupyter-widgets/base",
      "_view_module_version": "1.2.0",
      "_view_name": "LayoutView",
      "align_content": null,
      "align_items": null,
      "align_self": null,
      "border": null,
      "bottom": null,
      "display": null,
      "flex": null,
      "flex_flow": null,
      "grid_area": null,
      "grid_auto_columns": null,
      "grid_auto_flow": null,
      "grid_auto_rows": null,
      "grid_column": null,
      "grid_gap": null,
      "grid_row": null,
      "grid_template_areas": null,
      "grid_template_columns": null,
      "grid_template_rows": null,
      "height": null,
      "justify_content": null,
      "justify_items": null,
      "left": null,
      "margin": null,
      "max_height": null,
      "max_width": null,
      "min_height": null,
      "min_width": null,
      "object_fit": null,
      "object_position": null,
      "order": null,
      "overflow": null,
      "overflow_x": null,
      "overflow_y": null,
      "padding": null,
      "right": null,
      "top": null,
      "visibility": null,
      "width": null
     }
    },
    "d18cd8ba77a041e9b7f986f6a10a9089": {
     "model_module": "@jupyter-widgets/controls",
     "model_module_version": "1.5.0",
     "model_name": "HBoxModel",
     "state": {
      "_dom_classes": [],
      "_model_module": "@jupyter-widgets/controls",
      "_model_module_version": "1.5.0",
      "_model_name": "HBoxModel",
      "_view_count": null,
      "_view_module": "@jupyter-widgets/controls",
      "_view_module_version": "1.5.0",
      "_view_name": "HBoxView",
      "box_style": "",
      "children": [
       "IPY_MODEL_30e7a9cf089745b4936af8df5727b646",
       "IPY_MODEL_47d355af9fd64168b13ecd5d0267439a",
       "IPY_MODEL_589d9a40396d4f40b1d8e0d8e19f70d8"
      ],
      "layout": "IPY_MODEL_402321aba5364603a2fe8ec2d0602a9c"
     }
    },
    "d639f69f8aa645238e81e164beb64786": {
     "model_module": "@jupyter-widgets/base",
     "model_module_version": "1.2.0",
     "model_name": "LayoutModel",
     "state": {
      "_model_module": "@jupyter-widgets/base",
      "_model_module_version": "1.2.0",
      "_model_name": "LayoutModel",
      "_view_count": null,
      "_view_module": "@jupyter-widgets/base",
      "_view_module_version": "1.2.0",
      "_view_name": "LayoutView",
      "align_content": null,
      "align_items": null,
      "align_self": null,
      "border": null,
      "bottom": null,
      "display": null,
      "flex": null,
      "flex_flow": null,
      "grid_area": null,
      "grid_auto_columns": null,
      "grid_auto_flow": null,
      "grid_auto_rows": null,
      "grid_column": null,
      "grid_gap": null,
      "grid_row": null,
      "grid_template_areas": null,
      "grid_template_columns": null,
      "grid_template_rows": null,
      "height": null,
      "justify_content": null,
      "justify_items": null,
      "left": null,
      "margin": null,
      "max_height": null,
      "max_width": null,
      "min_height": null,
      "min_width": null,
      "object_fit": null,
      "object_position": null,
      "order": null,
      "overflow": null,
      "overflow_x": null,
      "overflow_y": null,
      "padding": null,
      "right": null,
      "top": null,
      "visibility": null,
      "width": null
     }
    },
    "e4f8682349734a8ebbfdf39c9b3ff976": {
     "model_module": "@jupyter-widgets/controls",
     "model_module_version": "1.5.0",
     "model_name": "HBoxModel",
     "state": {
      "_dom_classes": [],
      "_model_module": "@jupyter-widgets/controls",
      "_model_module_version": "1.5.0",
      "_model_name": "HBoxModel",
      "_view_count": null,
      "_view_module": "@jupyter-widgets/controls",
      "_view_module_version": "1.5.0",
      "_view_name": "HBoxView",
      "box_style": "",
      "children": [
       "IPY_MODEL_c3c083b915124aa3ac069a44122d24c9",
       "IPY_MODEL_f025d85193744c6ba6fc4115a22be8a5",
       "IPY_MODEL_8833ab479835449eb98861bcf33991cc"
      ],
      "layout": "IPY_MODEL_c410a702d48643be996548aaa64ca501"
     }
    },
    "eb02687d65dc40c6b3fedfaf6447664b": {
     "model_module": "@jupyter-widgets/controls",
     "model_module_version": "1.5.0",
     "model_name": "FloatProgressModel",
     "state": {
      "_dom_classes": [],
      "_model_module": "@jupyter-widgets/controls",
      "_model_module_version": "1.5.0",
      "_model_name": "FloatProgressModel",
      "_view_count": null,
      "_view_module": "@jupyter-widgets/controls",
      "_view_module_version": "1.5.0",
      "_view_name": "ProgressView",
      "bar_style": "success",
      "description": "",
      "description_tooltip": null,
      "layout": "IPY_MODEL_aa70a674da09469298aa18fd38e5a3dd",
      "max": 26421880,
      "min": 0,
      "orientation": "horizontal",
      "style": "IPY_MODEL_42fe717f238144dab7db13fbe0c7ad49",
      "value": 26421880
     }
    },
    "ecbab07c1ff94306bc3223e003ba7e6d": {
     "model_module": "@jupyter-widgets/controls",
     "model_module_version": "1.5.0",
     "model_name": "HBoxModel",
     "state": {
      "_dom_classes": [],
      "_model_module": "@jupyter-widgets/controls",
      "_model_module_version": "1.5.0",
      "_model_name": "HBoxModel",
      "_view_count": null,
      "_view_module": "@jupyter-widgets/controls",
      "_view_module_version": "1.5.0",
      "_view_name": "HBoxView",
      "box_style": "",
      "children": [
       "IPY_MODEL_9dbd131dcb1048a8b7a512e68c8164c3",
       "IPY_MODEL_a1e2310ada11416380ccdae6a9526fb0",
       "IPY_MODEL_17c1ad1186944afa861ab919ae7fd6f8"
      ],
      "layout": "IPY_MODEL_4251ec30208247d7bf933fc96928a67b"
     }
    },
    "ecf349a24d8c4f488c657e2cf5631991": {
     "model_module": "@jupyter-widgets/controls",
     "model_module_version": "1.5.0",
     "model_name": "HTMLModel",
     "state": {
      "_dom_classes": [],
      "_model_module": "@jupyter-widgets/controls",
      "_model_module_version": "1.5.0",
      "_model_name": "HTMLModel",
      "_view_count": null,
      "_view_module": "@jupyter-widgets/controls",
      "_view_module_version": "1.5.0",
      "_view_name": "HTMLView",
      "description": "",
      "description_tooltip": null,
      "layout": "IPY_MODEL_8b3b8e2b0fc348509d2bb0f289d0fd6c",
      "placeholder": "​",
      "style": "IPY_MODEL_171b2f2ab7ae4dae8795c0f5026221af",
      "value": " 26421880/26421880 [00:00&lt;00:00, 128336097.27it/s]"
     }
    },
    "f025d85193744c6ba6fc4115a22be8a5": {
     "model_module": "@jupyter-widgets/controls",
     "model_module_version": "1.5.0",
     "model_name": "FloatProgressModel",
     "state": {
      "_dom_classes": [],
      "_model_module": "@jupyter-widgets/controls",
      "_model_module_version": "1.5.0",
      "_model_name": "FloatProgressModel",
      "_view_count": null,
      "_view_module": "@jupyter-widgets/controls",
      "_view_module_version": "1.5.0",
      "_view_name": "ProgressView",
      "bar_style": "success",
      "description": "",
      "description_tooltip": null,
      "layout": "IPY_MODEL_fc2d9ccb1a0d434baf561ff3a7bbe234",
      "max": 5148,
      "min": 0,
      "orientation": "horizontal",
      "style": "IPY_MODEL_a3110445ecde4d60b2ace874c6c32030",
      "value": 5148
     }
    },
    "fb83bb14d1fb48b4a3c803a79e8de320": {
     "model_module": "@jupyter-widgets/controls",
     "model_module_version": "1.5.0",
     "model_name": "HTMLModel",
     "state": {
      "_dom_classes": [],
      "_model_module": "@jupyter-widgets/controls",
      "_model_module_version": "1.5.0",
      "_model_name": "HTMLModel",
      "_view_count": null,
      "_view_module": "@jupyter-widgets/controls",
      "_view_module_version": "1.5.0",
      "_view_name": "HTMLView",
      "description": "",
      "description_tooltip": null,
      "layout": "IPY_MODEL_c23a46a1f0bc440ca645a1c67d9e569d",
      "placeholder": "​",
      "style": "IPY_MODEL_fee9eb554c2a4a54b4dee30e2d8624f9",
      "value": "100%"
     }
    },
    "fc2d9ccb1a0d434baf561ff3a7bbe234": {
     "model_module": "@jupyter-widgets/base",
     "model_module_version": "1.2.0",
     "model_name": "LayoutModel",
     "state": {
      "_model_module": "@jupyter-widgets/base",
      "_model_module_version": "1.2.0",
      "_model_name": "LayoutModel",
      "_view_count": null,
      "_view_module": "@jupyter-widgets/base",
      "_view_module_version": "1.2.0",
      "_view_name": "LayoutView",
      "align_content": null,
      "align_items": null,
      "align_self": null,
      "border": null,
      "bottom": null,
      "display": null,
      "flex": null,
      "flex_flow": null,
      "grid_area": null,
      "grid_auto_columns": null,
      "grid_auto_flow": null,
      "grid_auto_rows": null,
      "grid_column": null,
      "grid_gap": null,
      "grid_row": null,
      "grid_template_areas": null,
      "grid_template_columns": null,
      "grid_template_rows": null,
      "height": null,
      "justify_content": null,
      "justify_items": null,
      "left": null,
      "margin": null,
      "max_height": null,
      "max_width": null,
      "min_height": null,
      "min_width": null,
      "object_fit": null,
      "object_position": null,
      "order": null,
      "overflow": null,
      "overflow_x": null,
      "overflow_y": null,
      "padding": null,
      "right": null,
      "top": null,
      "visibility": null,
      "width": null
     }
    },
    "fc8d247c70004b5797ae4cf786ec389b": {
     "model_module": "@jupyter-widgets/controls",
     "model_module_version": "1.5.0",
     "model_name": "ProgressStyleModel",
     "state": {
      "_model_module": "@jupyter-widgets/controls",
      "_model_module_version": "1.5.0",
      "_model_name": "ProgressStyleModel",
      "_view_count": null,
      "_view_module": "@jupyter-widgets/base",
      "_view_module_version": "1.2.0",
      "_view_name": "StyleView",
      "bar_color": null,
      "description_width": ""
     }
    },
    "fee9eb554c2a4a54b4dee30e2d8624f9": {
     "model_module": "@jupyter-widgets/controls",
     "model_module_version": "1.5.0",
     "model_name": "DescriptionStyleModel",
     "state": {
      "_model_module": "@jupyter-widgets/controls",
      "_model_module_version": "1.5.0",
      "_model_name": "DescriptionStyleModel",
      "_view_count": null,
      "_view_module": "@jupyter-widgets/base",
      "_view_module_version": "1.2.0",
      "_view_name": "StyleView",
      "description_width": ""
     }
    }
   }
  }
 },
 "nbformat": 4,
 "nbformat_minor": 4
}
